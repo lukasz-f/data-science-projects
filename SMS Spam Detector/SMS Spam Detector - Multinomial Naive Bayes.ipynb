{
 "cells": [
  {
   "cell_type": "code",
   "execution_count": 66,
   "metadata": {
    "collapsed": true
   },
   "outputs": [],
   "source": [
    "import pandas as pd\n",
    "import matplotlib.pyplot as plt\n",
    "import seaborn as sns\n",
    "import string\n",
    "\n",
    "from nltk.corpus import stopwords\n",
    "from sklearn.feature_extraction.text import CountVectorizer\n",
    "from sklearn.feature_extraction.text import TfidfTransformer\n",
    "\n",
    "from sklearn.naive_bayes import MultinomialNB\n",
    "from sklearn.model_selection import train_test_split\n",
    "from sklearn.metrics import accuracy_score"
   ]
  },
  {
   "cell_type": "code",
   "execution_count": 2,
   "metadata": {},
   "outputs": [
    {
     "data": {
      "text/html": [
       "<div>\n",
       "<style>\n",
       "    .dataframe thead tr:only-child th {\n",
       "        text-align: right;\n",
       "    }\n",
       "\n",
       "    .dataframe thead th {\n",
       "        text-align: left;\n",
       "    }\n",
       "\n",
       "    .dataframe tbody tr th {\n",
       "        vertical-align: top;\n",
       "    }\n",
       "</style>\n",
       "<table border=\"1\" class=\"dataframe\">\n",
       "  <thead>\n",
       "    <tr style=\"text-align: right;\">\n",
       "      <th></th>\n",
       "      <th>label</th>\n",
       "      <th>message</th>\n",
       "    </tr>\n",
       "  </thead>\n",
       "  <tbody>\n",
       "    <tr>\n",
       "      <th>0</th>\n",
       "      <td>ham</td>\n",
       "      <td>Go until jurong point, crazy.. Available only ...</td>\n",
       "    </tr>\n",
       "    <tr>\n",
       "      <th>1</th>\n",
       "      <td>ham</td>\n",
       "      <td>Ok lar... Joking wif u oni...</td>\n",
       "    </tr>\n",
       "    <tr>\n",
       "      <th>2</th>\n",
       "      <td>spam</td>\n",
       "      <td>Free entry in 2 a wkly comp to win FA Cup fina...</td>\n",
       "    </tr>\n",
       "    <tr>\n",
       "      <th>3</th>\n",
       "      <td>ham</td>\n",
       "      <td>U dun say so early hor... U c already then say...</td>\n",
       "    </tr>\n",
       "    <tr>\n",
       "      <th>4</th>\n",
       "      <td>ham</td>\n",
       "      <td>Nah I don't think he goes to usf, he lives aro...</td>\n",
       "    </tr>\n",
       "  </tbody>\n",
       "</table>\n",
       "</div>"
      ],
      "text/plain": [
       "  label                                            message\n",
       "0   ham  Go until jurong point, crazy.. Available only ...\n",
       "1   ham                      Ok lar... Joking wif u oni...\n",
       "2  spam  Free entry in 2 a wkly comp to win FA Cup fina...\n",
       "3   ham  U dun say so early hor... U c already then say...\n",
       "4   ham  Nah I don't think he goes to usf, he lives aro..."
      ]
     },
     "execution_count": 2,
     "metadata": {},
     "output_type": "execute_result"
    }
   ],
   "source": [
    "sms = pd.read_csv('SMSSpamCollection', sep='\\t', names=['label', 'message'])\n",
    "sms.head()"
   ]
  },
  {
   "cell_type": "code",
   "execution_count": 3,
   "metadata": {},
   "outputs": [
    {
     "data": {
      "text/html": [
       "<div>\n",
       "<style>\n",
       "    .dataframe thead tr:only-child th {\n",
       "        text-align: right;\n",
       "    }\n",
       "\n",
       "    .dataframe thead th {\n",
       "        text-align: left;\n",
       "    }\n",
       "\n",
       "    .dataframe tbody tr th {\n",
       "        vertical-align: top;\n",
       "    }\n",
       "</style>\n",
       "<table border=\"1\" class=\"dataframe\">\n",
       "  <thead>\n",
       "    <tr style=\"text-align: right;\">\n",
       "      <th></th>\n",
       "      <th>label</th>\n",
       "      <th>message</th>\n",
       "    </tr>\n",
       "  </thead>\n",
       "  <tbody>\n",
       "    <tr>\n",
       "      <th>count</th>\n",
       "      <td>5572</td>\n",
       "      <td>5572</td>\n",
       "    </tr>\n",
       "    <tr>\n",
       "      <th>unique</th>\n",
       "      <td>2</td>\n",
       "      <td>5169</td>\n",
       "    </tr>\n",
       "    <tr>\n",
       "      <th>top</th>\n",
       "      <td>ham</td>\n",
       "      <td>Sorry, I'll call later</td>\n",
       "    </tr>\n",
       "    <tr>\n",
       "      <th>freq</th>\n",
       "      <td>4825</td>\n",
       "      <td>30</td>\n",
       "    </tr>\n",
       "  </tbody>\n",
       "</table>\n",
       "</div>"
      ],
      "text/plain": [
       "       label                 message\n",
       "count   5572                    5572\n",
       "unique     2                    5169\n",
       "top      ham  Sorry, I'll call later\n",
       "freq    4825                      30"
      ]
     },
     "execution_count": 3,
     "metadata": {},
     "output_type": "execute_result"
    }
   ],
   "source": [
    "sms.describe()"
   ]
  },
  {
   "cell_type": "code",
   "execution_count": 4,
   "metadata": {},
   "outputs": [
    {
     "data": {
      "text/html": [
       "<div>\n",
       "<style>\n",
       "    .dataframe thead tr:only-child th {\n",
       "        text-align: right;\n",
       "    }\n",
       "\n",
       "    .dataframe thead th {\n",
       "        text-align: left;\n",
       "    }\n",
       "\n",
       "    .dataframe tbody tr th {\n",
       "        vertical-align: top;\n",
       "    }\n",
       "</style>\n",
       "<table border=\"1\" class=\"dataframe\">\n",
       "  <thead>\n",
       "    <tr>\n",
       "      <th></th>\n",
       "      <th colspan=\"4\" halign=\"left\">message</th>\n",
       "    </tr>\n",
       "    <tr>\n",
       "      <th></th>\n",
       "      <th>count</th>\n",
       "      <th>unique</th>\n",
       "      <th>top</th>\n",
       "      <th>freq</th>\n",
       "    </tr>\n",
       "    <tr>\n",
       "      <th>label</th>\n",
       "      <th></th>\n",
       "      <th></th>\n",
       "      <th></th>\n",
       "      <th></th>\n",
       "    </tr>\n",
       "  </thead>\n",
       "  <tbody>\n",
       "    <tr>\n",
       "      <th>ham</th>\n",
       "      <td>4825</td>\n",
       "      <td>4516</td>\n",
       "      <td>Sorry, I'll call later</td>\n",
       "      <td>30</td>\n",
       "    </tr>\n",
       "    <tr>\n",
       "      <th>spam</th>\n",
       "      <td>747</td>\n",
       "      <td>653</td>\n",
       "      <td>Please call our customer service representativ...</td>\n",
       "      <td>4</td>\n",
       "    </tr>\n",
       "  </tbody>\n",
       "</table>\n",
       "</div>"
      ],
      "text/plain": [
       "      message                                                               \n",
       "        count unique                                                top freq\n",
       "label                                                                       \n",
       "ham      4825   4516                             Sorry, I'll call later   30\n",
       "spam      747    653  Please call our customer service representativ...    4"
      ]
     },
     "execution_count": 4,
     "metadata": {},
     "output_type": "execute_result"
    }
   ],
   "source": [
    "sms.groupby('label').describe()"
   ]
  },
  {
   "cell_type": "code",
   "execution_count": 5,
   "metadata": {},
   "outputs": [
    {
     "data": {
      "text/html": [
       "<div>\n",
       "<style>\n",
       "    .dataframe thead tr:only-child th {\n",
       "        text-align: right;\n",
       "    }\n",
       "\n",
       "    .dataframe thead th {\n",
       "        text-align: left;\n",
       "    }\n",
       "\n",
       "    .dataframe tbody tr th {\n",
       "        vertical-align: top;\n",
       "    }\n",
       "</style>\n",
       "<table border=\"1\" class=\"dataframe\">\n",
       "  <thead>\n",
       "    <tr style=\"text-align: right;\">\n",
       "      <th></th>\n",
       "      <th>label</th>\n",
       "      <th>message</th>\n",
       "      <th>length</th>\n",
       "    </tr>\n",
       "  </thead>\n",
       "  <tbody>\n",
       "    <tr>\n",
       "      <th>0</th>\n",
       "      <td>ham</td>\n",
       "      <td>Go until jurong point, crazy.. Available only ...</td>\n",
       "      <td>111</td>\n",
       "    </tr>\n",
       "    <tr>\n",
       "      <th>1</th>\n",
       "      <td>ham</td>\n",
       "      <td>Ok lar... Joking wif u oni...</td>\n",
       "      <td>29</td>\n",
       "    </tr>\n",
       "    <tr>\n",
       "      <th>2</th>\n",
       "      <td>spam</td>\n",
       "      <td>Free entry in 2 a wkly comp to win FA Cup fina...</td>\n",
       "      <td>155</td>\n",
       "    </tr>\n",
       "    <tr>\n",
       "      <th>3</th>\n",
       "      <td>ham</td>\n",
       "      <td>U dun say so early hor... U c already then say...</td>\n",
       "      <td>49</td>\n",
       "    </tr>\n",
       "    <tr>\n",
       "      <th>4</th>\n",
       "      <td>ham</td>\n",
       "      <td>Nah I don't think he goes to usf, he lives aro...</td>\n",
       "      <td>61</td>\n",
       "    </tr>\n",
       "  </tbody>\n",
       "</table>\n",
       "</div>"
      ],
      "text/plain": [
       "  label                                            message  length\n",
       "0   ham  Go until jurong point, crazy.. Available only ...     111\n",
       "1   ham                      Ok lar... Joking wif u oni...      29\n",
       "2  spam  Free entry in 2 a wkly comp to win FA Cup fina...     155\n",
       "3   ham  U dun say so early hor... U c already then say...      49\n",
       "4   ham  Nah I don't think he goes to usf, he lives aro...      61"
      ]
     },
     "execution_count": 5,
     "metadata": {},
     "output_type": "execute_result"
    }
   ],
   "source": [
    "sms['length'] = sms['message'].apply(len)\n",
    "sms.head()"
   ]
  },
  {
   "cell_type": "code",
   "execution_count": 6,
   "metadata": {},
   "outputs": [
    {
     "data": {
      "image/png": "[encoded data removed]",
      "text/plain": [
       "<matplotlib.figure.Figure at 0x7fd6992ada90>"
      ]
     },
     "metadata": {},
     "output_type": "display_data"
    }
   ],
   "source": [
    "sms['length'].hist(bins=100)\n",
    "plt.show()"
   ]
  },
  {
   "cell_type": "code",
   "execution_count": 7,
   "metadata": {},
   "outputs": [
    {
     "data": {
      "text/plain": [
       "count    5572.000000\n",
       "mean       80.489950\n",
       "std        59.942907\n",
       "min         2.000000\n",
       "25%        36.000000\n",
       "50%        62.000000\n",
       "75%       122.000000\n",
       "max       910.000000\n",
       "Name: length, dtype: float64"
      ]
     },
     "execution_count": 7,
     "metadata": {},
     "output_type": "execute_result"
    }
   ],
   "source": [
    "sms['length'].describe()"
   ]
  },
  {
   "cell_type": "code",
   "execution_count": 8,
   "metadata": {},
   "outputs": [
    {
     "data": {
      "text/html": [
       "<div>\n",
       "<style>\n",
       "    .dataframe thead tr:only-child th {\n",
       "        text-align: right;\n",
       "    }\n",
       "\n",
       "    .dataframe thead th {\n",
       "        text-align: left;\n",
       "    }\n",
       "\n",
       "    .dataframe tbody tr th {\n",
       "        vertical-align: top;\n",
       "    }\n",
       "</style>\n",
       "<table border=\"1\" class=\"dataframe\">\n",
       "  <thead>\n",
       "    <tr style=\"text-align: right;\">\n",
       "      <th></th>\n",
       "      <th>label</th>\n",
       "      <th>message</th>\n",
       "      <th>length</th>\n",
       "    </tr>\n",
       "  </thead>\n",
       "  <tbody>\n",
       "    <tr>\n",
       "      <th>1085</th>\n",
       "      <td>ham</td>\n",
       "      <td>For me the love should start with attraction.i...</td>\n",
       "      <td>910</td>\n",
       "    </tr>\n",
       "  </tbody>\n",
       "</table>\n",
       "</div>"
      ],
      "text/plain": [
       "     label                                            message  length\n",
       "1085   ham  For me the love should start with attraction.i...     910"
      ]
     },
     "execution_count": 8,
     "metadata": {},
     "output_type": "execute_result"
    }
   ],
   "source": [
    "sms[sms['length'] == 910]"
   ]
  },
  {
   "cell_type": "code",
   "execution_count": 9,
   "metadata": {},
   "outputs": [
    {
     "data": {
      "text/plain": [
       "\"For me the love should start with attraction.i should feel that I need her every time around me.she should be the first thing which comes in my thoughts.I would start the day and end it with her.she should be there every time I dream.love will be then when my every breath has her name.my life should happen around her.my life will be named to her.I would cry for her.will give all my happiness and take all her sorrows.I will be ready to fight with anyone for her.I will be in love when I will be doing the craziest things for her.love will be when I don't have to proove anyone that my girl is the most beautiful lady on the whole planet.I will always be singing praises for her.love will be when I start up making chicken curry and end up makiing sambar.life will be the most beautiful then.will get every morning and thank god for the day because she is with me.I would like to say a lot..will tell later..\""
      ]
     },
     "execution_count": 9,
     "metadata": {},
     "output_type": "execute_result"
    }
   ],
   "source": [
    "sms[sms['length'] == 910]['message'].values[0]"
   ]
  },
  {
   "cell_type": "code",
   "execution_count": 10,
   "metadata": {},
   "outputs": [
    {
     "data": {
      "image/png": "[encoded data removed]",
      "text/plain": [
       "<matplotlib.figure.Figure at 0x7fd698f57eb8>"
      ]
     },
     "metadata": {},
     "output_type": "display_data"
    }
   ],
   "source": [
    "sms.hist(column='length', by='label', figsize=(15,5), bins=100)\n",
    "plt.show()"
   ]
  },
  {
   "cell_type": "code",
   "execution_count": 11,
   "metadata": {
    "collapsed": true
   },
   "outputs": [],
   "source": [
    "nltk_english_stopwords = stopwords.words('english')\n",
    "\n",
    "def my_tokenizer(message):\n",
    "    message = [char for char in message if char not in string.punctuation]  # remove punctuation\n",
    "    message = ''.join(message)\n",
    "    message = message.lower()  # downcase\n",
    "    message = [word for word in message.split() if word not in nltk_english_stopwords]  # remove stopwords\n",
    "    return message"
   ]
  },
  {
   "cell_type": "code",
   "execution_count": 12,
   "metadata": {},
   "outputs": [
    {
     "data": {
      "text/plain": [
       "0    [go, jurong, point, crazy, available, bugis, n...\n",
       "1                       [ok, lar, joking, wif, u, oni]\n",
       "2    [free, entry, 2, wkly, comp, win, fa, cup, fin...\n",
       "3        [u, dun, say, early, hor, u, c, already, say]\n",
       "4    [nah, dont, think, goes, usf, lives, around, t...\n",
       "Name: message, dtype: object"
      ]
     },
     "execution_count": 12,
     "metadata": {},
     "output_type": "execute_result"
    }
   ],
   "source": [
    "sms['message'].head().apply(my_tokenizer)"
   ]
  },
  {
   "cell_type": "code",
   "execution_count": 13,
   "metadata": {},
   "outputs": [
    {
     "data": {
      "text/plain": [
       "CountVectorizer(analyzer=<function my_tokenizer at 0x7fd69e1e1158>,\n",
       "        binary=False, decode_error='strict', dtype=<class 'numpy.int64'>,\n",
       "        encoding='utf-8', input='content', lowercase=True, max_df=1.0,\n",
       "        max_features=None, min_df=1, ngram_range=(1, 1), preprocessor=None,\n",
       "        stop_words=None, strip_accents=None,\n",
       "        token_pattern='(?u)\\\\b\\\\w\\\\w+\\\\b', tokenizer=None, vocabulary=None)"
      ]
     },
     "execution_count": 13,
     "metadata": {},
     "output_type": "execute_result"
    }
   ],
   "source": [
    "cv = CountVectorizer(analyzer=my_tokenizer)\n",
    "cv"
   ]
  },
  {
   "cell_type": "code",
   "execution_count": 14,
   "metadata": {},
   "outputs": [
    {
     "data": {
      "text/plain": [
       "CountVectorizer(analyzer=<function my_tokenizer at 0x7fd69e1e1158>,\n",
       "        binary=False, decode_error='strict', dtype=<class 'numpy.int64'>,\n",
       "        encoding='utf-8', input='content', lowercase=True, max_df=1.0,\n",
       "        max_features=None, min_df=1, ngram_range=(1, 1), preprocessor=None,\n",
       "        stop_words=None, strip_accents=None,\n",
       "        token_pattern='(?u)\\\\b\\\\w\\\\w+\\\\b', tokenizer=None, vocabulary=None)"
      ]
     },
     "execution_count": 14,
     "metadata": {},
     "output_type": "execute_result"
    }
   ],
   "source": [
    "cv.fit(sms['message'])"
   ]
  },
  {
   "cell_type": "code",
   "execution_count": 39,
   "metadata": {},
   "outputs": [
    {
     "name": "stdout",
     "output_type": "stream",
     "text": [
      "Words indices: {'go': 3786, 'jurong': 4696, 'point': 6445, 'crazy': 2485, 'available': 1389, 'bugis': 1860, 'n': 5686, 'great': 3883, 'world': 9208, 'la': 4858, 'e': 3016, 'buffet': 1858, 'cine': 2200, 'got': 3843, 'amore': 1156, 'wat': 8969, 'ok': 6006, 'lar': 4897, 'joking': 4664, 'wif': 9103, 'u': 8626, 'oni': 6038, 'free': 3571, 'entry': 3152, '2': 416, 'wkly': 9160, 'comp': 2316, 'win': 9117, 'fa': 3290, 'cup': 2541, 'final': 3415, 'tkts': 8398, '21st': 436, 'may': 5345, '2005': 423, 'text': 8233, '87121': 849, 'receive': 6848, 'questionstd': 6738, 'txt': 8610, 'ratetcs': 6791, 'apply': 1242, '08452810075over18s': 72, 'dun': 3002, 'say': 7208, 'early': 3023, 'hor': 4219, 'c': 1910, 'already': 1129, 'nah': 5693, 'dont': 2907, 'think': 8309, 'goes': 3800, 'usf': 8760, 'lives': 5060, 'around': 1293, 'though': 8328, 'freemsg': 3579, 'hey': 4114, 'darling': 2605, '3': 527, 'weeks': 9023, 'word': 9194, 'back': 1442, 'id': 4340, 'like': 5010, 'fun': 3646, 'still': 7875, 'tb': 8163, 'xxx': 9334, 'std': 7850, 'chgs': 2145, 'send': 7303, '£150': 9478, 'rcv': 6803, 'even': 3199, 'brother': 1826, 'speak': 7721, 'treat': 8535, 'aids': 1075, 'patent': 6238, 'per': 6280, 'request': 6961, 'melle': 5388, 'oru': 6102, 'minnaminunginte': 5471, 'nurungu': 5933, 'vettam': 8825, 'set': 7332, 'callertune': 1946, 'callers': 1945, 'press': 6575, '9': 887, 'copy': 2421, 'friends': 3604, 'winner': 9128, 'valued': 8796, 'network': 5769, 'customer': 2554, 'selected': 7289, 'receivea': 6849, '£900': 9519, 'prize': 6609, 'reward': 7020, 'claim': 2206, 'call': 1927, '09061701461': 218, 'code': 2267, 'kl341': 4813, 'valid': 8792, '12': 324, 'hours': 4238, 'mobile': 5530, '11': 313, 'months': 5575, 'r': 6752, 'entitled': 3149, 'update': 8715, 'latest': 4914, 'colour': 2290, 'mobiles': 5531, 'camera': 1963, 'co': 2256, '08002986030': 57, 'im': 4370, 'gonna': 3817, 'home': 4185, 'soon': 7671, 'want': 8948, 'talk': 8129, 'stuff': 7949, 'anymore': 1209, 'tonight': 8457, 'k': 4703, 'ive': 4568, 'cried': 2502, 'enough': 3140, 'today': 8415, 'six': 7523, 'chances': 2082, 'cash': 2025, '100': 293, '20000': 420, 'pounds': 6512, 'csh11': 2519, '87575': 853, 'cost': 2434, '150pday': 352, '6days': 736, '16': 376, 'tsandcs': 8570, 'reply': 6953, 'hl': 4151, '4': 587, 'info': 4433, 'urgent': 8738, '1': 291, 'week': 9018, 'membership': 5394, '£100000': 9472, 'jackpot': 4586, '81010': 799, 'tc': 8165, 'wwwdbuknet': 9277, 'lccltd': 4932, 'pobox': 6424, '4403ldnw1a7rw18': 608, 'searching': 7256, 'right': 7032, 'words': 9197, 'thank': 8251, 'breather': 1795, 'promise': 6648, 'wont': 9185, 'take': 8120, 'help': 4082, 'granted': 3872, 'fulfil': 3642, 'wonderful': 9182, 'blessing': 1666, 'times': 8373, 'date': 2614, 'sunday': 8017, 'xxxmobilemovieclub': 9335, 'use': 8754, 'credit': 2492, 'click': 2228, 'wap': 8953, 'link': 5033, 'next': 5788, 'message': 5419, 'httpwap': 4268, 'xxxmobilemovieclubcomnqjkgighjjgcbl': 9336, 'oh': 5999, 'kim': 4780, 'watching': 8974, 'eh': 3073, 'remember': 6920, 'spell': 7737, 'name': 5699, 'yes': 9374, 'v': 8784, 'naughty': 5725, 'make': 5263, 'wet': 9060, 'fine': 3423, 'that\\x92s': 8269, 'way': 8985, 'feel': 3367, 'gota': 3844, 'b': 1421, 'england': 3131, 'macedonia': 5225, 'miss': 5490, 'goalsteam': 3792, 'news': 5783, 'ur': 8735, 'national': 5718, 'team': 8179, '87077': 848, 'eg': 3064, 'trywales': 8568, 'scotland': 7235, '4txtú120': 655, 'poboxox36504w45wq': 6436, 'seriously': 7325, 'i‘m': 4578, 'going': 3805, 'try': 8565, 'ha': 3955, 'ü': 9523, 'pay': 6249, 'first': 3443, 'da': 2570, 'stock': 7879, 'comin': 2306, 'aft': 1037, 'finish': 3429, 'lunch': 5191, 'str': 7906, 'lor': 5116, 'ard': 1269, 'smth': 7609, 'ffffffffff': 3385, 'alright': 1131, 'meet': 5373, 'sooner': 7673, 'forced': 3521, 'eat': 3036, 'slice': 7558, 'really': 6828, 'hungry': 4296, 'tho': 8324, 'sucks': 7987, 'mark': 5299, 'getting': 3745, 'worried': 9214, 'knows': 4825, 'sick': 7466, 'turn': 8591, 'pizza': 6374, 'lol': 5093, 'always': 1141, 'convincing': 2407, 'catch': 2037, 'bus': 1880, 'frying': 3630, 'egg': 3068, 'tea': 8173, 'eating': 3039, 'moms': 5554, 'left': 4954, 'dinner': 2814, 'love': 5142, 'amp': 1158, 'packing': 6161, 'car': 1991, 'ill': 4366, 'let': 4977, 'know': 4820, 'theres': 8294, 'room': 7078, 'ahhh': 1066, 'work': 9200, 'vaguely': 8787, 'wait': 8918, 'thats': 8268, 'clear': 2222, 'sure': 8045, 'sarcastic': 7182, 'x': 9314, 'doesnt': 2878, 'live': 5056, 'us': 8750, 'yeah': 9361, 'apologetic': 1230, 'fallen': 3317, 'actin': 975, 'spoilt': 7765, 'child': 2161, 'caught': 2041, 'till': 8367, 'badly': 1448, 'cheers': 2127, 'tell': 8198, 'anything': 1215, 'fear': 3359, 'fainting': 3307, 'housework': 4243, 'quick': 6739, 'cuppa': 2543, 'thanks': 8252, 'subscription': 7976, 'ringtone': 7041, 'uk': 8642, 'charged': 2094, '£5month': 9511, 'please': 6403, 'confirm': 2362, 'replying': 6955, 'yup': 9445, 'look': 5104, 'timings': 8380, 'msg': 5618, 'xuhui': 9330, 'learn': 4943, '2nd': 501, 'lesson': 4975, '8am': 876, 'oops': 6056, 'roommates': 7081, 'done': 2904, 'see': 7273, 'letter': 4979, 'decide': 2669, 'hello': 4075, 'hows': 4250, 'saturday': 7198, 'texting': 8241, 'youd': 9408, 'decided': 2670, 'tomo': 8442, 'trying': 8567, 'invite': 4497, 'pls': 6411, 'ahead': 1064, 'watts': 8983, 'wanted': 8950, 'weekend': 9020, 'abiola': 927, 'forget': 3527, 'need': 5744, 'crave': 2482, 'sweet': 8076, 'arabian': 1266, 'steed': 7857, 'mmmmmm': 5520, 'yummy': 9440, '07732584351': 29, 'rodger': 7067, 'burns': 1877, 'tried': 8544, 'sms': 7603, 'nokia': 5853, 'camcorder': 1961, '08000930705': 53, 'delivery': 2708, 'tomorrow': 8445, 'seeing': 7275, 'hope': 4209, 'man': 5273, 'well': 9037, 'endowed': 3121, 'ltgt': 5176, 'inches': 4401, 'callsmessagesmissed': 1954, 'calls': 1952, 'didnt': 2782, 'get': 3737, 'hep': 4096, 'immunisation': 4382, 'nigeria': 5801, 'fair': 3308, 'hopefully': 4213, 'tyler': 8620, 'cant': 1980, 'could': 2446, 'maybe': 5347, 'ask': 1321, 'bit': 1641, 'stubborn': 7937, 'hospital': 4226, 'kept': 4751, 'telling': 8199, 'weak': 8991, 'sucker': 7985, 'hospitals': 4227, 'suckers': 7986, 'thinked': 8310, 'time': 8369, 'saw': 7207, 'class': 2214, 'gram': 3864, 'usually': 8771, 'runs': 7125, 'half': 3972, 'eighth': 3076, 'smarter': 7581, 'gets': 3741, 'almost': 1125, 'whole': 9092, 'second': 7260, 'fyi': 3661, 'ride': 7031, 'morning': 5584, 'hes': 4109, 'crashing': 2481, 'place': 6376, 'wow': 9233, 'never': 5774, 'realized': 6826, 'embarassed': 3101, 'accomodations': 955, 'thought': 8329, 'liked': 5011, 'since': 7493, 'best': 1595, 'seemed': 7279, 'happy': 4006, 'cave': 2045, 'sorry': 7683, 'give': 3767, 'offered': 5979, 'embarassing': 3102, 'ac': 941, 'sptv': 7788, 'new': 5778, 'jersey': 4630, 'devils': 2761, 'detroit': 2755, 'red': 6872, 'wings': 9126, 'play': 6392, 'ice': 4335, 'hockey': 4169, 'correct': 2426, 'incorrect': 4412, 'end': 3116, 'mallika': 5272, 'sherawat': 7386, 'yesterday': 9389, 'find': 3420, 'lturlgt': 5179, 'congrats': 2369, 'year': 9363, 'special': 7723, 'cinema': 2201, 'pass': 6226, '09061209465': 213, 'suprman': 8043, 'matrix3': 5332, 'starwars3': 7837, 'etc': 3185, 'bx420ip45we': 1903, '150pm': 353, 'later': 4912, 'meeting': 5376, 'reached': 6809, 'yesgauti': 9382, 'sehwag': 7286, 'odi': 5972, 'series': 7323, 'pick': 6344, 'burger': 1872, 'move': 5602, 'pain': 6168, 'killing': 4777, 'good': 3819, 'joke': 4659, 'girls': 3764, 'situation': 7519, 'seekers': 7276, 'part': 6213, 'checking': 2121, 'iq': 4512, 'took': 8464, 'forever': 3524, 'come': 2298, 'double': 2924, 'check': 2117, 'hair': 3967, 'dresser': 2959, 'said': 7150, 'wun': 9263, 'cut': 2558, 'short': 7427, 'nice': 5794, 'pleased': 6404, 'advise': 1020, 'following': 3502, 'recent': 6852, 'review': 7018, 'mob': 5528, 'awarded': 1408, '£1500': 9479, 'bonus': 1710, '09066364589': 262, 'song': 7665, 'dedicated': 2680, 'day': 2627, 'dedicate': 2679, 'valuable': 8794, 'frnds': 3614, 'rply': 7098, 'complimentary': 2335, 'trip': 8545, 'eurodisinc': 3192, 'trav': 8527, 'acoentry41': 970, '£1000': 9470, 'dis': 2827, '186£150morefrmmob': 385, 'shracomorsglsuplt10': 7451, 'ls1': 5165, '3aj': 560, 'hear': 4050, 'divorce': 2856, 'barbie': 1479, 'comes': 2302, 'kens': 4749, 'plane': 6383, 'month': 5571, 'wah': 8911, 'lucky': 5184, 'save': 7203, 'money': 5559, 'hee': 4066, 'finished': 3431, 'hi': 4120, 'babe': 1430, 'wanna': 8946, 'something': 7651, 'xx': 9331, 'kkwhere': 4810, 'youhow': 9411, 'performed': 6287, 'waiting': 8922, 'machan': 5227, 'cool': 2413, 'gentleman': 3728, 'dignity': 2804, 'respect': 6982, 'peoples': 6279, 'much': 5638, 'shy': 7461, 'pa': 6156, 'operate': 6063, 'looking': 5108, 'job': 4645, 'tas': 8147, 'earn': 3024, 'ah': 1062, 'stop': 7889, 'urgnt': 8742, 'real': 6819, 'yo': 9399, 'tickets': 8358, 'one': 6034, 'jacket': 4585, 'used': 8755, 'multis': 5649, 'started': 7830, 'requests': 6962, 'came': 1962, 'bed': 1549, 'coins': 2274, 'factory': 3298, 'gotta': 3848, 'nitros': 5825, 'ela': 3081, 'kanoil': 4725, 'download': 2932, 'wen': 9043, 'don‘t': 2914, 'stand': 7818, 'close': 2235, 'you‘ll': 9432, 'another': 1193, 'night': 5803, 'spent': 7742, 'late': 4907, 'afternoon': 1039, 'casualty': 2035, 'means': 5359, 'havent': 4031, 'stuff42moro': 7950, 'includes': 4405, 'sheets': 7381, 'smile': 7590, 'pleasure': 6406, 'trouble': 8551, 'pours': 6514, 'rain': 6764, 'sum1': 8008, 'hurts': 4311, 'becoz': 1547, 'someone': 7644, 'loves': 5152, 'smiling': 7594, 'service': 7328, 'representative': 6959, '0800': 49, '169': 378, '6031': 704, '10am9pm': 307, 'guaranteed': 3922, '£5000': 9506, 'planning': 6388, 'buy': 1892, 'lido': 4992, '530': 676, 'show': 7442, 'collected': 2283, 'simply': 7490, 'password': 6234, 'mix': 5510, '85069': 834, 'verify': 8821, 'usher': 8762, 'britney': 1816, 'fml': 3492, 'po': 6422, 'box': 1746, '5249': 673, 'mk17': 5513, '92h': 892, '450ppw': 619, 'telugu': 8204, 'moviewat': 5607, 'abt': 936, 'loads': 5070, 'loans': 5072, 'wk': 9156, 'hols': 4183, 'run': 7122, 'forgot': 3532, 'hairdressers': 3969, 'appointment': 1246, 'four': 3552, 'shower': 7444, 'beforehand': 1564, 'cause': 2042, 'prob': 6615, 'coffee': 2269, 'animation': 1180, 'nothing': 5887, 'else': 3095, 'okay': 6007, 'price': 6588, 'long': 5100, 'legal': 4957, 'ave': 1395, 'ams': 1162, 'gone': 3814, '4the': 652, 'driving': 2968, 'test': 8227, 'yet': 9390, 'youre': 9421, 'mean': 5355, 'guess': 3930, 'gave': 3696, 'boston': 1732, 'men': 5399, 'changed': 2084, 'search': 7255, 'location': 5075, 'nyc': 5943, 'cuz': 2565, 'signin': 7478, 'page': 6164, 'says': 7213, 'umma': 8651, 'life': 4995, 'vava': 8808, 'lot': 5126, 'dear': 2651, 'wishes': 9141, 'birthday': 1639, 'making': 5267, 'truly': 8559, 'memorable': 5396, 'aight': 1077, 'hit': 4142, 'would': 9229, 'ip': 4505, 'address': 994, 'considering': 2380, 'computer': 2342, 'isnt': 4531, 'minecraft': 5467, 'server': 7327, 'grumpy': 3914, 'old': 6024, 'people': 6278, 'mom': 5551, 'better': 1603, 'lying': 5207, 'jokes': 4661, 'worry': 9217, 'busy': 1886, 'plural': 6416, 'noun': 5896, 'research': 6968, 'dinnermsg': 2815, 'cos': 2432, 'things': 8308, 'scared': 7220, 'mah': 5251, 'loud': 5137, 'gent': 3726, 'contact': 2385, 'last': 4904, 'weekends': 9021, 'draw': 2946, 'shows': 7450, '09064012160': 237, 'k52': 4704, '12hrs': 335, '150ppm': 363, 'wa': 8906, 'openin': 6060, 'sentence': 7316, 'formal': 3535, 'anyway': 1219, 'juz': 4702, 'tt': 8577, 'eatin': 3038, 'puttin': 6715, 'weighthaha': 9028, 'anythin': 1214, 'happened': 3998, 'entered': 3142, 'cabin': 1913, 'bday': 1532, 'boss': 1731, 'felt': 3377, 'askd': 1322, 'invited': 4498, 'apartment': 1224, 'went': 9046, 'specially': 7728, 'holiday': 4179, 'flights': 3469, 'inc': 4399, 'operator': 6064, '0871277810910pmin': 122, '18': 381, 'goodo': 3833, 'must': 5669, 'friday': 3597, 'eggpotato': 3069, 'ratio': 6793, 'tortilla': 8483, 'needed': 5746, 'hmmmy': 4164, 'uncle': 8658, 'informed': 4437, 'paying': 6255, 'school': 7226, 'directly': 2821, 'food': 3510, 'private': 6606, '2004': 422, 'account': 959, 'statement': 7840, '07742676969': 31, '786': 766, 'unredeemed': 8700, 'points': 6446, '08719180248': 170, 'identifier': 4347, '45239': 621, 'expires': 3268, '£2000': 9491, 'caller': 1944, '5903': 681, 'landline': 4884, '09064019788': 243, 'box42wr29c': 1758, 'applespairsall': 1240, 'malarky': 5269, 'todays': 8421, 'voda': 8875, 'numbers': 5929, 'ending': 3118, '7548': 761, '350': 550, 'award': 1407, 'match': 5320, '08712300220': 104, 'quoting': 6751, '4041': 592, 'standard': 7819, 'rates': 6790, 'app': 1234, 'sao': 7176, 'mu': 5637, 'predict': 6549, 'üll': 9524, 'buying': 1895, 'knowyetunde': 4828, 'hasnt': 4018, 'sent': 7314, 'bother': 1734, 'sending': 7306, 'involve': 4502, 'shouldnt': 7436, 'imposed': 4388, 'apologise': 1231, 'girl': 3760, 'del': 2698, 'bak': 1456, 'sum': 8007, 'lucyxx': 5188, 'kkhow': 4804, 'tmorrowpls': 8403, 'accomodate': 954, 'answer': 1196, 'question': 6735, 'sunshine': 8024, 'quiz': 6746, 'q': 6721, 'top': 8473, 'sony': 7668, 'dvd': 3011, 'player': 6394, 'country': 2453, 'algarve': 1106, 'ansr': 1195, '82277': 805, 'sptyrone': 7789, 'laid': 4875, 'dogging': 2885, 'locations': 5076, 'direct': 2820, 'join': 4654, 'uks': 8645, 'largest': 4901, 'bt': 1843, 'txting': 8615, 'gravel': 3877, '69888': 730, 'nt': 5917, 'ec2a': 3041, '31pmsg150p': 543, 'haf': 3961, 'msn': 5630, 'yijuehotmailcom': 9396, 'rooms': 7082, 'befor': 1563, 'activities': 981, 'youll': 9415, 'msgs': 5622, 'chat': 2106, 'svc': 8061, 'hardcore': 4008, 'services': 7329, '69988': 734, 'age': 1047, 'yr': 9436, 'lazy': 4931, 'type': 8622, 'lect': 4951, 'pouch': 6509, 'sir': 7505, 'mail': 5254, 'swt': 8090, 'nver': 5938, 'tired': 8384, 'little': 5055, 'lovable': 5141, 'persons': 6305, 'cozsomtimes': 2467, 'occupy': 5965, 'biggest': 1620, 'hearts': 4058, 'gud': 3924, 'ni8': 5791, 'open': 6057, 'ya': 9345, 'dot': 2923, 'whats': 9069, 'staff': 7809, 'taking': 8126, 'replied': 6951, 'randy': 6783, 'sexy': 7345, 'female': 3378, 'local': 5074, 'luv': 5197, 'netcollex': 5765, 'ltd': 5171, '08700621170150p': 74, 'ummmawill': 8652, 'inour': 4454, 'begin': 1569, 'qatar': 6722, 'pray': 6542, 'hard': 4007, 'ki': 4765, 'deleted': 2702, 'sindu': 7495, 'birla': 1635, 'soft': 7631, 'wine': 9124, 'flowing': 3483, 'nevering': 5775, 'thk': 8318, 'plaza': 6401, 'typical': 8625, 'everywhere': 3218, 'dirt': 2824, 'floor': 3477, 'windows': 9121, 'shirt': 7401, 'sometimes': 7655, 'mouth': 5601, 'dream': 2950, 'without': 9150, 'chores': 2187, 'joy': 4676, 'lots': 5129, 'tv': 8596, 'exist': 3252, 'hail': 3966, 'mist': 5501, 'become': 1545, 'aaooooright': 916, 'leaving': 4950, 'house': 4239, 'interview': 4484, 'boy': 1763, 'meare': 5362, 'missing': 5494, 'annoncement': 1186, 'years': 9364, '07046744435': 22, 'arrange': 1297, '0871277810810': 121, 'keep': 4742, 'safe': 7145, 'envy': 3156, 'everyone': 3212, 'sees': 7283, 'parentsi': 6204, 'hand': 3981, 'excited': 3240, 'spend': 7740, 'bootydelious': 1723, '32f': 548, 'inviting': 4499, 'friend': 3602, 'yes434': 9376, 'no434': 5832, 'wwwsmsacubootydelious': 9297, 'frnd': 3613, '62468': 712, 'bangbabes': 1470, 'order': 6088, 'content': 2389, 'goto': 3847, 'bangb': 1469, 'internetservice': 4483, 'menu': 5407, 'cultures': 2537, 'module': 5544, '09061701939': 220, 's89': 7135, 'avoid': 1401, 'missunderstding': 5499, 'wit': 9146, 'beloved': 1585, 'ones': 6036, 'escape': 3175, 'fancy': 3329, 'bridge': 1800, 'needs': 5750, 'lager': 4874, 'completely': 2331, 'formclark': 3539, 'also': 1135, 'utter': 8773, 'waste': 8966, 'axis': 1415, 'bank': 1472, 'hmmm': 4158, 'hop': 4208, 'muz': 5675, 'discuss': 2840, 'liao': 4984, 'coming': 2307, 'bloody': 1681, 'hell': 4073, 'believe': 1576, 'surname': 8051, 'mr': 5612, 'clue': 2249, 'spanish': 7715, 'begins': 1570, 'bath': 1502, 'goodfine': 3823, 'youve': 9428, 'carlos': 2012, 'mall': 5271, 'turns': 8594, 'staying': 7848, 'til': 8366, 'smoke': 7597, 'worth': 9223, 'log': 5082, 'spoke': 7766, 'maneesha': 5283, 'wed': 9008, 'satisfied': 7191, 'experience': 3262, 'toll': 8437, 'lifted': 5004, 'hopes': 4215, 'offer': 5978, 'especially': 3178, 'approaches': 1250, 'studying': 7947, 'anyways': 1220, 'gr8': 3857, 'trust': 8561, 'guys': 3946, 'greatbye': 3885, 'handsome': 3987, 'finding': 3421, 'working': 9204, 'towards': 8497, 'net': 5764, 'mummy': 5653, 'wheres': 9082, 'boytoy': 1768, 'haha': 3962, 'awesome': 1410, 'minute': 5479, 'freephone': 3583, '0808': 61, '145': 347, '4742': 625, '9am11pm': 903, 'xmas': 9326, 'radio': 6757, 'jus': 4697, 'bathe': 1503, 'sis': 7510, 'using': 8763, 'finishes': 3432, 'unique': 8686, '30th': 538, 'august': 1374, 'wwwareyouuniquecouk': 9268, 'joined': 4655, 'league': 4941, 'touch': 8492, 'deal': 2644, 'personal': 6301, 'finally': 3417, 'completed': 2330, 'course': 2459, 'however': 4248, 'suggest': 8000, 'stays': 7849, 'able': 929, 'ors': 6100, 'every': 3206, 'stool': 7888, 'settled': 7336, 'wishin': 9142, 'mrng': 5614, 'hav': 4026, 'story': 7905, 'hamster': 3980, 'dead': 2642, 'tmr': 8404, '1pm': 403, 'orchard': 6087, 'mrt': 5615, 'kate': 4731, 'evening': 3200, 'babyjontet': 1438, 'found': 3550, 'enc': 3115, 'bucks': 1851, 'darlin': 2604, 'college': 2287, 'refilled': 6885, 'successfully': 7984, 'inr': 4457, 'ltdecimalgt': 5172, 'keralacircle': 4753, 'prepaid': 6560, 'balance': 1459, 'rs': 7101, 'transaction': 8516, 'kr': 4841, 'goodmorning': 3827, 'sleeping': 7550, 'ga': 3665, 'alter': 1137, 'dat': 2612, 'ericsson': 3162, 'oso': 6105, 'cannot': 1978, 'oredi': 6091, 'dats': 2620, 'straight': 7908, 'dogg': 2883, 'connection': 2373, 'refund': 6890, 'bill': 1622, 'shoot': 7418, 'big': 1618, 'ready': 6817, 'bruv': 1838, 'break': 1786, 'rewarding': 7021, 'semester': 7299, 'kkgoodstudy': 4803, 'noe': 5843, 'leh': 4960, 'sounds': 7699, 'heading': 4041, 'prediction': 6552, 'slept': 7557, 'past': 6236, 'nights': 5807, 'easy': 3035, 'ahsen': 1071, 'exam': 3235, 'march': 5295, 'gt': 3918, 'atm': 1351, 'register': 6897, 'os': 6103, 'called': 1943, 'ubandu': 8630, 'installing': 4466, 'diskyou': 2843, 'important': 4386, 'files': 3405, 'system': 8100, 'repair': 6943, 'shop': 7419, 'happen': 3996, 'romantic': 7074, 'nite': 5822, 'scenery': 7223, '500': 665, '89545': 872, 'collect': 2282, 'todayfrom': 8418, '£1': 9467, 'www4tcbiz': 9265, '2optout': 506, '08718726270150gbpmtmsg18': 155, 'appreciate': 1248, 'partner': 6218, 'career': 1999, 'flyng': 3491, 'start': 7829, 'horo': 4222, 'followed': 3500, 'star': 7823, 'sign': 7474, 'g': 3662, 'aries': 1281, 'company': 2319, 'elama': 3085, 'mudyadhu': 5643, 'strict': 7922, 'teacher': 8175, 'bcoz': 1527, 'teaches': 8176, 'conducts': 2357, 'lessons': 4976, 'gandhipuram': 3680, 'walk': 8929, 'cross': 2507, 'road': 7056, 'side': 7469, 'street': 7914, 'rubber': 7110, 'battery': 1508, 'died': 2788, 'yeshere': 9384, 'flirt': 3473, '10p': 309, 'sam': 7164, '25': 449, 'recdthirtyeight': 6844, 'pence': 6272, 'printed': 6599, 'upstairs': 8731, 'closer': 2239, 'youwhen': 9430, 'wil': 9111, 'reach': 6807, 'theory': 8287, 'argument': 1279, 'wins': 9131, 'loses': 5122, 'person': 6299, 'argue': 1277, 'kick': 4767, '447801259231': 610, 'secret': 7263, 'admirer': 1002, 'ufind': 8633, 'rreveal': 7100, 'thinks': 8313, 'specialcall': 7724, '09058094597': 203, 'tomarrow': 8439, 'hearing': 4053, 'laptop': 4896, 'case': 2024, 'pleassssssseeeeee': 6405, 'tel': 8194, 'avent': 1397, 'sportsx': 7776, 'shining': 7396, 'meant': 5360, 'signing': 7479, 'although': 1139, 'told': 8432, 'baig': 1454, 'face': 3293, 'watches': 8972, 'watch': 8970, 'fr': 3558, 'thanx': 8257, 'everything': 3216, 'uve': 8778, 'touched': 8493, 'commercial': 2312, 'website': 9006, 'slippers': 7564, 'asked': 1323, 'kallis': 4717, 'bat': 1499, 'innings': 4451, 'goodnight': 3829, 'fix': 3450, 'wake': 8925, 'dearly': 2656, 'missed': 5492, 'sleep': 7548, 'congratulations': 2370, 'cd': 2051, 'vouchers': 8888, '125gift': 332, 'music': 5667, '87066': 846, 'tncs': 8408, 'wwwldewcom1win150ppmx3age16': 9284, 'ranjith': 6786, 'cal': 1920, 'drpd': 2976, 'deeraj': 2686, 'deepak': 2683, '5min': 690, 'hold': 4175, 'bcums': 1530, 'angry': 1178, 'wid': 9101, 'dnt': 2864, 'coz': 2466, 'childish': 2162, 'true': 8556, 'showing': 7447, 'deep': 2682, 'affection': 1028, 'care': 1996, 'kettoda': 4755, 'manda': 5279, 'doinghow': 2891, 'ups': 8727, '3days': 563, 'shipping': 7400, 'takes': 8124, '2wks': 521, 'usps': 8768, 'lag': 4872, 'bribe': 1799, 'nipost': 5820, 'lemme': 4964, 'necessarily': 5738, 'expect': 3257, 'headin': 4040, 'mmm': 5517, 'jolt': 4666, 'suzy': 8060, 'lover': 5148, 'video': 8835, 'handset': 3986, '750': 760, 'anytime': 1218, 'networks': 5771, 'mins': 5473, 'unlimited': 8695, 'parked': 6210, 'mini': 5469, 'shopping': 7421, 'disturb': 2850, 'luton': 5196, '0125698789': 6, 'ring': 7038, 'h': 3954, 'horny': 4221, 'naked': 5696, 'hot': 4231, '69698': 726, 'unsubscribe': 8707, 'dint': 2817, 'wana': 8945, 'plan': 6382, 'sometme': 7656, 'credits': 2494, 'club4mobilescom': 2248, 'choose': 2183, 'club': 2246, '87070': 847, '150pwk': 370, 'club4': 2247, 'box1146': 1747, 'mk45': 5514, '2wt': 522, 'evo': 3224, 'flash': 3460, 'jealous': 4617, 'singles': 7500, 'chart': 2101, 'quality': 6729, 'charge': 2093, 'sorting': 7690, 'narcotics': 5711, 'ended': 3117, 'sunny': 8020, 'rays': 6799, 'leaves': 4949, 'worries': 9216, 'blue': 1688, 'bay': 1511, 'hmv': 4166, 'genuine': 3730, 'questions': 6737, '86688': 843, 'infowww100percentrealcom': 4441, 'might': 5447, 'objection': 5959, 'bf': 1609, 'rob': 7060, 'mack': 5231, 'gf': 3747, 'theater': 8274, 'handed': 3982, 'celebrations': 2061, 'full': 3643, 'swing': 8085, 'tool': 8466, 'definitely': 2691, 'keepintouch': 4744, 'gdeve': 3711, 'far': 3334, 'okie': 6012, 'usual': 8769, 'passed': 6228, 'ahold': 1070, 'anybody': 1206, 'throw': 8340, 'lets': 4978, 'baby': 1435, 'cruisin': 2514, 'hour': 4236, 'fone': 3506, 'jenny': 4624, 'ge': 3714, 'dearshall': 2660, 'tonitebusy': 8460, 'streetshall': 7915, 'tonitethings': 8461, 'okvarunnathu': 6019, 'edukkukayee': 3053, 'raksha': 6775, 'ollubut': 6025, 'sense': 7310, 'gautham': 3695, 'stupid': 7957, 'cam': 1960, 'buzy': 1897, 'accidentally': 951, 'resend': 6969, 'tmobile': 8402, 'phone': 6330, 'upgrade': 8717, 'sim': 7486, 'card': 1992, 'loyalty': 5163, '0845': 68, '021': 15, '3680offer': 556, 'ends': 3122, '28thfebtcs': 466, 'unless': 8693, 'gurl': 3943, 'appropriate': 1252, 'hurt': 4309, 'tease': 8183, 'cry': 2516, 'die': 2787, 'plz': 6419, 'rose': 7084, 'grave': 3876, 'bslvyl': 1839, 'tomocant': 8443, 'somebody': 7642, 'high': 4127, 'diesel': 2789, 'shit': 7403, 'shocking': 7415, 'scary': 7221, 'imagine': 4375, 'def': 2687, 'somewhere': 7658, 'crash': 2479, 'taxi': 8157, 'fridge': 3600, 'meal': 5353, 'womdarfull': 9177, 'actor': 982, 'blind': 1669, '4u': 656, 'rodds1': 7066, '21m': 435, 'aberdeen': 924, 'united': 8688, 'kingdom': 4785, 'httpimg': 4266, 'acwicmb3cktz8r74': 985, 'dates': 2616, 'hide': 4123, 'remb': 6919, 'book': 1713, 'jos': 4673, 'friendship': 3606, 'hanging': 3992, 'thread': 8334, 'themob': 8281, 'newest': 5780, 'selection': 7290, 'games': 3678, 'tones': 8450, 'gossip': 3841, 'babes': 1432, 'sport': 7774, 'fit': 3447, 'funky': 3653, '82468': 808, 'garage': 3685, 'keys': 4758, 'arent': 1272, 'bookshelf': 1719, 'accept': 946, 'dayu': 2638, 'sister': 7511, 'dear1': 2652, 'best1': 1596, 'clos1': 2234, 'lvblefrnd': 5204, 'jstfrnd': 4682, 'cutefrnd': 2560, 'lifpartnr': 5002, 'belovd': 1584, 'swtheart': 8091, 'bstfrnd': 1842, 'enemy': 3124, 'smart': 7579, '£200': 9490, 'weekly': 9022, '85222': 835, 'nowtcs': 5913, 'winnersclub': 9129, '84': 824, 'm26': 5214, '3uz': 582, 'gbp150week': 3705, '2day': 475, 'normal': 5875, 'waythis': 8987, 'uniquei': 8687, 'rest': 6991, 'mylife': 5679, 'wot': 9225, 'lost': 5125, 'made': 5239, 'kkadvance': 4797, 'pongal': 6463, 'kb': 4737, 'power': 6516, 'yoga': 9400, 'dunno': 3004, 'tahan': 8115, 'anot': 1192, 'lo': 5068, 'dude': 2994, 'afraid': 1034, 'december': 2668, '11mths': 323, '08002986906': 58, 'cake': 1917, 'merry': 5414, 'christmas': 2192, 'kisses': 4791, 'cud': 2531, 'ppl': 6519, 'gona': 3813, 'l8': 4854, 'buses': 1882, 'gon': 3812, 'waitin': 8921, 'pete': 6310, 'guild': 3938, 'bristol': 1814, 'plans': 6389, 'flight': 3468, 'problem': 6617, 'dahow': 2581, 'track': 8504, 'record': 6863, 'reading': 6816, 'women': 9178, 'read': 6813, 'light': 5006, 'kkapo': 4799, 'kgood': 4763, 'movie': 5605, 'return': 7009, 'immediately': 4381, 'germany': 3736, 'fixed': 3452, 'line': 5025, 'via': 8827, 'access': 947, 'number': 5926, '0844': 65, '861': 840, '85': 831, 'prepayment': 6563, 'chance': 2081, 'evaporated': 3195, 'violated': 8853, 'privacy': 6605, 'stealing': 7854, 'employers': 3111, 'paperwork': 6191, 'report': 6957, 'supervisor': 8030, 'valentines': 8791, 'lifetime': 5000, '83600': 822, '150pmsg': 356, 'rcvd': 6804, 'custcare08718720201': 2552, 'tadaaaaa': 8112, 'wined': 9125, 'dined': 2810, 'sleepingand': 7551, 'surfing': 8048, 'calling': 1949, 'post': 6497, '1000s': 296, 'texts': 8244, 'wiv': 9154, 'caroline': 2016, 'favourite': 3357, 'bless': 1663, 'hiding': 4126, 'stranger': 7911, 'interested': 4477, 'cleared': 2223, 'two': 8608, 'round': 7087, 'gudnitetcpractice': 3928, 'yijue': 9395, 'huiming': 4287, 'num': 5925, 'small': 7577, 'prestige': 6578, 'shag': 7356, 'dointerested': 2894, 'sextextukcom': 7343, 'xxuk': 9333, '69876': 729, 'txts': 8618, '150': 350, 'jeremiah': 4626, 'iphone': 4510, 'apeshit': 1226, 'ever': 3205, 'misbehaved': 5485, 'slap': 7546, 'urself': 8749, 'fault': 3349, 'basically': 1495, 'figure': 3401, 'alcohol': 1097, 'jay': 4608, 'safely': 7146, 'weed': 9016, 'ish': 4526, 'minutes': 5480, '5': 663, 'ago': 1058, 'wtf': 9256, 'callingforgot': 1950, 'onam': 6031, 'sirjii': 7507, 'remembered': 6921, 'met': 5434, 'insurance': 4471, 'personmeet': 6304, 'insha': 4459, 'allahrakhesh': 1116, 'ex': 3232, 'tata': 8151, 'aig': 1076, 'tisscotayseer': 8390, 'cashbalance': 2026, 'currently': 2547, 'maximize': 5342, 'cashin': 2029, 'cc': 2048, '08708800282': 96, 'hgsuite3422lands': 4117, 'roww1j6hl': 7093, 'unemployed': 8674, 'moment': 5552, 'st': 7805, 'andrewsboy': 1175, 'cold': 2276, 'posted': 6501, 'chikku': 2152, 'chikkudb': 2155, 'audreys': 1372, 'status': 7844, 'forward': 3546, 'dawns': 2626, 'refreshed': 6889, 'alive': 1112, 'breathe': 1793, 'air': 1079, 'z': 9448, 'updatenow': 8716, 'motorola': 5597, 'sonyericsson': 7669, 'bluetooth': 1689, '1000': 294, 'orange': 6083, 'mobileupd8': 5534, '08000839402': 52, 'call2optoutf4q': 1931, 'discount': 2838, 'rp176781': 7096, 'messages': 5425, 'wwwregalportfoliocouk': 9291, '08717205546': 143, 'uniform': 8683, 'geeee': 3716, 'woke': 9174, 'wish': 9139, 'cuddling': 2534, 'spoil': 7763, 'min': 5458, 'talking': 8133, 'agree': 1060, 'willing': 9115, 'reference': 6881, 't91': 8102, 'gbp': 3704, '09057039994': 194, 'seen': 7281, 'mei': 5382, 'didt': 2786, 'recognise': 6861, 'happening': 4000, 'lindsay': 5024, 'sighs': 7472, 'bars': 1491, 'ptbo': 6684, 'heron': 4105, 'payasam': 6250, 'rinu': 7047, 'brings': 1811, 'taught': 8154, 'becaus': 1543, 'verifying': 8822, 'project': 6643, 'prabu': 6527, 'mistake': 5502, 'body': 1700, 'repairs': 6944, 'quite': 6743, 'slow': 7571, 'tests': 8229, 'guide': 3936, 'ovulation': 6142, 'relax': 6908, 'reason': 6833, 'followin': 3501, 'couple': 2456, 'wallet': 8936, 'leave': 4948, '945': 894, '6months': 742, 'phones': 6334, 'call2optoutn9dx': 1936, 'owl': 6146, 'licks': 4991, 'mm': 5516, '4mths': 643, 'rental': 6939, 'mobilesdirect': 5532, '08000938767': 54, 'or2stoptxt': 6081, 'huh': 4285, 'sat': 7187, 'intro': 4490, 'pilates': 6359, 'kickboxing': 4768, 'office': 5983, 'lap': 4894, 'days': 2632, 'shut': 7460, 'bout': 1741, '730ish': 756, 'performance': 6286, 'calculated': 1921, 'monthnot': 5574, 'current': 2546, 'period': 6291, 'actually': 984, 'rock': 7063, 'putting': 6716, 'business': 1884, 'put': 6713, 'pictures': 6351, 'ass': 1330, 'facebook': 3295, 'picture': 6350, 'al': 1091, 'salam': 7154, 'wahleykkumsharing': 8916, 'newsby': 5784, 'grace': 3861, 'god': 3794, 'tayseertissco': 8162, 'joinedhope': 4656, 'fineinshah': 3425, 'allahmeet': 1115, 'sometimerakheshvisitor': 7654, 'india': 4420, 'hmmmkbut': 4161, 'change': 2083, 'field': 3390, 'quickly': 6740, 'dai': 2582, 'administrator': 1001, '87131': 850, 'poly': 6454, 'tone': 8449, '2814032': 462, '1st': 405, '3x£150pw': 586, 'e£nd': 3288, 'chechi': 2116, 'cream': 2487, 'shipped': 7399, 'none': 5862, 'yep': 9372, 'loxahatchee': 5161, 'tree': 8540, 'burning': 1876, 'starts': 7834, 'stoners': 7886, 'slightly': 7562, 'disastrous': 2833, 'pm': 6420, 'fav': 3352, 'darlings': 2606, 'wld': 9165, 'stay': 7845, 'drink': 2960, 'busetop': 1883, 'messagesome': 5427, 'sendername': 7305, 'sentdate': 7315, 'fullonsmscom': 3644, 'iron': 4516, 'thing': 8306, 'okies': 6013, 'yan': 9352, 'jiu': 4641, 'skip': 7537, 'den': 2713, 'blah': 1653, 'bring': 1809, 'wendy': 9044, 'dating': 2617, '09064012103': 236, 'box334sk38ch': 1753, 'whatsup': 9070, 'goal': 3790, '£250': 9492, 'competition': 2323, '80086': 787, 'wwwtxttowincouk': 9311, 'head': 4038, 'logo': 5086, 'names': 5704, 'heart': 4054, 'name1': 5700, 'name2': 5701, 'mobno': 5535, 'adam': 987, 'eve': 3196, '07123456789': 27, 'yahoo': 9348, 'pobox36504w45wq': 6431, 'txtno': 8617, 'ads': 1012, '150p': 351, 'yesfrom': 9381, 'contacted': 2386, '09111032124': 288, 'pobox12n146tf150p': 6428, 'siva': 7521, 'hostel': 4229, 'aha': 1063, '09058094455': 198, 'land': 4882, '3030': 534, 'voice': 8878, 'speaking': 7722, 'expression': 3277, '1childish': 392, '2naughty': 500, '3sentiment': 578, '4rowdy': 648, '5ful': 684, 'attitude': 1362, '6romantic': 745, '7shy': 777, '8attractive': 877, '9funny': 905, 'irritating': 4520, 'shell': 7384, 'aathiwhere': 918, 'urination': 8745, '7': 750, 'esplanade': 3180, 'mind': 5461, 'giving': 3770, 'lift': 5003, 'wnt': 9170, 'bmw': 1695, 'urgentlyits': 8740, 'vry': 8892, 'urgentbut': 8739, 'hv': 4316, 'shortage': 7428, 'lacsthere': 4867, 'source': 7702, 'arng': 1290, 'amt': 1163, 'lacsthats': 4866, 'fifteen': 3394, 'fucking': 3635, 'respond': 6985, '3650': 553, '09066382422': 267, '3mins': 572, 'vary': 8804, '300603': 531, 'bcm4284': 1525, 'ldn': 4933, 'wc1n3xx': 8990, 'booked': 1714, 'ticket': 8357, 'hillsborough': 4133, 'th': 8247, 'askin': 1324, 'dollars': 2898, 'shoul': 7434, 'iouri': 4504, 'ten': 8210, 'applebees': 1239, 'txtjourney': 8616, 'gdnow': 3712, '50': 664, 'yeshe': 9383, 'greatbhaji': 3884, 'cricketer': 2500, 'sachin': 7137, 'worldvery': 9212, 'tough': 8494, 'supposed': 8041, 'oic': 6003, 'tot': 8488, 'din': 2808, 'group': 3906, 'werethe': 9052, 'monkeespeople': 5562, 'monkeyaround': 5564, 'howdy': 4247, 'gorgeous': 3839, 'howu': 4251, 'doin': 2889, 'foundurself': 3551, 'jobyet': 4647, 'sausagelove': 7201, 'jen': 4622, 'blimey': 1668, 'exercise': 3247, 'kinda': 4782, 'hmm': 4156, 'concentration': 2349, '10': 292, 'hanks': 3993, 'lotsly': 5130, 'kkwhat': 4808, 'detail': 2749, 'transferacc': 8519, 'optimistic': 6076, 'improve': 4395, 'loan': 5071, 'purpose': 6707, '£500': 9505, '£75000': 9516, 'homeowners': 4190, 'tenants': 8211, 'welcome': 9035, 'previously': 6586, 'refused': 6892, '1956669': 390, 'si': 7462, 'oreo': 6092, 'truffles': 8558, 'amy': 1166, 'ure': 8736, 'beautiful': 1539, 'intelligent': 4472, 'woman': 9176, 'don\\x92t': 2913, 'result': 7002, 'consistently': 2381, 'kind': 4781, 'asking': 1325, 'practicum': 6532, 'links': 5034, 'ears': 3026, 'ttyl': 8579, '120': 325, 'bad': 1446, 'thru': 8345, 'different': 2797, 'feelingwavering': 3371, 'decisions': 2674, 'coping': 2419, 'individualtime': 4426, 'heal': 4046, 'gives': 3769, 'reasons': 6835, 'upgrdcentre': 8719, '0207': 9, '153': 373, '9153': 890, '26th': 458, 'july': 4690, 'tcs': 8168, 'optout': 6079, 'bye': 1906, 'railway': 6763, 'princess': 6597, 'receiving': 6851, 'oral': 6082, 'doggy': 2886, 'style': 7959, 'fave': 3353, 'position': 6487, 'enjoy': 3133, 'roads': 7057, 'slippery': 7565, 'bike': 1621, 'many': 5289, 'language': 4891, 'okmail': 6014, 'dave': 2623, 'notice': 5889, 'tenerife': 8213, '5000': 666, '09061743806': 223, 'sae': 7143, 'box326': 1751, 'cw25wx': 2566, 'screamed': 7243, 'enters': 3143, 'remove': 6932, 'flat': 3461, 'rate': 6789, 'transfered': 8520, 'removed': 6933, 'banks': 1473, 'differ': 2793, 'charges': 2096, 'differbe': 2794, '9ja': 906, 'details': 2751, 'moan': 5527, '69888nyt': 731, 'broken': 1821, 'cum': 2538, 'infront': 4443, 'wise': 9138, '9t': 908, 'aathilove': 917, 'tension': 8215, 'ahwhat': 1073, 'machiany': 5228, '8th': 885, 'whenre': 9077, 'thinking': 8312, 'mcr': 5352, 'sec': 7259, 'taste': 8148, 'fb': 3358, 'jaykwon': 4610, 'thuglyfe': 8350, 'falconerf': 3315, 'activate': 979, 'terms': 8219, 'conditions': 2356, 'visit': 8863, 'www07781482378com': 9264, 'depends': 2725, 'boye': 1764, 'faded': 3300, 'glory': 3779, '6': 702, 'ralphs': 6777, 'accounts': 961, 'dry': 2985, 'trade': 8506, 'sorryin': 7685, 'reunion': 7013, 'nowcan': 5903, 'meh': 5381, 'nope': 5869, 'monday': 5556, 'accenture': 945, 'jackson': 4587, 'rec': 6842, 'center': 2064, '7ish': 772, 'reache': 6808, 'fighting': 3398, 'either': 3079, 'lose': 5120, 'fightng': 3399, 'some1': 7641, 'dificult': 2800, 'nuerologist': 5924, 'lolnice': 5094, 'fish': 3444, 'water': 8976, '123': 330, '£1450': 9477, '09050002311': 187, 'b4280703': 1424, 'tcsstop': 8171, '08718727868': 160, 'bored': 1725, 'outside': 6128, 'westshore': 9059, 'hyde': 4321, 'park': 6208, 'village': 8851, 'near': 5733, 'anthony': 1203, 'bringing': 1810, 'fees': 3373, 'rent': 6938, 'significance': 7476, 'opinion': 6065, 'jada': 4589, 'kusruthi': 4848, 'silent': 7482, 'spl': 7755, 'character': 2091, 'matured': 5337, '8': 781, 'stylish': 7962, 'simple': 7488, 'gs': 3915, 'scrounge': 7247, 'ammo': 1152, 'ak': 1088, 'prabhaim': 6526, 'sorydarealyfrm': 7693, 'sory': 7692, 'forgiven': 3530, 'nojst': 5851, 'tat': 8150, '40gb': 595, 'ipod': 4511, 'mp3': 5610, '83355': 818, 'ibhltd': 4327, 'ldnw15h': 4934, '150pmtmsgrcvd18': 361, 'sno': 7618, 'boltblue': 1706, 'mono': 5567, 'poly3': 6456, 'cha': 2072, 'slide': 7560, 'jamz': 4597, 'toxic': 8501, 'topped': 8477, 'httpwwwbubbletextcom': 4269, 'renewal': 6935, 'pin': 6364, 'tgxxrz': 8246, 'transport': 8524, 'less': 4973, 'problematic': 6618, 'definite': 2690, 'nos': 5879, 'booking': 1716, 'fri': 3596, 'unconscious': 8662, 'children': 2164, 'adults': 1015, 'behave': 1573, 'abnormally': 930, 'ebay': 3040, 'elsewhere': 3096, 'shall': 7365, 'pickle': 6347, 'tacos': 8109, 'rude': 7111, 'campus': 1966, '020903': 14, 'attempt': 1356, '08718729755': 162, 'box95qu': 1761, '85023': 833, 'savamob': 7202, 'member': 5392, 'offers': 5981, 'cs': 2518, '08717898035': 149, '£300': 9495, 'sub': 7964, 'unsub': 8706, 'pretty': 6582, 'lady': 4871, 'single': 7499, 'recieve': 6859, 'within': 9149, '24hrs': 446, 'channel': 2087, 'teletext': 8197, 'pg': 6317, 'doublefaggot': 2925, '2003': 421, '07815296484': 41, '800': 782, '08718738001': 166, '41782': 599, '181104': 383, 'todaysundaysunday': 8422, 'holidayso': 4180, 'hoping': 4218, 'l8r': 4856, 'malaria': 5268, 'bani': 1471, 'leads': 4939, 'passionate': 6231, 'kiss': 4790, 'across': 971, 'sea': 7254, 'probably': 6616, 'lt': 5169, 'fat': 3343, 'fingers': 3428, 'buttons': 1891, 'ummmmmaah': 8653, 'returns': 7012, 'tirupur': 8388, 'wwwapplausestorecom': 9267, 'monthlysubscription50pmsg': 5573, 'max6month': 5341, 'tcsc': 8170, 'web': 9001, 'age16': 1048, '2stop': 512, 'famous': 3325, 'quote': 6750, 'develop': 2757, 'ability': 926, 'listen': 5046, 'unconditionally': 8661, 'losing': 5123, 'temper': 8208, 'self': 7291, 'confidence': 2360, 'married': 5307, 'oclock': 5969, 'mine': 5465, 'bash': 1493, 'recovery': 6868, 'rather': 6792, 'cooped': 2415, 'hotel': 4232, 'invitation': 4496, 'cali': 1923, 'english': 3132, 'blokes': 1675, 'weddin': 9009, 'omw': 6030, 'btw': 1849, 'alibi': 1111, 'cutting': 2564, 'sink': 7501, 'paces': 6157, 'cage': 1916, 'cock': 2264, 'surrounded': 8055, 'reminding': 6929, 'owns': 6148, 'cuck': 2530, 'hurry': 4308, 'weeddeficient': 9017, 'three': 8336, 'acknowledgement': 967, 'astoundingly': 1340, 'tactless': 8111, 'generally': 3723, 'faggy': 3301, 'demand': 2712, 'blood': 1678, 'oath': 5955, 'fo': 3495, 'warm': 8955, 'milk': 5452, 'magic': 5248, 'loose': 5113, 'weight': 9027, 'i‘ll': 4577, 'pan': 6176, 'it‘s': 4566, 'cheap': 2112, 'perhaps': 6289, 'that‘s': 8271, 'silly': 7484, 'isn‘t': 4533, 'likely': 5012, 'uv': 8777, 'causes': 2043, 'mutations': 5674, 'sunscreen': 8023, 'essential': 3182, 'thesedays': 8296, 'lunchyou': 5193, 'onlinewhy': 6042, 'pics': 6348, 'aiyo': 1086, 'fast': 3339, 'workin': 9203, 'bao': 1477, 'sugardad': 7999, 'ahgee': 1065, 'meim': 5383, 'brownie': 1831, 'geeeee': 3717, 'barely': 1482, 'fuck': 3632, '2mrw': 498, 'ninish': 5818, 'icky': 4338, 'american': 1147, 'freek': 3576, 'callin': 1948, 'oooh': 6053, 'ridden': 7030, 'ey': 3284, 'gym': 3950, 'whatever': 9068, 'smiles': 7592, 'daddy': 2576, 'scream': 7242, 'dick': 2778, 'missy': 5500, 'yar': 9353, 'mum': 5650, 'sch': 7224, 'clean': 2220, 'lab': 4862, 'goggles': 3801, 'door': 2916, '2000': 419, 'call09050000327': 1928, 'arguing': 1278, 'claims': 2208, '09050005321': 189, 'arngd': 1291, 'marriage': 5305, 'walkin': 8932, 'unfortuntly': 8678, 'snake': 7611, 'bites': 1645, 'dancing': 2592, 'frnt': 3619, 'sayin': 7211, 'bite': 1644, 'izzit': 4572, 'textand': 8235, '08002988890': 59, 'exwife': 3283, 'kids': 4773, 'jjc': 4642, 'tendencies': 8212, 'headache': 4039, 'quit': 6742, 'jazz': 4613, 'yogasana': 9401, 'em': 3098, 'meive': 5385, 'hardly': 4011, 'gotany': 3845, 'srsly': 7799, 'yi': 9393, 'spree': 7783, '80878': 797, 'tscs': 8571, 'wwwtxt2shopcom': 9308, 'custcare': 2551, '08715705022': 140, '1x150pwk': 414, 'pound': 6510, '08712402050': 109, 'lines': 5029, '10ppm': 311, 'ag': 1043, 'promo': 6651, '07753741225': 32, '08715203677': 135, '42478': 603, '241004': 444, 'grand': 3867, 'prix': 6607, 'stands': 7821, 'nitz': 5827, 'announcement': 1188, '542': 679, '0825': 64, 'exhausted': 3250, 'train': 8509, 'pie': 6353, 'mums': 5655, 'present': 6570, 'ar': 1264, 'blastin': 1660, 'tsunamis': 8576, 'occur': 5966, 'rajnikant': 6773, 'stopped': 7895, 'swimming': 8083, 'indian': 4421, 'oceand': 5968, 'noon': 5866, 'xclusiveclubsaisai': 9323, '2morow': 493, '285': 463, 'soiree': 7634, 'speciale': 7725, 'zouk': 9460, 'nichols': 5796, 'parisfree': 6206, 'roses': 7085, 'ladies': 4869, '0794674629107880867867': 45, 'bridgwater': 1801, 'banter': 1476, 'neva': 5772, 'imma': 4379, 'somethin': 7650, '22': 437, 'euro2004': 3191, 'results': 7003, 'daily': 2583, '83222': 815, 'valentine': 8790, 'game': 3677, 'answers': 1200, 'ques': 6734, 'suits': 8005, 'bestrply': 1598, 'dependents': 2724, 'thanx4': 8258, 'cer': 2067, 'often': 5995, 'soonc': 7672, 'himthen': 4135, 'future': 3658, 'hundreds': 4294, 'handsomes': 3988, 'beauties': 1538, 'aunties': 1377, 'uncles': 8659, 'shock': 7414, 'shuhui': 7458, 'leona': 4969, 'reaction': 6812, 'family': 3323, 'happiness': 4005, 'snow': 7621, 'weather': 8999, 'together': 8425, 'friendships': 3608, 'grow': 3907, 'dismay': 2845, 'alex': 1103, 'concerned': 2351, 'pub': 6686, 'bud': 1852, 'drinks': 2964, 'useful': 8756, 'officially': 5990, 'paid': 6167, 'market': 5300, 'tootsie': 8472, 'pop': 6473, 'longer': 5101, 'darren': 2608, 'textbuddy': 8237, 'area': 1271, '25p': 453, 'postcode': 6500, 'gaytextbuddycom': 3701, '89693': 874, 'vodafone': 8876, '4882': 626, '£350': 9498, 'matches': 5322, '09064019014': 242, 'forwarded': 3547, 'seventeen': 7339, 'seven': 7338, 'hundred': 4292, 'ml': 5515, '–': 9525, 'voucher': 8887, 'holder': 4176, 'pc': 6260, 'httpwwwetlpcoukexpressoffer': 4270, 'apply2': 1243, '80062': 784, 'funny': 3654, 'sweetheart': 8078, 'biola': 1631, 'login': 5085, 'dad': 2575, 'fetching': 3382, 'restock': 6993, 'thanksgiving': 8254, 'sound': 7697, 'effects': 3061, 'brighten': 1804, 'wee': 9015, 'thursday': 8352, 'allo': 1120, 'braved': 1780, 'taken': 8122, 'trains': 8513, 'triumphed': 8549, 'we‘re': 9066, 'b‘ham': 1909, 'jolly': 4665, 'cartoon': 2023, 'listening': 5048, 'temple': 8209, 'church': 2197, 'uncomfortable': 8660, '08715203694': 137, '40533': 594, '311004': 542, 'email': 3099, 'rstm': 7104, 'sw7': 8062, '3ss': 579, 'gentle': 3727, 'sonetimes': 7664, 'rough': 7086, 'starting': 7833, 'panic': 6180, 'tuesday': 8582, 'wesleys': 9054, 'town': 8498, 'bet': 1599, 'hella': 4074, 'drugs': 2979, 'drug': 2977, 'dealers': 2646, 'impatient': 4384, 'sun': 8015, 'earth': 3027, 'cloud': 2244, 'river': 7055, 'evng': 3223, 'wikipediacom': 9110, '88800': 862, '89034': 867, 'premium': 6559, '08718711108': 150, 'lays': 4930, 'envelope': 3155, 'paper': 6189, 'repent': 6947, 'fetch': 3381, 'de': 2641, 'prepare': 6561, 'study': 7946, 'positions': 6488, 'kama': 4719, 'sutra': 8058, 'en': 3113, 'nange': 5707, 'bakra': 1457, 'kalstiyathen': 4718, 'teacoffee': 8178, 'carlosll': 2013, 'lakhs': 4877, 'ho': 4168, 'belly': 1581, 'laugh': 4917, 'sun0819': 8016, 'posts': 6505, 'helloyou': 4081, 'seem': 7278, '20': 417, 'opt': 6074, '08452810071': 70, 'ditto': 2853, 'saying': 7212, 'peace': 6262, 'knw': 4829, 'wetherspoons': 9061, 'piggy': 6358, 'awake': 1406, 'freaky': 3569, 'yelling': 9367, 'scrappy': 7239, 'lonely': 5099, 'hex': 4113, 'explain': 3270, 'sdryb8i': 7252, 'xy': 9343, 'sue': 7991, 'lapdancer': 4895, 'sex': 7341, 'bedroom': 1554, '89555': 873, 'textoperator': 8242, 'g2': 3663, '1da': 394, '150ppmsg': 365, 'king': 4784, 'crying': 2517, 'building': 1862, 'map': 5290, 'imprtant': 4397, 'tomorw': 8448, 'dearme': 2657, 'cherthalain': 2138, 'cochin': 2263, 'bfore': 1611, 'starti': 7832, 'accordinglyor': 958, 'comingtmorow': 2309, 'engaged': 3127, 'ans': 1194, 'torch': 8481, 'bold': 1703, '448712404000please': 612, '08712404000': 114, 'farm': 3335, '4d': 632, '1405': 345, '1680': 377, '1843': 384, 'law': 4925, 'purchase': 6702, 'poop': 6469, 'looks': 5109, 'gpu': 3856, 'entrepreneurs': 3150, 'alexs': 1104, 'corporation': 2424, 'gap': 3683, '…': 9528, 'ku': 4845, 'prevent': 6583, 'dehydration': 2697, 'fluids': 3484, 'weird': 9030, 'idea': 4343, 'deari': 2654, 'soso': 7695, 'smsd': 7605, 'away': 1409, 'trek': 8541, 'harri': 4015, 'drivin': 2967, 'fantastic': 3332, 'ngage': 5789, 'deck': 2675, 'wwwcnupdatescomnewsletter': 9275, 'alerts': 1101, 'height': 4069, 'aeronautics': 1023, 'professors': 6636, 'wer': 9048, 'calld': 1941, 'sit': 7513, 'aeroplane': 1024, 'aftr': 1042, 'ws': 9253, 'students': 7942, 'dey': 2763, 'hurried': 4307, 'saidif': 7151, 'studentsthis': 7943, 'datz': 2621, 'seems': 7280, 'timing': 8379, 'shitstorm': 7409, 'attributed': 1365, '08714712388': 126, '10am7pm': 306, 'stress': 7916, 'dorm': 2918, 'sell': 7295, '449071512431': 614, 'uu': 8775, '£1250': 9476, '09071512433': 272, 'b4': 1422, '050703': 16, 'tcsbcm4235wc1n3xx': 8169, 'callcost': 1939, 'mobilesvary': 5533, 'max£7': 5344, 'sth': 7869, 'specs': 7731, 'px3748': 6719, '08714712394': 127, 'macha': 5226, 'upseti': 8729, 'assume': 1335, 'mindsetbelieve': 5464, 'uslet': 8764, 'againcall': 1044, 'sfine': 7349, 'wondar': 9179, 'flim': 3470, 'cookies': 2411, 'jelly': 4621, 'running': 7123, 'stillmaybe': 7876, 'feeling': 3369, 'sameso': 7168, 'itor': 4555, 'admiti': 1005, 'madthen': 5243, 'correctionor': 2428, 'lifeand': 4996, 'worldmay': 9210, 'runninglets': 7124, 'scrumptious': 7248, 'wants': 8952, 'ba': 1426, 'dao': 2597, 'half8th': 3973, 'exactly': 3234, 'jide': 4640, 'visiting': 8864, 'alertfrom': 1100, 'jeri': 4627, 'stewartsize': 7867, '2kbsubject': 490, 'lowcost': 5158, 'prescripiton': 6567, 'drvgsto': 2984, 'spring': 7784, 'yay': 9358, 'steak': 7852, 'convincingjust': 2408, 'twice': 8602, 'neglect': 5755, 'itjust': 4547, 'tonite': 8459, 'opportunityall': 6069, 'fastpls': 3342, 'add': 988, 'prayers': 6543, 'dearrakhesh': 2658, 'offerthe': 5982, 'nokia6650': 5856, '£10': 9468, 'txtauction': 8612, '81151': 800, '4tctxt': 650, '150pmtmsg': 360, 'mayb': 5346, 'rite': 7053, 'gd': 3710, 'faster': 3340, 'gals': 3674, 'attached': 1354, 'glad': 3772, 'hadnt': 3959, 'clocks': 2233, 'shouted': 7438, 'realised': 6822, 'wahay': 8913, 'shorter': 7430, 'gaze': 3702, 'eyes': 3287, '930': 893, 'subscribed': 7973, '£3': 9494, '82324': 807, 'helpline': 4090, '08706091795': 89, 'weve': 9062, 'spoken': 7767, 'gist': 3765, 'realize': 6825, '40': 588, 'thousands': 8332, 'tattoos': 8152, 'premier': 6558, 'gimme': 3757, 'lip': 5040, 'caveboy': 2046, 'library': 4989, 'realy': 6830, 'sorryi': 7684, 'confused': 2367, 'holla': 4181, 'anyone': 1210, 'spare': 7716, 'faith': 3309, 'makes': 5264, 'possiblehope': 6495, 'worklove': 9205, 'beautifulmay': 1540, 'christmasmerry': 2193, 'youcarlos': 9406, 'isare': 4524, 'vibrate': 8829, 'acting': 976, 'paris': 6205, '£79': 9517, '08704439680tscs': 88, 'grandmas': 3870, 'hungover': 4295, 'unclaimed': 8657, '09066368327': 263, 'closingdate040902': 2241, 'claimcode': 2207, 'm39m51': 5216, '£150pmmorefrommobile2bremovedmobypobox734ls27yf': 9485, 'gua': 3919, 'mt': 5632, 'faber': 3292, 'yest': 9388, 'wishing': 9143, 'mas': 5312, 'advance': 1016, 'city': 2203, 'summer': 8010, 'store': 7900, '88039': 855, 'skilgme': 7530, 'tscs087147403231winawkage16': 8573, '£150perwksub': 9483, 'goin': 3803, 'meetin': 5375, 'wonder': 9181, 'tis': 8389, 'theyre': 8302, 'dramatic': 2944, 'schools': 7227, 'closed': 2237, 'apparently': 1235, 'drive': 2965, 'inch': 4400, 'anywhere': 1221, 'damn': 2586, 'hunting': 4305, 'drunkard': 2982, 'wats': 8982, 'idc': 4341, 'weaseling': 8997, 'row': 7091, 'space': 7709, 'picking': 6346, 'trash': 8525, 'smokes': 7599, 'begging': 1568, 'lovely': 5146, 'sing': 7496, 'guy': 3945, 'slave': 7547, 'punish': 6697, 'beerage': 1560, '0578': 17, 'randomlly': 6781, 'opening': 6061, 'couldnt': 2448, 'shes': 7387, 'fixes': 3454, 'spelling': 7739, 'diff': 2792, 'living': 5061, 'perfect': 6284, 'community': 2315, '100psms': 298, 'polyphonic': 6460, '087018728737': 82, 'toppoly': 8478, 'tune': 8588, 'subpoly': 7969, '81618': 802, 'pole': 6450, '08718727870': 161, 'enjoyed': 3134, 'fondly': 3505, 'bein': 1575, 'thot': 8326, 'ywhere': 9447, 'dogbreath': 2882, 'sounding': 7698, 'jan': 4598, 'omg': 6029, 'weighed': 9026, 'woohoo': 9189, 'uncountable': 8665, 'dictionary': 2780, 'pieces': 6355, '9996': 900, '14thmarch': 349, 'availa': 1388, 'petey': 6313, 'whereare': 9080, 'friendsare': 3605, 'thekingshead': 8278, 'canlove': 1976, 'nic': 5793, 'pobox84': 6435, 'm263uz': 5215, 'appt': 1257, 'lttimegt': 5177, 'no1': 5830, '8077': 796, 'mates': 5324, 'wwwgetzedcouk': 9281, '36504': 554, 'w45wq': 8904, 'norm150ptone': 5874, 'cashto': 2030, '08000407165': 50, 'getstop': 3743, '88222': 859, 'php': 6339, 'rg21': 7022, '4jx': 641, 'dled': 2861, '3d': 562, 'imp': 4383, 'aint': 1078, 'smokin': 7600, 'boooo': 1720, 'bec': 1542, 'ugh': 8635, 'ssnervous': 7804, 'costumes': 2439, 'gift': 3752, 'yowifes': 9434, 'hint': 4136, '£100': 9469, 'borrow': 1730, 'bag': 1450, 'outbid': 6117, 'simonwatson5120': 7487, 'shinco': 7394, 'plyr': 6418, 'bid': 1616, 'acsmsrewards': 972, 'notifications': 5890, 'model': 5541, 'youi': 9412, 'galileo': 3672, 'dobby': 2866, 'responding': 6986, 'boo': 1711, 'enjoyin': 3135, 'yourjob': 9423, 'gettin': 3744, 'hunnyhope': 4300, 'oktake': 6017, 'i\\x92llspeak': 4574, '2u': 515, 'soonlots': 7674, 'loveme': 5147, 'xxxx': 9337, 'starshine': 7828, 'ache': 964, 'sips': 7504, 'cappuccino': 1987, 'teasing': 8184, 'smsservices': 7607, 'yourinclusive': 9422, 'wwwcomuknet': 9276, '3qxj9': 576, 'extra': 3280, '08702840625comuk': 86, '220cm2': 438, '9ae': 901, 'alfie': 1105, 'moons': 5578, 'm8s': 5219, 'charity': 2097, '8007': 785, 'nokias': 5857, 'polys': 6461, 'zed': 9453, '08701417012': 77, 'profit': 6639, 'bits': 1646, 'hahahause': 3963, 'brain': 1772, 'turned': 8592, 'green': 3890, 'burial': 1874, 'mojibiola': 5548, 'reveal': 7014, '09065174042': 248, 'recd': 6843, 'cust': 2550, '07821230901': 42, 'mate': 5323, 'rv': 7129, 'hol': 4173, 'haven\\x92t': 4033, 'ages': 1054, 'roadsrvx': 7058, 'skyped': 7542, 'kz': 4852, 'sura': 8044, 'given': 3768, 'ultimatum': 8649, 'countin': 2451, 'aburo': 938, 'surely': 8046, 'successful': 7983, 'five': 3449, '08002888812': 56, 'inconsiderate': 4409, 'nag': 5691, 'recession': 6855, 'hence': 4094, 'voucherstext': 8889, 'nowsavamobmember': 5909, 'soo': 7670, 'understand': 8668, '2morrow': 495, 'comprehensive': 2338, 'prashanthettans': 6541, 'mother': 5590, '09066350750': 253, 'ibiza': 4328, '10000': 295, 'await': 1404, 'collection': 2285, '434': 606, 'sk3': 7526, '8wp': 886, 'ppm': 6522, 'kkwhen': 4809, 'meanwhile': 5361, 'suite': 8003, 'xavier': 9321, 'seconds': 7262, 'warning': 8959, 'samantha': 7166, 'playing': 6399, 'jays': 4611, 'guitar': 3940, 'impress': 4391, 'doug': 2930, 'realizes': 6827, 'stomach': 7883, 'trauma': 8526, 'swear': 8073, 'officewhats': 5988, 'mattermsg': 5334, 'nowi': 5904, 'shoes': 7416, 'wan': 8943, 'inner': 4450, 'tigress': 8363, 'version': 8823, 'poor': 6470, 'babyhope': 1437, 'urfeeling': 8737, 'bettersn': 1604, 'probthat': 6626, 'overdose': 6136, 'careful': 2000, 'spk': 7754, 'sn': 7610, 'lovejen': 5145, 'returned': 7010, 'fall': 3316, 'worlds': 9211, 'discreet': 2839, 'vip': 8856, '83110': 813, 'hai': 3965, 'ana': 1167, 'sathy': 7189, 'rto': 7107, 'spoons': 7772, 'named': 5702, 'tampa': 8139, 'genius': 3725, 'whenever': 9075, 'connections': 2374, 'sort': 7686, 'lotta': 5132, 'corvettes': 2431, 'lately': 4910, 'yrs': 9437, 'supply': 8035, 'cds': 2053, 'virgin': 8858, 'records': 6866, 'mystery': 5684, '09061104283': 212, 'wwwsmsconet': 9302, '£150pm': 9484, 'approx': 1255, 'consider': 2379, 'walls': 8939, 'bunkers': 1869, 'peaceful': 6263, 'matter': 5333, '07808': 38, 'xxxxxx': 9339, '08719899217': 175, '41685': 598, '071104': 26, 'posh': 6485, 'birds': 1634, 'chaps': 2089, 'user': 8758, 'trial': 8543, 'prods': 6632, 'champneys': 2080, 'dob': 2865, 'asap': 1312, 'ta': 8103, '0721072': 28, 'philosophical': 6326, 'hole': 4178, 'saved': 7204, 'goodno': 3831, 'problembut': 6619, 'drop': 2972, 'cuddle': 2532, 'nap': 5710, 'atleast': 1350, 'otherwise': 6108, 'shakespeare': 7363, 'shesil': 7388, '10k': 308, '5k': 689, 'travel': 8528, '09064011000': 235, 'ntt': 5920, 'cr01327bt': 2471, 'fixedline': 3453, 'castor': 2034, 'liverpool': 5059, 'played': 6393, 'mid': 5443, '09058094565': 200, '09065171142stopsms08': 246, 'reminder': 6928, 'downloaded': 2933, 'httpdoit': 4264, 'mymoby': 5680, 'knew': 4816, 'woul': 9228, 'lead': 4936, 'wanting': 8951, 'curfew': 2544, 'gibe': 3751, 'midnight': 5445, 'getsleep': 3742, 'studdying': 7939, 'ear': 3019, 'training': 8511, 'massages': 5314, 'oil': 6004, 'sup': 8026, 'yoyyooo': 9435, 'permissions': 6295, 'mac': 5224, 'usb': 8751, 'gibbs': 3750, 'unsoldmike': 8703, 'hussey': 4313, 'failed': 3303, 'sad': 7142, 'unbelievable': 8656, 'faglord': 3302, 'wifehow': 9106, 'murder': 5661, 'nutter': 5937, 'cutter': 2563, 'ctter': 2527, 'cttergg': 2528, 'cttargg': 2526, 'ctargg': 2523, 'ctagg': 2522, 'ie': 4352, 'thus': 8353, 'superb': 8028, 'grateful': 3875, 'opportunity': 6068, 'happier': 4002, 'agents': 1053, 'experiment': 3264, 'due': 2997, 'several': 7340, 'outstanding': 6131, 'invoices': 4501, 'possible': 6494, 'teach': 8174, 'smell': 7586, 'tobacco': 8411, 'derek': 2732, 'taylor': 8160, 'assumed': 1336, 'worst': 9222, 'charles': 2098, 'lastest': 4905, 'stereophonics': 7862, 'marley': 5303, 'dizzee': 2859, 'racal': 6754, 'libertines': 4988, 'strokes': 7928, 'nookii': 5865, 'bookmark': 1717, 'plus': 6417, 'grinule': 3898, 'greet': 3892, 'white': 9090, 'fudge': 3638, 'oreos': 6093, 'stores': 7902, 'january': 4602, 'male': 5270, 'sale': 7156, 'gay': 3697, 'cheaper': 2113, '08709222922': 97, '15pmin': 375, '78pmin': 768, 'peak': 6265, '08712460324': 117, '10pmin': 310, 'zahers': 9450, 'ym': 9397, 'nauseous': 5726, 'pissed': 6370, 'sweets': 8080, 'pig': 6357, 'dieting': 2791, 'chip': 2176, 'iam': 4324, 'addicted': 991, 'msging': 5620, 'wrong': 9249, 'photo': 6336, 'registered': 6898, 'yck': 9359, 'ashleys': 1317, 'avalarr': 1392, 'hollalater': 4182, 'attend': 1358, 'rounds': 7089, 'todaybut': 8416, 'websitenow': 9007, 'blogging': 1673, 'magicalsongsblogspotcom': 5250, 'chikkuil': 2157, 'diet': 2790, 'ate': 1345, 'slices': 7559, 'kvb': 4849, 'acc': 943, '88600': 861, '£1million': 9488, 'ppt150x3normal': 6524, 'box403': 1756, 'w1t1jy': 8902, 'fridayhope': 3598, 'alternativehope': 1138, 'ore': 6090, 'mo': 5526, 'owo': 6150, 'moments': 5553, 'fro': 3620, 'wherever': 9083, 'samus': 7169, 'shoulders': 7435, 'matthew': 5336, '09063440451': 231, '4lux': 642, 'ppm150': 6523, 'box334': 1752, 'sk38xh': 7527, 'wear': 8995, 'jeans': 4618, 'fever': 3383, 'vomitin': 8883, 'kkare': 4800, '09061749602': 227, '£10000': 9471, '528': 675, 'hp20': 4255, '1yf': 415, 'stuffed': 7951, 'bleh': 1662, 'least': 4945, 'writhing': 9241, 'tons': 8462, 'paypal': 6259, 'voila': 8880, 'pockets': 6440, 'places': 6380, 'medical': 5368, 'folks': 3498, '150psms': 367, 'sorta': 7687, 'blown': 1686, 'recently': 6853, 'scores': 7232, 'sophas': 7679, 'secondary': 7261, 'application': 1241, 'applying': 1245, 'ogunrinde': 5998, 'expensive': 3261, 'photos': 6337, '08718720201': 151, '11414': 317, 'tcrw1': 8167, 'lodging': 5081, 'chk': 2178, 'ms': 5617, 'dict': 2779, 'shb': 7378, 'truth': 8563, 'gravity': 3878, 'carefully': 2001, 'feels': 3372, 'heavy': 4064, 'dobbys': 2867, 'bowl': 1744, 'filthy': 3413, 'stories': 7903, 'ull': 8646, 'brand': 1776, 'decision': 2673, 'simpler': 7489, 'magical': 5249, 'welp': 9042, 'retired': 7007, 'natwest': 5724, '£800': 9518, '09050001808': 186, 'm95': 5220, 'valid12hrs': 8793, 'chad': 2074, 'gymnastics': 3951, 'site': 7514, 'christians': 2191, 'backa': 1443, 'necklace': 5742, 'token': 8429, 'youthats': 9425, 'wife': 9104, 'likingbe': 5015, 'seeno': 7282, 'thatdont': 8263, 'aptitude': 1262, '215': 433, 'horse': 4224, 'racing': 6755, 'earlier': 3020, 'chicken': 2148, 'rice': 7027, 'closes': 2240, 'wrongly': 9250, 'ad': 986, 'crap': 2478, 'borin': 1726, 'boggy': 1701, 'boring': 1727, 'biatch': 1615, 'nxt': 5942, 'il': 4364, 'hesitate': 4111, 'weakness': 8992, 'notebook': 5884, 'salary': 7155, 'chocolate': 2180, 'dayshe': 2633, 'potential': 6507, 'talent': 8127, 'reckon': 6860, 'eightish': 3077, 'carpark': 2017, '3g': 565, 'videophones': 8837, '09063458130': 233, 'videochat': 8836, 'java': 4607, 'dload': 2863, 'polyph': 6459, 'noline': 5858, 'rentl': 6941, 'fuckin': 3634, 'dropped': 2973, 'loving': 5154, 'yun': 9441, 'ahthe': 1072, 'ubi': 8631, 'tomorrowcall': 8446, '67441233': 720, 'ireneere': 4514, 'bus822656166382': 1881, 'cresubi': 2497, 'tech': 8185, 'park6ph': 6209, '5wkg': 699, 'daysèn': 2636, 'sd': 7250, 'butt': 1888, 'sore': 7680, 'relaxing': 6909, '7am': 769, 'party': 6222, '5ish': 687, 'stripes': 7926, 'skirt': 7538, 'miracle': 5482, 'jesus': 4632, 'blessed': 1664, 'escalator': 3174, 'yetunde': 9392, 'quiet': 6741, 'beth': 1601, 'aunts': 1378, 'charlie': 2099, 'helen': 4071, 'nobut': 5842, 'heard': 4051, 'syllabus': 8093, 'panasonic': 6178, 'bluetoothhdset': 1690, 'doublemins': 2926, 'doubletxt': 2928, 'contract': 2396, '730pm': 757, 'poyyarikaturkolathupalayamunjalur': 6518, 'posterode': 6502, 'heroi': 4104, 'apt': 1261, 'opportunitypls': 6070, 'ltemailgt': 5175, 'kerala': 4752, 'terrible': 8221, 'fan': 3326, 'meat': 5364, 'lovers': 5151, 'supreme': 8042, 'toldshe': 8433, 'dearregret': 2659, 'cudnt': 2535, 'calldrove': 1942, 'frm': 3611, 'ctla': 2525, 'homeleft': 4188, 'carente': 2004, 'ishtamayoohappy': 4527, 'bakrid': 1458, 'exe': 3245, 'knowwait': 4827, 'glorious': 3778, 'anniversary': 1185, 'j': 4581, 'finds': 3422, 'prey': 6587, 'coaxing': 2260, 'images': 4373, 'fond': 3504, 'souveniers': 7706, 'cougarpen': 2443, 'secretly': 7265, 'fancies': 3328, '09065394514': 249, 'datebox1282essexcm61xn': 2615, '150pmin': 355, 'pattern': 6244, 'throat': 8339, 'scratches': 7240, 'plm': 6409, 'asleep': 1328, 'foreign': 3523, 'stamps': 7817, 'lecture': 4952, 'sheffield': 7382, 'nanny': 5708, 'raise': 6766, 'zoe': 9457, 'shitin': 7405, 'defo': 2693, 'hardest': 4010, 'millions': 5456, 'lekdog': 4963, 'setting': 7333, 'filling': 3408, 'loverboy': 5150, 'blankets': 1659, 'sufficient': 7995, 'thx': 8354, 'nyt': 5946, 'edison': 3048, 'rightly': 7034, 'fool': 3511, 'speechless': 7732, 'viva': 8869, 'gmgngegnt': 3782, 'atten': 1357, 'roast': 7059, 'i\\x92d': 4573, '09058097218': 208, 'ls15hb': 5166, 'concentrate': 2347, 'educational': 3052, 'flirting': 3474, 'bloke': 1674, 'chatting': 2111, 'walked': 8931, 'doesn\\x92t': 2879, 'serious': 7324, 'kickoff': 4769, 'euro': 3190, 'june': 4693, '3rd': 577, 'sells': 7297, 'data': 2613, 'analysis': 1169, 'thesis': 8298, 'belligerent': 1580, 'hiya': 4150, 'april': 1259, 'les': 4972, 'rudi': 7112, 'snoringthey': 7620, 'drunk': 2981, 'sends': 7307, 'ink': 4447, '515': 670, 'howre': 4249, 'throwing': 8342, 'deciding': 2671, 'eastenders': 3033, 'flower': 3481, 'compare': 2320, 'violet': 8855, 'tulip': 8586, 'f': 3289, 'lily': 5017, '84025': 825, 'wkent150p16': 9158, 'technical': 8186, 'support': 8036, 'processnetworking': 6631, 'daysso': 2634, 'prepared': 6562, 'finalise': 3416, 'visitneed': 8865, 'works': 9207, 'wwwflirtpartyus': 9278, 'replys150': 6956, 'bitch': 1642, 'dentist': 2719, '09058091854': 195, 'revealed': 7015, 'box385': 1754, 'm6': 5217, '6wu': 748, 'bathing': 1504, '09050003091': 188, 'c52': 1911, 'xchat': 9322, 'lul': 5190, 'juicy': 4686, 'nurses': 5932, 'obese': 5957, 'oyea': 6152, 'oi': 6002, 'ami': 1148, 'parchi': 6199, 'na': 5688, 'kicchu': 4766, 'kaaj': 4707, 'korte': 4838, 'iccha': 4334, 'korche': 4835, 'tul': 8585, 'movies': 5606, 'copies': 2418, 'sculpture': 7249, 'convey': 2403, 'regards': 6896, 'surya': 8057, 'vijay': 8844, 'pokkiri': 6449, 'pic': 6343, 'dearer': 2653, 'dem': 2711, 'attractioni': 1363, 'meshe': 5416, 'thoughtsi': 8331, 'hershe': 4106, 'dreamlove': 2951, 'breath': 1792, 'namemy': 5703, 'hermy': 4102, 'heri': 4100, 'herwill': 4108, 'sorrowsi': 7682, 'fight': 3397, 'craziest': 2484, 'herlove': 4101, 'proove': 6658, 'planeti': 6385, 'singing': 7498, 'praises': 6534, 'curry': 2548, 'makiing': 5265, 'sambarlife': 7167, 'thenwill': 8285, 'lotwill': 5134, 'frndship': 3615, 'needle': 5749, 'clock': 2232, 'evn': 3222, 'meetitz': 5378, '4few': 634, 'alwys': 1142, 'conected': 2358, 'spatula': 7720, 'hands': 3985, 'sipix': 7503, 'digital': 2802, '09061221061': 215, '28days': 464, 'box177': 1749, 'm221bp': 5212, '2yr': 525, 'warranty': 8960, 'p': 6155, 'p£399': 6720, '09061790121': 228, 'doctor': 2872, 'calis': 1926, 'complexities': 2334, 'freely': 3577, 'taxes': 8156, 'outrageous': 6125, 'tomorro': 8444, 'ryder': 7132, 'unsoldnow': 8704, 'subscriber': 7974, 'receipt': 6845, 'elvis': 3097, 'presleys': 6573, 'fret': 3595, 'strips': 7927, 'postal': 6498, 'addressull': 995, 'alrightokay': 1132, 'gifts': 3754, 'cliff': 2229, 'ne': 5732, 'interesting': 4478, 'wrking': 9245, 'uni': 8681, 'depressed': 2728, 'sittin': 7517, 'wind': 9119, 'drops': 2974, 'black': 1648, 'aiyah': 1084, 'information': 4436, 'o2': 5952, 'onto': 6048, 'httpwwwurawinnercom': 4273, 'surprise': 8052, 'awaiting': 1405, 'hen': 4093, 'online': 6041, 'italian': 4538, 'grins': 3897, 'smoked': 7598, 'math': 5325, 'sfirst': 7350, 'timedhoni': 8370, 'rocks': 7065, 'teju': 8193, 'hourish': 4237, 'nothis': 5888, 'groundamla': 3905, 'durban': 3006, 'convenience': 2399, 'evaluation': 3194, '449050000301': 613, '09050000301': 179, 'speed': 7733, 'speedchat': 7734, '80155': 789, 'swap': 8067, 'chatter': 2110, 'chat80155': 2107, 'rcd': 6801, 'cancel': 1971, 'cheyyamoand': 2142, '08000776320': 51, 'okok': 6015, 'okthenwhats': 6018, 'aiyar': 1085, 'survey': 8056, '80160': 790, 'wwwtxt43com': 9309, 'catching': 2039, 'throws': 8344, 'gal': 3670, 'falls': 3319, 'brothers': 1827, 'whos': 9094, 'gayd': 3698, 'hmv1': 4167, 'errors': 3167, 'difficulties': 2799, 'correction': 2427, 'howz': 4253, 'painhope': 6170, 'tau': 8153, 'sar': 7178, 'piah': 6342, '1stchoicecouk': 407, '08707808226': 94, 'wearing': 8996, 'ohas': 6000, 'film': 3410, 'hgsuite3422landsroww1j6hl': 4118, 'shades': 7354, 'copied': 2417, 'notified': 5891, 'luck': 5181, 'marketing': 5301, '84122': 826, '08450542832': 69, 'raining': 6765, 'station': 7842, 'tank': 8140, 'virgins': 8859, '4fil': 635, 'sexual': 7344, 'cute': 2559, '69911£150p': 732, 'sitter': 7516, 'kaitlyn': 4712, 'adult': 1014, 'danger': 2595, 'peeps': 6268, 'comment': 2311, 'veggie': 8813, 'neighbors': 5758, 'computerless': 2343, 'balloon': 1462, 'passthey': 6233, 'silently': 7483, 'ntswt': 5919, 'drms': 2970, 'roommate': 7080, 'wrc': 9235, 'rally': 6776, 'oz': 6154, 'lucozade': 5185, 'energy': 3125, 'le': 4935, '61200': 708, 'packs': 6162, 'lucozadecoukwrc': 5186, 'itcould': 4541, 'melody': 5390, 'horrible': 4223, 'macs': 5233, 'toot': 8470, 'bigger': 1619, 'nw': 5941, 'hme': 4155, 'islands': 4529, 'chennai': 2133, 'velachery': 8815, 'flippin': 3472, 'breaking': 1790, 'cstore': 2521, 'annoying': 1190, 'hangin': 3991, 'makin': 5266, 'alivebetter': 1113, 'lodge': 5080, 'worrying': 9219, 'shame': 7366, 'quizzes': 6749, 'popcorn': 6474, 'jordan': 4670, 'celeb': 2056, 'pocketbabecouk': 6439, '£3wk': 9499, '087016248': 80, 'voicemail': 8879, '08719181503': 172, 'thin': 8305, 'faultal': 3350, 'arguments': 1280, 'faultfed': 3351, 'himso': 4134, '2go': 483, 'thanxxx': 8259, 'neft': 5753, 'credited': 2493, 'beneficiary': 1590, 'natuition': 5721, 'understanding': 8669, 'choice': 2181, 'enter': 3141, 'wwwldewcomsubs161win150ppmx3': 9286, 'appreciated': 1249, 'semi': 7300, 'apart': 1223, 'delivered': 2706, 'exp': 3256, '30apr': 535, 'strong': 7929, 'arms': 1289, 'maaaan': 5221, 'guessin': 3933, 'walmart': 8940, 'ilol': 4369, 'personally': 6303, 'wuldnt': 9262, 'mite': 5506, 'creepy': 2496, 'lunchtime': 5192, 'organise': 6094, '08719181513': 173, 'kkim': 4805, 'finewhen': 3427, 'complete': 2329, 'passable': 6227, 'score': 7231, 'phd': 6323, '5years': 701, 'easier': 3029, 'nok': 5852, '87021': 845, 'txtin': 8614, '150ptone': 369, '4info': 640, 'prakesh': 6537, 'apps': 1256, 'rofl': 7068, 'betta': 1602, 'invest': 4494, 'anti': 1204, 'aging': 1057, 'products': 6633, '1hr': 398, 'delay': 2699, 'accommodation': 952, 'various': 8802, 'global': 3777, 'wwwphb1com': 9290, 'ph08700435505150p': 6319, 'submitting': 7968, '84128': 827, 'wwwtextcompcom': 9305, '08712405020': 115, '1s': 404, 'snatch': 7614, 'purse': 6708, 'hellodrivby0quit': 4076, 'edrunk': 3050, 'iff': 4353, 'pthis': 6685, 'senrddnot': 7309, 'dancce': 2589, 'drum': 2980, 'basqihave': 1498, '2nhite': 502, 'ros': 7083, 'xxxxxxx': 9340, 'morn': 5582, 'relieved': 6912, 'westonzoyland': 9058, 'greatness': 3888, 'europe': 3193, 'nobody': 5840, 'chinese': 2173, 'docs': 2871, 'songs': 7666, 'havin': 4034, 'goin2bed': 3804, 'only1more': 6044, 'mc': 5349, 'hun': 4291, '2nitetell': 505, 'every1': 3207, 'ava': 1387, 'goodtimeoli': 3835, 'rang': 6784, 'melnite': 5389, 'ifink': 4354, 'sortedbut': 7689, 'everythin': 3215, 'monl8rsx': 5566, '08712402779': 111, 'flip': 3471, 'shun': 7459, 'bian': 1614, 'glass': 3775, 'exhibition': 3251, 'el': 3080, 'nino': 5819, 'chikkugoing': 2156, 'cbe': 2047, 'honey': 4196, 'jd': 4615, 'executive': 3246, 'parents': 6203, 'picked': 6345, 'downstem': 2937, '08718730555': 164, 'wahala': 8912, 'inperialmusic': 4455, 'listening2the': 5049, 'weirdest': 9031, 'by\\x94leafcutter': 1907, 'john\\x94sounds': 4653, 'insects': 4458, 'molestedsomeone': 5550, 'plumbingremixed': 6415, 'evil': 3221, 'acid': 966, 'didntgive': 2783, 'bellearlier': 1579, 'hunnyjust': 4301, 'bedbut': 1550, 'thepub': 8289, 'l8tr': 4857, 'uwana': 8779, 'uploads': 8723, 'jenxxx': 4625, 'exact': 3233, '09096102316': 281, '2moro': 492, 'jane': 4600, 'calls£1minmoremobsemspobox45po139wa': 1957, 'tee': 8188, 'cheery': 2128, 'cell': 2062, 'thts': 8349, 'dough': 2931, 'control': 2398, '80488biz': 794, 'weirdo': 9032, 'mode': 5540, 'stalk': 7814, 'profiles': 6638, 'jerry': 4629, 'irritates': 4519, 'fails': 3305, 'express': 3276, 'drinkin': 2961, 'wondering': 9183, 'others': 6107, 'dog': 2881, 'heygreat': 4115, 'dealfarm': 2647, 'tour': 8496, '9am': 902, '5pm': 693, '95pax': 896, 'deposit': 2726, 'jap': 4604, 'disappeared': 2829, 'birthdate': 1638, 'certificate': 2071, 'publish': 6689, 'dreams': 2952, 'nydc': 5944, 'wheellock': 9074, 'destination': 2747, 'fifty': 3396, 'favour': 3356, 'settling': 7337, 'happenin': 3999, 'ola': 6020, 'cocksuckers': 2265, 'ipads': 4509, 'worthless': 9224, 'garbage': 3686, 'novelty': 5897, 'items': 4542, 'tshirt': 8574, 'fran': 3560, 'broke': 1820, 'knackered': 4814, 'janx': 4603, 'ps': 6675, 'dads': 2578, 'designation': 2739, 'software': 7632, 'developer': 2759, 'jamster': 4594, 'videosound': 8840, 'gold': 3807, 'videosounds2': 8841, 'logosmusicnews': 5091, 'jamstercouk': 4595, '16only': 379, '09701213186': 289, 'lions': 5039, 'lionm': 5037, 'lionp': 5038, 'wwwringtonescouk': 9293, 'original': 6098, '3gbp': 566, 'jokin': 4663, 'spirit': 7751, 'bb': 1512, 'shattered': 7376, 'alrite': 1133, 'idiot': 4348, 'girlie': 3763, 'colours': 2293, 'darker': 2601, 'styling': 7961, 'whenevr': 9076, 'gray': 3880, 'remembr': 6923, 'listn': 5050, 'watevr': 8978, 'whileamp': 9087, '“harry': 9527, 'potter': 6508, 'phoenix': 6329, 'harry': 4016, 'among': 1154, 'readers': 6814, 'shd': 7379, 'minus': 5478, 'paragraphs': 6196, 'coveragd': 2464, 'vasai': 8805, '4o': 645, 'retard': 7006, 'bathroom': 1505, 'sang': 7172, 'uptown': 8733, '80s': 798, 'february': 3364, 'rush': 7127, 'icic': 4336, 'syria': 8098, 'canada': 1968, 'heartsnot': 4059, 'cares': 2005, 'goodnoon': 3832, 'gauge': 3694, 'pattys': 6246, 'interest': 4476, 'mondaynxt': 5557, 'vl': 8873, 'completing': 2333, 'ax': 1414, 'chill': 2167, '6hrs': 739, 'surgical': 8049, 'emergency': 3105, 'unfolds': 8676, 'frens': 3591, 'korean': 4836, 'leonas': 4971, 'fredericksburg': 3570, 'que': 6731, 'pases': 6225, 'un': 8654, 'buen': 1856, 'tiempo': 8359, 'chillin': 2169, 'super': 8027, 'free2day': 3572, 'georges': 3733, 'jordantxt': 4671, '89080': 869, 'saucy': 7200, 'celeb4': 2057, '0870241182716': 83, 'tmrw': 8405, 'compass': 2321, 'soul': 7696, 'worldgnun': 9209, 'way2smscom': 8986, 'baaaaabe': 1429, 'misss': 5497, 'youuuuu': 9427, 'ned': 5743, 'convince': 2405, 'tht': 8348, 'witot': 9152, 'hurting': 4310, 'main': 5259, 'sweetie': 8079, 'blackberry': 1650, 'buyer': 1893, 'melike': 5387, '4a': 629, 'pple': 6520, 'marry': 5308, 'becz': 1548, 'undrstndng': 8673, 'avoids': 1403, 'problems': 6622, 'chain': 2075, 'suffer': 7992, 'whn': 9091, 'arrested': 1299, 'suntec': 8025, 'steamboat': 7856, 'dance': 2590, 'moji': 5547, 'forgive': 3529, 'messenger': 5432, 'reaching': 6810, 'tp': 8503, 'fantasies': 3331, '08707509020': 92, '20p': 429, '1327': 341, 'croydon': 2510, 'cr9': 2472, '5wb': 697, '0870k': 99, 'bbq': 1518, '6ish': 740, 'everyso': 3214, 'panicks': 6181, 'outhave': 6122, 'fill': 3406, 'bar': 1478, 'write': 9240, '3cover': 561, 'screen': 7245, '4press': 647, '5gently': 686, 'bears': 1536, 'nick': 5797, 'tom': 8438, 'fact': 3297, 'types': 8624, 'upload': 8721, '08718730666': 165, 'auntie': 1376, 'huai': 4276, 'juan': 4684, 'linerental': 5028, 'call2optoutlf56': 1935, 'tlk': 8399, 'ideal': 4344, 'path': 6239, 'appear': 1237, 'front': 3625, 'paths': 6241, 'walking': 8933, 'arm': 1285, 'shot': 7433, 'reserve': 6972, 'thirunelvali': 8316, 'tirunelvali': 8387, 'evei': 3198, 'netno': 5768, 'availablei': 1390, 'tackle': 8108, 'storming': 7904, 'phne': 6328, 'wt': 9254, 'meaning': 5356, 'margaret': 5297, 'girlfrnd': 3762, 'grahmbell': 3863, 'invnted': 4500, 'telphone': 8203, 'moralone': 5581, '4get': 636, 'popped': 6476, 'tonght': 8455, 'ploughing': 6410, 'pile': 6360, 'ironing': 4517, 'chinky': 2174, 'wi': 9097, 'nz': 5950, 'players': 6395, 'unsold': 8702, 'effect': 3060, 'geelater': 3718, 'aust': 1381, 'bk': 1647, 'cafe': 1915, 'recharged': 6857, 'kidding': 4772, 'papa': 6188, 'shld': 7412, 'stretch': 7920, 'detailed': 2750, 'sinco': 7494, 'payee': 6254, 'icicibankcom': 4337, 'urn': 8748, 'beware': 1607, 'frauds': 3565, 'share': 7373, 'disclose': 2835, 'vote': 8885, 'caring': 2009, 'losers': 5121, 'kaiez': 4710, 'tuition': 8584, 'gee': 3715, 'option': 6078, 'beta': 1600, 'practicing': 6531, 'babies': 1434, 'kkany': 4798, 'noncomittal': 5861, 'beneath': 1589, 'pale': 6174, 'moon': 5577, 'goodnite': 3830, '150pmsgrcvdhgsuite3422landsroww1j6hl': 358, 'snickering': 7617, 'tells': 8201, 'totally': 8490, 'chords': 2186, 'nofew': 5844, 'beforewent': 1565, 'rem': 6916, 'silver': 7485, 'lmao': 5065, 'silence': 7481, 'wwwldewcom': 9283, 'win150ppmx3age16': 9118, 'exams': 3236, 'revision': 7019, 'boyf': 1765, 'interviw': 4486, 'exeter': 3248, 'worriedx': 9215, 'spreadsheet': 7782, 'whose': 9095, 'determine': 2753, 'entire': 3147, 'arsenal': 1304, 'dartboard': 2609, 'condition': 2354, 'doubles': 2927, 'trebles': 8539, 'coat': 2259, 'painful': 6169, 'everybody': 3208, 'recognises': 6862, 'alone': 1126, 'wisheds': 9140, 'intrepid': 4489, 'duo': 3005, 'sen': 7302, 'missin': 5493, 'guilty': 3939, 'aiya': 1083, 'cardiff': 1993, 'addie': 992, 'tues': 8581, 'breeze': 1797, 'bright': 1803, 'fresh': 3593, 'twittering': 8607, 'yagoing': 9346, 'restaurant': 6992, 'textpod': 8243, 'pod': 6442, 'wwwtextpodnet': 9306, 'ducking': 2993, 'chinchillas': 2172, 'function': 3647, 'headstart': 4044, '230ish': 441, 'desperate': 2744, 'earlierwe': 3021, 'rummer': 7120, 'flying': 3490, 'monkeys': 5565, 'certainly': 2070, 'optin': 6077, 'bbc': 1513, 'charts': 2102, 'thanks2': 8253, 'rajini': 6770, 'practical': 6529, 'stupidits': 7958, 'summers': 8011, 'matched': 5321, 'help08714742804': 4086, 'spys': 7791, 'mails': 5258, 'claire': 2209, '2nite': 504, '09099725823': 282, 'bought': 1738, 'costing': 2436, 'offering': 5980, 'yalru': 9350, 'lyfu': 5206, 'astne': 1339, 'innu': 4453, 'mundhe': 5658, 'lyf': 5205, 'ali': 1109, 'halla': 3975, 'ke': 4740, 'bilo': 1628, 'marriageprogram': 5306, 'edhae': 3047, 'ovr': 6140, 'chikkuali': 2153, 'vargu': 8801, 'meow': 5409, 'meowd': 5410, 'twelve': 8600, 'aah': 914, '09066362231': 259, '07xxxxxxxxx': 48, '020603': 8, 'prone': 6656, '07801543489': 37, 'latests': 4915, 'wordcollect': 9195, 'no83355': 5836, 'tcllc': 8166, 'nyusa': 5949, '150pmt': 359, 'msgrcvd18': 5621, 'permission': 6294, 'lucy': 5187, 'hubby': 4277, 'meetins': 5377, 'cumin': 2539, '09099726395': 283, 'calls£1minmobsmorelkpobox177hp51fl': 1956, 'wonders': 9184, '7th': 778, '6th': 746, '5th': 696, '4th': 651, 'personality': 6302, 'nature': 5723, 'dose': 2921, 'tablet': 8106, 'incomm': 4408, 'blakes': 1654, 'waitshould': 8923, 'lotr': 5128, 'w': 8897, 'keeping': 4743, 'google': 3837, 'maps': 5292, 'tiring': 8385, 'modules': 5545, 'concentrating': 2348, 'browsin': 1835, 'compulsory': 2340, 'purity': 6705, 'messageits': 5422, 'musthu': 5671, 'investigate': 4495, '80488': 793, 'www80488biz': 9266, 'vomit': 8882, 'moneyas': 5560, 'youmoney': 9416, 'thinghow': 8307, 'sha': 7353, 'vitamin': 8868, 'centre': 2065, 'crucial': 2511, 'someones': 7645, 'jsco': 4680, '2channel': 474, 'leadership': 4937, 'skills': 7533, 'psychic': 6681, 'wquestion': 9234, 'hostbased': 4228, 'idps': 4350, 'linux': 5035, 'systems': 8101, '0870': 73, 'dawhats': 2624, 'total': 8489, 'converter': 2402, 'along': 1127, 'stars': 7827, 'karaoke': 4728, 'testing': 8228, 'sayy': 7214, 'loved': 5144, 'except': 3238, 'nit': 5821, 'peteis': 6311, 'leannewhat': 4942, 'eight': 3075, 'file': 3404, 'format': 3537, 'disc': 2834, 'internet': 4482, 'champ': 2078, 'glasgow': 3774, 'kall': 4716, 'bestcongrats': 1597, 'lovin': 5153, 'arrive': 1301, 'shortly': 7431, 'install': 4464, 'browse': 1833, 'artists': 1306, 'corect': 2422, 'speling': 7736, 'sarcasm': 7181, '10803': 304, '08714719523': 130, 'forum': 3544, 'ron': 7076, 'hicts': 4121, 'employee': 3110, 'aunt': 1375, 'nike': 5813, 'sooo': 7676, 'screaming': 7244, 'shouting': 7439, 'dang': 2594, 'unfortunately': 8677, 'airport': 1081, '7250i': 754, 'auction': 1367, '86021': 839, 'roww1jhl': 7094, 'difficult': 2798, 'earliest': 3022, 'nordstrom': 5872, 'konw': 4834, 'waht': 8917, 'rael': 6759, 'gving': 3948, 'yuo': 9443, 'exmpel': 3253, 'jsut': 4683, 'ese': 3176, 'tihs': 8364, 'evrey': 3227, 'splleing': 7761, 'wrnog': 9248, 'sitll': 7515, 'raed': 6758, 'wihtuot': 9109, 'ayn': 1417, 'mitsake': 5507, 'sleepsweet': 7554, 'conference': 2359, 'wwworangecoukow': 9289, 'degree': 2694, 'joining': 4658, 'finance': 3418, 'prospects': 6666, 'bleak': 1661, 'filled': 3407, 'shant': 7371, 'jia': 4638, 'bishan': 1640, 'nearer': 5735, 'sux': 8059, 'raiden': 6762, 'buff': 1857, 'south': 7704, 'preferably': 6555, 'kegger': 4746, 'totes': 8491, 'pierre': 6356, 'cardin': 1994, 'costs': 2437, 'rhythm': 7026, 'establish': 3183, 'truro': 8560, 'ext': 3278, 'gas': 3691, 'gang': 3682, 'adventure': 1017, 'worryuse': 9220, 'cloth': 2242, 'packalso': 6160, 'tablets': 8107, 'sunroof': 8022, 'excellent': 3237, 'finishing': 3433, 'doors': 2917, 'wifi': 9108, 'blanked': 1657, 'image': 4372, 'noi': 5846, 'rumour': 7121, 'kalainar': 4714, 'officethenampet': 5986, '7250': 753, 'nosy': 5882, 'idk': 4349, 'reacting': 6811, 'freaked': 3567, 'satanic': 7188, 'imposter': 4390, 'meneed': 5400, 'priceso': 6590, 'itmay': 4552, 'destiny': 2748, 'companion': 2318, 'chef': 2132, 'listener': 5047, 'organizer': 6095, 'boyfriend': 1766, 'sympathetic': 8095, 'athletic': 1346, 'courageous': 2458, 'determined': 2754, 'dependable': 2723, 'psychologist': 6682, 'pest': 6309, 'exterminator': 3279, 'psychiatrist': 6680, 'healer': 4047, 'stylist': 7963, 'driver': 2966, 'aaniye': 915, 'pudunga': 6691, 'venaam': 8818, 'brothas': 1825, 'chasing': 2104, 'chez': 2143, 'jules': 4687, 'hhahhaahahah': 4119, 'nig': 5800, 'leonardo': 4970, 'dereks': 2733, 'lt3': 5170, 'kicks': 4770, 'john': 4652, '2years': 524, 'strain': 7909, 'dime': 2806, 'transfer': 8518, 'withdraw': 9147, 'anyhow': 1208, 'falling': 3318, 'force': 3520, 'smeone': 7588, 'millers': 5454, 'fire': 3436, 'spark': 7718, 'flame': 3459, 'rawring': 6796, 'xoxo': 9328, 'somewhr': 7660, 'crushes': 2515, 'honeymoon': 4199, 'outfit': 6119, 'propose': 6662, '08719899230': 177, 'blame': 1655, 'gods': 3797, 'blessings': 1667, 'cheque': 2136, 'olympics': 6028, 'leo': 4968, 'kthen': 4843, 'patty': 6245, 'donewant': 2905, 'haul': 4024, 'wildlife': 9114, 'want2come': 8949, 'that2worzels': 8261, 'wizzle': 9155, 'dippeditinadew': 2818, 'lovingly': 5155, 'itwhichturnedinto': 4561, 'gifted': 3753, 'tomeandsaidthis': 8441, 'shanghai': 7369, 'instead': 4469, 'cya': 2567, 'freezing': 3587, '645': 716, 'rtking': 7105, 'pro': 6614, 'inforingtonekingcouk': 4434, '08701237397': 76, 'redeemable': 6873, 'wwwringtonekingcouk': 9292, 'thnx': 8323, 'sef': 7284, 'anjie': 1181, 'batch': 1500, 'fring': 3609, 'flaky': 3458, 'sooooo': 7678, 'laughing': 4919, 'winning': 9130, 'tooo': 8468, 'nte': 5918, '09058094599': 204, 'confuses': 2368, 'doesn‘t': 2880, 'wating': 8979, '250': 450, 'british': 1815, 'hotels': 4233, 'london': 5097, '02072069400': 11, 'bx': 1901, '526': 674, 'sw73ss': 8063, 'talents': 8128, '6pm': 743, 'animal': 1179, 'buzz': 1898, 'adoring': 1007, 'eerie': 3058, 'title': 8391, 'dracula': 2941, 'titles': 8392, 'ghost': 3749, 'addamsfa': 989, 'munsters': 5659, 'exorcist': 3255, 'twilight': 8604, 'brought': 1829, 'shiny': 7397, 'warming': 8956, 'constant': 2383, 'cared': 1998, 'wasnt': 8963, 'surprised': 8053, 'french': 3590, 'fooled': 3512, '0anetworks': 290, 'allow': 1121, 'companies': 2317, 'responsible': 6990, 'suppliers': 8033, 'guarantee': 3921, 'comedycant': 2300, 'freemsgfeelin': 3581, 'lnly': 5067, 'jst': 4681, 'moby': 5539, 'pictxt': 6352, '82242': 804, 'msg150p': 5619, '2rcv': 511, 'hlp': 4153, '08712317606': 106, 'keen': 4741, 'switch': 8087, 'dammit': 2585, 'wright': 9239, 'fly': 3488, 'somewhat': 7657, 'event': 3202, 'laden': 4868, 'wrecked': 9236, 'spontaneously': 7769, 'goodevening': 3822, 'bagi': 1451, 'lei': 4962, 'action': 977, '80608': 795, 'wwwmovietriviatv': 9287, '08712405022': 116, 'waking': 8926, 'sif': 7470, 'partnership': 6220, 'rgent': 7024, 'lookin': 5107, 'daytime': 2637, 'busty': 1885, '09099726429': 284, 'janinexx': 4601, 'mostly': 5589, 'inside': 4461, 'spageddies': 7712, 'phasing': 6322, 'fourth': 3553, 'dimension': 2807, 'yesbut': 9380, 'meaningful': 5357, 'compromised': 2339, 'mornin': 5583, 'lmaonice': 5066, '09050001295': 185, 'a21': 911, 'monthly': 5572, 'mobsicom': 5537, '391784': 559, 'dub': 2990, 'je': 4616, 'toughest': 8495, 'unspoken': 8705, '£6': 9512, 'ideas': 4345, 'sight': 7473, 'remain': 6917, 'maintain': 5260, 'shjas': 7411, 'squatting': 7793, 'cramps': 2477, '0089my': 2, 'digits': 2803, 'received': 6850, '09063442151': 232, 'ringtoneget': 7043, 'freesend': 3586, '816183': 803, 'weekstop': 9024, 'sms08718727870': 7604, 'nan': 5706, 'sonathaya': 7663, 'soladha': 7636, 'raping': 6788, 'dudes': 2995, 'poker': 6447, 'weightloss': 9029, 'mushy': 5666, 'embarrassed': 3103, 'stash': 7838, 'ran': 6779, 'priya': 6608, 'ordered': 6089, '81303': 801, 'father': 3345, 'messy': 5433, 'kilos': 4779, 'accidant': 949, 'tookplace': 8465, 'ghodbandar': 3748, 'rd': 6805, 'traffic': 8508, 'moves': 5604, 'slovely': 7570, 'slip': 7563, 'ahnow': 1069, 'wkg': 9159, 'wherebtw': 9081, 'nus': 5934, 'sc': 7216, 'specialise': 7727, 'wad': 8909, 'likes': 5013, 'dislikes': 2844, 'keeps': 4745, 'queen': 6732, 'desparately': 2743, 'fren': 3589, 'promises': 6650, 'gotten': 3849, 'stereo': 7861, 'mi': 5440, 'unknown': 8692, 'album': 1095, '121': 328, '60pmin': 707, 'connect': 2371, '09094646899': 279, 'vu': 8896, 'bcm1896wc1n3xx': 1524, 'classmates': 2217, 'firesare': 3440, 'boys': 1767, '2007': 425, 'prebook': 6548, 'trackmarque': 8505, 'infovipclub4u': 4440, 'missionary': 5495, 'hook': 4205, 'standing': 7820, 'entertaining': 3145, 'hugh': 4283, 'laurie': 4922, 'stick': 7871, 'indeed': 4417, 'praps': 6538, 'jon': 4667, 'bin': 1630, 'spain': 7713, 'dinero': 2811, '\\x91rents': 9463, '12000pes': 326, '£48': 9502, 'james': 4593, 'hunnywot': 4302, 'bedroomlove': 1555, 'maangalyam': 5222, 'alaipayuthe': 1093, 'complaining': 2326, 'mandy': 5282, 'sullivan': 8006, 'hotmix': 4234, 'fmyou': 3493, 'chosen': 2188, '£500000': 9507, 'easter': 3034, 'drawplease': 2947, 'telephone': 8195, '09041940223': 178, '290305': 467, 'transferred': 8521, 'finns': 3435, 'di': 2770, 'bahamas': 1453, 'callfreefone': 1947, '08081560665': 63, 'cruise': 2513, 'of£2000': 5996, '18only': 386, '07786200117': 34, 'calm': 1959, 'downon': 2935, 'theacusations': 8273, 'itxt': 4562, 'iwana': 4569, 'wotu': 9226, 'thewend': 8300, 'haventcn': 4032, 'agesring': 1055, 'up4': 8711, 'nething': 5767, 'satlove': 7194, 'dine': 2809, 'conacted': 2346, 'youto': 9426, '09111030116': 287, 'pobox12n146tf15': 6427, 'i\\x92m': 4575, 'vtired': 8895, 'social': 7629, 'inspection': 4462, 'nursery': 5931, 'detailsi': 2752, 'youmy': 9417, 'slowly': 7574, 'becomes': 1546, 'habit': 3957, 'follow': 3499, 'itmail': 4551, 'panren': 6182, 'paru': 6224, 'chuckin': 2196, 'trainners': 8512, 'carryin': 2019, 'bac': 1441, 'schedule': 7225, 'gooddhanush': 3820, 'needing': 5748, 'stuck': 7938, 'chikkusimple': 2159, 'habbahw': 3956, 'dileepthank': 2805, 'muchand': 5639, 'supportvery': 8039, 'contacts': 2387, 'hereremember': 4098, 'venugopal': 8819, 'mentionedtomorrow': 5404, 'latei': 4909, 'theregoodnight': 8291, 'remembrs': 6924, 'forgets': 3528, 'everytime': 3217, 'joys': 4677, 'mandan': 5280, '07734396839': 30, 'ibh': 4326, 'nokia6600': 5855, 'txtauctiontxt': 8613, 'wordstart': 9199, 'no81151': 5835, 'now4t': 5900, 'regarding': 6895, '3230': 545, 'textbook': 8236, 'algorithms': 1108, 'edition': 3049, 'selling': 7296, 'buns': 1870, 'adore': 1006, 'invaders': 4492, 'orig': 6097, 'arcade': 1267, 'console': 2382, '0': 0, 'o2coukgames': 5953, 'settings': 7334, 'alert': 1099, '09064018838': 241, 'cro1327': 2505, 'atlanta': 1348, 'recharge': 6856, 'created': 2488, 'fills': 3409, 'gaps': 3684, 'holding': 4177, 'yessura': 9387, 'tvlol': 8598, 'arun': 1310, 'transfr': 8522, 'takin': 8125, 'philosophy': 6327, '4ui': 657, 'didn\\x92t': 2784, 'intend': 4473, 'iwasmarinethat\\x92s': 4570, 'itried2tell': 4557, 'urmomi': 8747, 'careabout': 1997, 'foley': 3497, 'exciting': 3241, 'prizes': 6611, 'eye': 3285, 'wwwwin82050couk': 9312, 'desparate': 2742, 'learned': 4944, 'fake': 3311, 'answering': 1199, 'iraq': 4513, 'afghanistan': 1033, 'stable': 7807, 'honest': 4193, 'traveling': 8529, 'blessget': 1665, '1225': 329, '£50award': 9508, '3100': 540, 'pai': 6166, 'seh': 7285, 'beer': 1559, 'combine': 2297, 'parts': 6221, 'walsall': 8941, 'tue': 8580, 'terry': 8224, 'jess': 4631, 'sian': 7463, 'ccna': 2050, 'shrek': 7452, '3db': 564, 'dirty': 2826, 'fellow': 3376, 'somethings': 7652, 'dying': 3014, 'lifting': 5005, 'teresa': 8216, 'package': 6159, 'dec': 2666, 'yould': 9414, 'bam': 1464, 'aid': 1074, 'usmle': 8765, 'squishy': 7797, 'mwahs': 5677, 'hottest': 4235, 'g696ga': 3664, 'prominent': 6647, 'cheek': 2124, 'september': 7321, 'husband': 4312, 'hack': 3958, 'backdoor': 1444, 'fraction': 3559, 'neo69': 5761, '09050280520': 191, 'subscribe': 7971, 'dps': 2939, 'bcm': 1523, '8027': 792, 'norm': 5873, '415': 597, 'list': 5044, 'joanna': 4644, 'comingdown': 2308, 'dagood': 2579, 'replacement': 6949, 'murali': 5660, 'playerwhy': 6396, 'sts': 7935, 'engalnd': 3129, 'telly': 8202, 'mia': 5441, 'elliot': 3093, 'kissing': 4792, 'upto': 8732, '12mths': 336, '12price': 337, 'xnet': 9327, 'mins100txtmth': 5474, 'btooth': 1848, '08001950382': 55, '2optoutd3wv': 507, 'wiproyou': 9135, 'matric': 5331, '850': 832, 'toa': 8409, 'payoh': 6258, '650': 718, '08718726970': 156, 'btnationalrate': 1847, 'payments': 6257, 'fedex': 3365, 'kyou': 4851, 'reception': 6854, 'godi': 3795, 'youclean': 9407, 'bloodsend': 1680, 'itplspls': 4556, 'hate': 4021, 'consensus': 2376, 'entertain': 3144, 'delete': 2701, 'tag': 8113, 'wednesday': 9013, 'skype': 7541, 'laundry': 4921, 'underwear': 8671, 'bras': 1778, 'strewn': 7921, 'pillows': 6361, 'waheed': 8914, 'fathima': 3346, 'mmmm': 5518, 'weaknesses': 8993, 'pushes': 6711, 'knees': 4815, 'exposes': 3275, 'pulls': 6694, 'wicked': 9098, 'sh': 7352, 'readyall': 6818, 'supports': 8038, 'srt': 7800, 'thnk': 8321, 'ps3': 6676, 'jontin': 4669, 'prizeto': 6613, 'nearly': 5736, 'banned': 1474, 'pen': 6271, 'beyond': 1608, 'biro': 1636, 'masters': 5318, '09058094594': 202, 'unconsciously': 8663, 'avoiding': 1402, 'unhappy': 8680, 'excuse': 3242, 'jog': 4650, '0776xxxxxxx': 33, '18yrs': 388, '09061743811': 225, 'abta': 937, '326': 547, 'season': 7257, 'lark': 4902, 'stations': 7843, '09090900040': 276, 'extreme': 3282, 'sic': 7465, '60p': 706, '247mp': 445, '0870753331018': 93, 'videopic': 8838, 'fones': 3508, 'wild': 9112, '150prcvd': 366, 'stop2stop': 7891, 'uh': 8637, 'heads': 4042, 'lim': 5018, 'vday': 8810, 'parachute': 6193, 'placed': 6377, '80182': 791, '08452810073': 71, 'therere': 8293, 'table': 8104, 'lambda': 4878, 'build': 1861, 'snowman': 7624, 'angels': 1177, 'snowball': 7622, 'fights': 3400, 'ello': 3094, 'ikea': 4361, 'ofice': 5992, 'cn': 2253, 'oficegot': 5993, 'duffer': 2998, 'grr': 3912, 'prescription': 6568, 'pharmacy': 6321, 'cook': 2409, 'electricity': 3090, '08715500022': 139, 'rpl': 7097, 'cnl': 2254, 'fffff': 3384, 'kadeem': 4708, 'fujitsu': 3640, 'lifebook': 4997, 'scold': 7229, 'zhong': 9455, 'se': 7253, 'qing': 6727, 'act': 973, '46': 622, 'accordingly': 957, 'hypertension': 4322, 'mineall': 5466, 'wud': 9259, 'annoyin': 1189, '08702490080': 84, '09066358152': 254, 'prompts': 6655, 'vpod': 8891, 'carry': 2018, 'disturbing': 2852, 'avatar': 1393, 'nigro': 5812, 'scratching': 7241, 'anyplaces': 1212, 'stops': 7896, 'cleaning': 2221, 'upset': 8728, 'priority': 6603, 'constantly': 2384, 'ecstasy': 3045, '09090204448': 275, 'minded': 5462, 'a£150': 1419, 'minapn': 5460, 'ls278bb': 5167, 'flies': 3467, 'hittng': 4148, 'reflex': 6887, 'costa': 2435, 'sol': 7635, '09050090044': 190, 'toclaim': 8414, 'pobox334': 6430, 'stockport': 7881, 'cost£150pm': 2440, 'max10mins': 5340, 'kkwhy': 4811, 'lousy': 5139, 'cat': 2036, '1010': 300, 'woken': 9175, 'hip': 4137, 'adewale': 997, 'aka': 1089, 'egbon': 3067, 'minstand': 5475, 'ic': 4333, 'mary': 5311, 'deduct': 2681, 'wrks': 9246, 'monkey': 5563, 'asshole': 1332, 'grab': 3860, 'sliding': 7561, '09065394973': 250, 'payback': 6251, '31': 539, 'honeybee': 4197, 'sweetest': 8077, 'laughed': 4918, 'waitu': 8924, 'havnt': 4035, 'moral': 5579, 'crack': 2474, 'gmgngegn': 3781, 'tescos': 8225, 'feathery': 3360, 'bowa': 1743, 'infra': 4442, 'nvm': 5939, 'gep': 3734, 'delhi': 2703, 'thinkin': 8311, '2006': 424, 'fifa': 3393, 'held': 4070, '87239': 852, 'boat': 1697, 'shhhhh': 7390, 'related': 6904, 'arul': 1309, 'amk': 1150, '09061743810': 224, 'length': 4965, 'fringe': 3610, 'distract': 2849, 'santha': 7175, 'corrct': 2425, 'dane': 2593, 'baskets': 1497, 'proof': 6657, 'rupaul': 7126, '61610': 709, 'help08712400602450p': 4085, 'provided': 6670, 'tones2youcouk': 8452, 'practising': 6533, 'curtsey': 2549, 'yeh': 9366, 'satjust': 7193, 'payed2day': 6253, 'havbeen': 4029, 'a£50': 1420, 'rise': 7050, '4my': 644, 'havebeen': 4030, 'preschoolcoordinator': 6565, '2i': 488, 'feelingood': 3370, 'memory': 5398, 'mon': 5555, 'converted': 2401, 'themobyo': 8283, 'yohere': 9402, 'downloads': 2934, 'members': 5393, 'ssindia': 7803, 'african': 1036, 'soil': 7633, 'major': 5262, 'roles': 7071, 'outreach': 6126, 'mel': 5386, 'birth': 1637, '8lb': 880, '7oz': 774, 'brilliantly': 1807, 'forwarding': 3548, 'intention': 4474, 'visitors': 8866, 'rules': 7117, 'responsibility': 6989, 'bend': 1588, 'rule': 7116, 'thia': 8304, 'inlude': 4448, 'previews': 6584, 'freefone': 3575, '08006344447': 60, 'ambrithmaduraimet': 1146, 'dha': 2766, 'marrgeremembr': 5304, 'kitty': 4796, 'shaved': 7377, 'natural': 5722, 'onwards': 6050, 'anybodys': 1207, 'tactful': 8110, 'skillgame1winaweek': 7532, 'age16150ppermesssubscription': 1049, 'theatre': 8275, 'obviously': 5962, 'eggspert': 3071, 'potato': 6506, 'head…': 4045, 'crammed': 2476, 'satsgettin': 7195, '447per': 611, 'lie': 4993, 'apologize': 1232, 'admit': 1004, 'pei': 6270, 'kid': 4771, 'boost': 1721, 'subtoitles': 7981, 'sitting': 7518, 'jot': 4674, 'pack': 6158, 'storelike': 7901, 'cereals': 2068, 'gari': 3688, 'infernal': 4431, 'affair': 1026, 'including': 4406, 'bold2': 1704, 'calicut': 1924, '09094100151': 277, 'cast': 2032, 'aom': 1222, 'gbp5month': 3707, 'box61m60': 1760, '1er': 395, 'thkin': 8319, 'nd': 5731, 'parco': 6200, 'nb': 5729, 'resubbing': 7000, 'shadow': 7355, 'breadstick': 1785, 'ahmad': 1068, 'saeed': 7144, 'hallaq': 3976, '09066362220': 258, 'box97n7qp': 1762, 'redim': 6874, 'blueu': 1691, 'purpleu': 6706, 'pinku': 6366, 'orangei': 6084, 'lyk': 5208, 'greeni': 3891, 'yelowi': 9369, 'bck': 1522, 'blackim': 1651, 'browni': 1830, 'giv': 3766, 'color': 2289, 'arranging': 1298, 'eldest': 3087, 'drugdealer': 2978, 'gender': 3721, 'wither': 9148, 'eg23f': 3065, 'eg23g': 3066, 'sleepwellamptake': 7555, 'wondarfull': 9180, 'messagestext': 5428, 'nowuse': 5914, 'web2mobile': 9002, 'txt250com': 8611, 'box139': 1748, 'la32wu': 4861, 'txtx': 8619, 'normally': 5876, 'hunonbus': 4303, 'donyt': 2912, 'homebut': 4186, 'latelyxxx': 4911, '85233': 836, 'freeringtonereply': 3585, 'mca': 5350, 'rich': 7028, 'justthought': 4700, 'sayhey': 7210, 'doinnearly': 2893, 'endof': 3120, 'offdam': 5976, 'nevamindwe': 5773, '2hook': 486, 'uwant': 8780, 'm8': 5218, 'official': 5989, 'flag': 3456, 'yer': 9373, '84199': 829, 'eng': 3126, 'box39822': 1755, 'w111wx': 8898, 'yor': 9403, 'ownyouve': 6149, 'stressed': 7917, 'skallis': 7528, 'jason': 4606, 'soooo': 7677, 'provider': 6671, 'tming': 8401, 'subs': 7970, 'cutest': 2561, 'dice': 2777, 'art': 1305, 'inclusive': 4407, 'help08700469649': 4083, 'box420': 1757, 'ip4': 4506, '5we': 698, 'howda': 4246, 'mathe': 5326, 'samachara': 7165, 'audrie': 1373, 'autocorrect': 1385, 'simulate': 7492, 'readiness': 6815, 'armand': 1286, 'andor': 1172, 'vomiting': 8884, 'rub': 7109, 'feet': 3374, 'lara': 4898, 'supplies': 8034, 'clever': 2227, 'guesses': 3932, 'attach': 1353, '087123002209am7pm': 105, 'med': 5367, 'stamped': 7816, '113': 315, 'bray': 1781, 'wicklow': 9100, 'eire': 3078, 'washob': 8962, 'nobbing': 5838, 'nickey': 5798, 'platt': 6391, 'ryan': 7130, 'vikky': 8846, 'wwwidewcom': 9282, 'skillgame': 7531, '1winaweek': 412, '150ppermesssubscription': 362, 'mad': 5234, 'argh': 1276, 'spotty': 7779, 'province': 6672, 'sterling': 7863, 'problemfree': 6620, 'looked': 5106, 'xam': 9320, 'hall': 3974, 'term': 8217, 'manage': 5274, 'hesitation': 4112, 'intha': 4487, 'ponnungale': 6465, 'ipaditan': 4508, 'rejected': 6903, 'shitload': 7407, 'diamonds': 2775, 'tessypls': 8226, 'favor': 3354, 'nimyapls': 5817, 'shijas': 7392, 'aunty': 1379, 'china': 2170, 'noisy': 5849, 'needa': 5745, 'mcat': 5351, 'sfrom': 7351, 'manual': 5288, 'processits': 6630, 'reset': 6975, 'troubleshooting': 8552, 'b4u': 1425, 'wc': 8988, '2703': 459, 'marsms': 5309, 'wwwb4utelecom': 9270, '08717168528': 142, 'strongly': 7931, 'sacrifice': 7141, 'beg': 1566, 'expecting': 3259, 'creativity': 2490, 'stifled': 7873, 'morphine': 5587, 'requirements': 6965, 'stayin': 7847, 'strangersaw': 7912, 'he\\x92s': 4116, 'sorted': 7688, 'nowstill': 5912, 'mrur': 5616, '2getha': 481, 'buffy': 1859, 'satisfy': 7192, 'pix': 6372, 'qlynnbv': 6728, 'help08700621170150p': 4084, '8830': 860, 'cld': 2219, 'prefer': 6554, 'nosh': 5881, 'waaaat': 8908, 'lololo': 5095, 'tables': 8105, 'occupied': 5964, 'comei': 2301, 'kindly': 4783, 'documents': 2874, 'submitted': 7967, 'stapati': 7822, 'miles': 5451, 'cutie': 2562, 'wales': 8927, 'hills': 4132, 'killed': 4776, 'colleagues': 2281, 'sed': 7272, 'mood': 5576, 'minuts': 5481, 'latr': 4916, 'caken': 1918, 'kidz': 4774, 'sofa': 7630, 'honesty': 4195, 'specialisation': 7726, 'labor': 4863, 'shakara': 7361, 'beggar': 1567, 'smashed': 7584, 'dent': 2717, 'everybodys': 3209, 'crickiting': 2501, 'imin': 4378, 'towndontmatter': 8500, 'urgoin': 8743, 'outl8rjust': 6124, 'reallyneed': 6829, '2docdplease': 477, 'dontplease': 2911, 'dontignore': 2910, 'mycallsu': 5678, 'thecd': 8276, 'isvimportant': 4537, 'tome': 8440, 'yavnt': 9355, 'popping': 6477, 'ibuprofens': 4332, 'sip': 7502, 'grown': 3909, 'chinatown': 2171, 'porridge': 6479, 'claypot': 2218, 'yam': 9351, 'fishhead': 3445, 'beehoon': 1557, 'tok': 8428, 'specific': 7729, 'jaklin': 4591, 'nearby': 5734, 'cliffs': 2230, '449month': 615, 'ntwk': 5921, 'bundle': 1868, 'deals': 2649, 'avble': 1394, 'call2optoutj': 1933, 'mf': 5437, 'pages': 6165, 'figures': 3402, 'ooh': 6052, '4got': 638, 'moseley': 5588, 'weds': 9014, '630': 714, 'thankyou': 8256, 'pendingi': 6275, 'dayswill': 2635, 'thrurespect': 8346, 'homecheck': 4187, 'affectionate': 1029, 'loveable': 5143, 'eternal': 3186, 'noble': 5839, 'truthful': 8564, 'intimate': 4488, 'enamous': 3114, 'textin': 8240, 'cousin': 2462, 'excuses': 3244, 'rajipls': 6771, 'nimya': 5816, 'legs': 4959, 'neck': 5741, 'amigos': 1149, 'burn': 1875, 'progress': 6642, 'continue': 2394, 'holy': 4184, 'werent': 9051, 'arty': 1308, 'collages': 2279, 'tryin': 8566, 'billion': 1625, 'classes': 2215, '2hrs': 487, 'waliking': 8928, 'cartons': 2022, 'shelves': 7385, '08714712379': 125, 'distance': 2848, 'mirror': 5483, 'turning': 8593, 'freak': 3566, 'ref': 6878, 'k718': 4706, '£450': 9501, '09065069120': 244, 'jod': 4649, 'keris': 4754, 'smidgin': 7589, 'collegexx': 2288, 'belive': 1577, 'intentions': 4475, 'empty': 3112, 'slots': 7569, 'accordin': 956, 'discussed': 2841, 'knocking': 4819, 'sicomo': 7468, 'nolistened2the': 5859, 'plaid': 6381, 'albumquite': 1096, 'gdthe': 3713, 'air1': 1080, 'hilariousalso': 4130, 'bought\\x94braindance\\x94a': 1739, 'compofstuff': 2337, 'aphex\\x92s': 1227, 'abelu': 923, 'hav2hear': 4027, 'itc': 4540, 'nelson': 5760, 'bbs': 1519, 'temp': 8207, 'unmits': 8696, 'display': 2847, 'newspapers': 5787, 'soup': 7701, 'yummmm': 9439, 'management': 5277, 'puzzeles': 6717, 'include': 4404, '4goten': 639, 'scammers': 7218, 'smartthough': 7582, 'regular': 6902, 'prem': 6556, 'msgsubscription': 5626, '2morro': 494, 'passion': 6230, '09099726481': 285, 'dena': 2714, '£1minmobsmorelkpobox177hp51fl': 9489, 'spoiled': 7764, 'r836': 6753, '09065069154': 245, 'threats': 8335, 'sales': 7157, 'shifad': 7391, 'raised': 6767, 'complaint': 2327, 'doctors': 2873, 'reminds': 6930, '2godid': 484, 'lounge': 5138, 'lk': 5062, 'role': 7070, 'lov': 5140, 'mindi': 5463, 'toleratbcs': 8436, 'comfort': 2305, 'checked': 2119, 'splashmobile': 7757, 'subscrition': 7979, '300p': 533, 'dust': 3009, 'u4': 8628, '01223585334': 5, '2c': 473, 'shagged': 7357, '8552': 837, '2end': 478, '88877free': 865, '88877': 864, '88066': 857, '3pound': 575, 'watchin': 8973, 'meaningless': 5358, 'alls': 1124, 'brdget': 1783, 'jones': 4668, 'inever': 4428, 'hmmbad': 4157, 'newshype': 5786, '700': 751, 'studio': 7945, 'takenonly': 8123, 'bedrm900': 1553, 'unable': 8655, 'waited': 8919, 'velly': 8816, 'wkend': 9157, 'journey': 4675, 'huge': 4281, 'marking': 5302, 'letters': 4980, 'mids': 5446, 'oranges': 6085, 'upd8': 8713, '2stoptx': 513, 'annie': 1184, 'remind': 6926, '08718738034': 168, '21870000hi': 434, 'mailbox': 5255, 'messaging': 5430, '21': 431, '09056242159': 193, 'retrieve': 7008, 'vai': 8788, 'hrishi': 4258, 'nothin': 5886, 'hanger': 3990, 'poem': 6443, 'cheer': 2125, 'tear': 8181, 'thatll': 8265, 'quizwin': 6748, 'duchess': 2992, 'cornwall': 2423, '82277unsub': 806, '008704050406': 1, 'sp': 7708, 'arrow': 1303, 'bags': 1452, 'blanket': 1658, '08718726971': 157, 'tddnewsletteremc1couk': 8172, 'thedailydraw': 8277, 'dozens': 2938, 'prizeswith': 6612, 'significant': 7477, 'waqt': 8954, 'pehle': 6269, 'naseeb': 5713, 'zyada': 9461, 'kisi': 4789, 'ko': 4830, 'kuch': 4846, 'nahi': 5694, 'miltazindgi': 5457, 'wo': 9171, 'jo': 4643, 'hum': 4288, 'sochte': 7628, 'zindgi': 9456, 'ham': 3978, 'jeetey': 4619, 'worse': 9221, 'stalking': 7815, 'dan': 2587, 'reminded': 6927, 'varaya': 8800, 'elaya': 3086, '100603': 297, '09066368753': 265, '97n7qp': 898, 'anand': 1170, 'beach': 1533, 'expected': 3258, 'aww': 1412, 'deadwell': 2643, 'jez': 4636, 'iscoming': 4525, 'todo': 8423, 'workand': 9202, 'whilltake': 9088, 'zogtorius': 9458, 'i\\x92ve': 4576, 'staring': 7825, 'whether': 9086, 'financial': 3419, 'problemi': 6621, 'alian': 1110, 'freenokia': 3582, 'or2optouthv9d': 6080, 'posible': 6486, 'century': 2066, 'cm': 2250, 'frwd': 3629, 'unnecessarily': 8697, 'sorts': 7691, 'ringtones': 7045, 'restrictions': 6996, 'buddys': 1854, '80082': 786, '08712402902': 112, 'owned': 6147, 'possessive': 6491, 'nohe': 5845, 'clarification': 2210, 'spook': 7770, 'halloween': 3977, '08701417012150p': 78, 'logopic': 5089, 'issue': 4535, 'weigh': 9025, 'regret': 6900, 'fantasy': 3333, 'football': 3515, 'sky': 7539, 'gamestar': 3679, 'active': 980, '£250k': 9493, 'scoring': 7233, 'nowsky': 5911, '88088': 858, 'coimbatore': 2271, 'expired': 3266, 'resub': 6999, 'monoc': 5568, 'monos': 5569, 'polyc': 6457, 'stream': 7913, '0871212025016': 103, 'opinions': 6066, 'categories': 2040, 'measure': 5363, 'ethnicity': 3187, 'census': 2063, 'transcribing': 8517, 'propsd': 6664, 'gv': 3947, 'lv': 5203, 'lttrs': 5178, 'threw': 8337, 'thm': 8320, 'aproach': 1260, 'dt': 2988, 'truck': 8555, 'speeding': 7735, 'wn': 9168, 'girld': 3761, 'hw': 4318, 'instantly': 4468, 'thy': 8355, 'lived': 5057, 'happily': 4004, '2gthr': 485, 'drinking': 2962, 'evrydy': 3230, 'msgsd': 5624, 'paragon': 6195, 'cakes': 1919, 'bluff': 1692, 'impossible': 4389, 'draws': 2948, 'goodmate': 3826, 'sary': 7185, 'asusual1': 1344, 'cheered': 2126, 'franyxxxxx': 3564, 'batt': 1507, 'added': 990, 'wwwfullonsmscom': 9279, 'gn': 3784, 'pussy': 6712, 'becausethey': 1544, '09058098002': 209, 'pobox1': 6425, 'w14rg': 8899, 'messageno': 5423, 'responcewhat': 6984, 'happend': 3997, 'piece': 6354, 'wiskey': 9145, 'brandy': 1777, 'rum': 7118, 'gin': 3759, 'vodka': 8877, 'scotch': 7234, 'shampain': 7367, 'kudiyarasu': 4847, 'dhina': 2767, 'vaazhthukkal': 8785, 'gained': 3669, 'kg': 4761, 'sugar': 7998, 'pressure': 6577, 'limits': 5022, 'dumb': 3000, 'thangam': 8249, 'okey': 6011, 'doke': 2895, 'dressed': 2958, 'laying': 4929, 'kills': 4778, 'neshanthtel': 5763, 'byatch': 1905, 'whassup': 9067, 'kay': 4735, 'roger': 7069, 'cl': 2205, 'nasty': 5714, 'filthyguys': 3414, 'slo': 7566, 'slo4msgs': 7567, 'wasted': 8967, 'chiong': 2175, 'christ': 2190, 'dialogue': 2773, 'reltnship': 6915, 'wipe': 9133, 'tears': 8182, 'timegud': 8371, 'solve': 7639, 'murdered': 5662, '1his': 397, 'police': 6451, '2police': 509, 'questioned': 6736, '3wife': 583, 'siri': 7506, '4cook': 631, 'cooking': 2412, '5gardener': 685, 'vegetables': 8812, '6housemaid': 738, '7children': 771, '8neighbour': 882, 'murderer': 5663, 'brilliant': 1805, 'pose': 6484, 'comb': 2295, 'dryer': 2986, 'fps': 3557, 'computational': 2341, 'science': 7228, 'push': 6709, 'answered': 1197, 'madamregret': 5238, 'disturbancemight': 2851, 'dlf': 2862, 'premaricakindly': 6557, 'informedrgdsrakheshkerala': 4438, 'gotto': 3850, '08702840625': 85, 'comuk220cm2': 2345, 'settle': 7335, 'err': 3165, '8pm': 884, 'bloo': 1677, 'kbut': 4738, 'hitteranyway': 4147, 'offline': 5991, 'anjolas': 1182, 'ithis': 4545, 'wwwasjesuscom': 9269, 'wrote': 9252, 'indians': 4423, 'swiss': 8086, 'directors': 2823, 'lac': 4864, 'crore': 2506, 'deposited': 2727, 'taxless': 8158, 'budget': 1855, 'jobs': 4646, 'lane': 4889, 'suply': 8031, 'projects': 6644, 'citizen': 2202, 'imf': 4377, 'blocked': 1671, 'politicians': 6452, 'rights': 7035, 'corrupt': 2430, 'itna': 4553, 'karo': 4730, 'pura': 6701, 'padhegm': 6163, 'torrents': 8482, 'particularly': 6216, 'slowing': 7573, 'commit': 2313, 'random': 6780, '83370': 819, 'wwwmusictrivianet': 9288, 'rightio': 7033, '1148': 319, 'brum': 1837, 'donno': 2906, 'scorable': 7230, 'paranoid': 6197, 'brin': 1808, 'properly': 6660, 'sheet': 7380, 'kgive': 4762, 'complain': 2325, 'onlybettr': 6045, 'bsnl': 1841, 'offc': 5974, 'payed': 6252, 'suganya': 7997, 'dessert': 2746, 'abeg': 922, 'sponsors': 7768, 'onum': 6049, 'candont': 1975, 'poet': 6444, 'imaginationmy': 4374, 'carso': 2021, 'rr': 7099, 'famamus': 3321, 'pongaldo': 6464, 'sry': 7801, 'furniture': 3656, 'lock': 5078, 'locks': 5079, 'key': 4756, 'jenne': 4623, 'easiest': 3030, 'barcelona': 1480, 'ru': 7108, 'sppok': 7781, '09066612661': 268, 'complementary': 2328, 'wa14': 8907, '2px': 510, 'sender': 7304, 'kdo': 4739, 'daurgent': 2622, 'pansy': 6183, 'jungle': 4694, 'kanji': 4722, 'drinkpa': 2963, 'srs': 7798, 'drizzling': 2969, 'appointments': 1247, 'shoving': 7441, 'papers': 6190, 'greetings': 3894, 'excused': 3243, 'drama': 2942, 'plsi': 6412, 'struggling': 7934, 'strange': 7910, 'placeno': 6379, 'ego': 3072, 'necessity': 5740, 'gowait': 3853, 'reppurcussions': 6958, 'released': 6910, 'cosign': 2433, 'hvae': 4317, '09061701444': 217, '24': 442, 'acl03530150pm': 968, 'hcl': 4036, 'requires': 6966, 'freshers': 3594, 'processexcellent': 6629, 'neededsalary': 5747, 'mssuman': 5631, 'telephonic': 8196, 'indyarockscom': 4427, 'resume': 7004, 'datoday': 2619, 'cars': 2020, 'bids': 1617, 'restuwud': 6997, 'reliant': 6911, 'fwiw': 3660, 'afford': 1032, 'happens': 4001, 'kanowhr': 4726, 'maga': 5245, 'sq825': 7792, 'arrival': 1300, 'yunny': 9442, 'citylink': 2204, 'er': 3160, 'props': 6663, 'pleasant': 6402, 'statements': 7841, '6230': 711, '83383': 820, 'pobox11414tcrw1': 6426, 'bognor': 1702, 'splendid': 7759, 'yesim': 9385, 'ktv': 4844, 'misplaced': 5489, 'computers': 2344, 'mmmmm': 5519, 'medicine': 5369, 'begun': 1571, 'registration': 6899, 'permanent': 6293, 'residency': 6976, 'plenty': 6408, 'relatives': 6907, 'deliver': 2705, 'risks': 7052, 'benefits': 1591, 'amount': 1157, 'hmmmhow': 4160, 'predicting': 6551, 'accumulation': 962, 'programs': 6641, 'belongs': 1583, 'herwho': 4107, 'fated': 3344, 'shoranur': 7424, 'incident': 4402, 'fuelled': 3639, 'concern': 2350, 'prior': 6602, 'grief': 3895, 'violence': 8854, 'goodenvironment': 3821, 'terrific': 8222, 'text82228': 8234, 'logos': 5090, 'wwwtxt82228com': 9310, 'infotxt82228couk': 4439, 'honestly': 4194, 'promptly': 6654, 'burnt': 1878, 'advice': 1019, 'snap': 7612, 'quizclub': 6747, '80122300pwk': 788, 'sprwm': 7787, 'ph08704050406': 6320, 'gmw': 3783, 'connected': 2372, 'someplace': 7648, 'goods': 3834, 'pressies': 6576, 'dr': 2940, 'superior': 8029, 'ultimately': 8648, 'tor': 8480, 'motive': 5595, 'tui': 8583, 'achieve': 965, 'korli': 4837, 'we‘ll': 9065, 'dock': 2869, 'rolled': 7072, 'newscaster': 5785, 'dabbles': 2573, 'flute': 3487, 'behind': 1574, 'wheel': 9073, 'bx420': 1902, 'amazing': 1144, 'picsfree1': 6349, 'vid': 8834, 'keyword': 4759, 'ruin': 7114, 'erm': 3163, 'the4th': 8272, 'october': 5970, '83435': 821, 'elaborating': 3083, 'safety': 7147, 'aspects': 1329, 'issues': 4536, 'tarot': 8145, '85555': 838, 'department': 2722, 'oursso': 6114, 'youany': 9405, 'hr': 4257, 'conform': 2366, 'horniest': 4220, 'instructions': 4470, 'nytec2a3lpmsg150p': 5947, 'flow': 3480, 'developed': 2758, 'ovarian': 6133, 'cysts': 2569, 'bc': 1520, 'shrink': 7453, 'onit': 6040, 'upping': 8726, 'grams': 3865, 'timin': 8378, 'apes': 1225, 'death': 2664, 'ibm': 4329, 'hp': 4254, 'toshiba': 8486, 'gosh': 3840, 'spose': 7777, 'usualiam': 8770, 'rimac': 7037, 'arestaurant': 1273, 'squid': 7796, '1030': 303, 'dosomething': 2922, 'ucall': 8632, 'wrki': 9243, 'dabooks': 2574, 'hrs': 4259, 'nite2': 5823, 'wrk': 9242, 'eachother': 3018, 'luckily': 5183, 'starring': 7826, 'madam': 5237, 'restocked': 6994, 'knock': 4818, 'wwwtklscom': 9307, 'stoptxtstop£150week': 7899, 'innocent': 4452, 'mental': 5402, 'smoothly': 7602, 'hoped': 4211, 'bills': 1626, 'challenging': 2077, '2marrow': 491, 'hon': 4192, 'pple700': 6521, '900': 888, 'nightsexcellent': 5808, 'breakfast': 1788, 'hamper': 3979, 'cc100pmin': 2049, 'reality': 6824, 'daal': 2571, '0870737910216yrs': 90, '£150wk': 9487, 'unni': 8698, 'rechargerakhesh': 6858, 'lacking': 4865, 'particular': 6215, 'dramastorms': 2943, 'forfeit': 3526, 'treated': 8536, 'digi': 2801, '9pm': 907, 'fab': 3291, 'coupla': 2455, 'wks': 9162, '077xxx': 35, '09066362206': 257, 'sundayish': 8018, 'prasad': 6539, 'tiwary': 8394, 'rcbbattle': 6800, 'bang': 1468, 'kochi': 4831, 'cancer': 1974, 'checkup': 2123, 'pap': 6187, 'smear': 7585, 'gobi': 3793, 'arts': 1307, 'pandy': 6179, '4w': 659, 'technologies': 8187, 'todayhe': 8420, 'olowoyey': 6027, 'uscedu': 8753, 'argentina': 1275, 'secretary': 7264, 'taxt': 8159, 'massagetiepos': 5315, 'lool': 5110, 'dollar': 2897, 'pull': 6692, 'spending': 7741, 'taylors': 8161, 'shaking': 7364, 'booty': 1722, 'timeslil': 8374, 'busyi': 1887, 'scarcasim': 7219, 'naal': 5689, 'eruku': 3169, 'chikkuwat': 2160, 'w4': 8903, '5wq': 700, 'remains': 6918, 'bro': 1817, 'amongst': 1155, 'bros': 1823, 'impressively': 4394, 'sensible': 7312, 'whens': 9078, '69696': 725, '3lp': 569, '£150msg': 9481, 'response': 6987, 'alsoor': 1136, 'danalla': 2588, 'obedient': 5956, 'ft': 3631, 'combination': 2296, 'needy': 5751, 'pouts': 6515, 'stomps': 7884, 'northampton': 5878, 'abj': 928, 'serving': 7330, 'playng': 6400, '1mcflyall': 401, 'ab': 919, 'sara': 7179, 'jorgeshock': 4672, 'smithswitch': 7596, 'anna': 1183, 'nagar': 5692, 'yupz': 9446, 'modelsony': 5542, 'ericson': 3161, 'der': 2731, 'luks': 5189, 'modl': 5543, 'cheesy': 2130, 'frosty': 3627, 'witin': 9151, 'sports': 7775, 'fans': 3330, '0870141701216': 79, '4txt120p': 654, '10th': 312, 'sept': 7320, '09050000555': 182, 'ba128nnfwfly150ppm': 1427, 'shirts': 7402, 'nudist': 5923, 'themed': 8279, 'pump': 6695, 'petrol': 6315, '£12': 9474, 'feb': 3362, 'ignore': 4358, 'evr': 3226, 'signal': 7475, 'neither': 5759, 'unusual': 8709, 'hugs': 4284, 'snogs': 7619, 'west': 9055, 'palm': 6175, 'printing': 6601, 'handing': 3983, 'fastest': 3341, 'growing': 3908, '83021': 810, 'chase': 2103, 'stated': 7839, 'tariffs': 8144, '2stoptxt': 514, 'perpetual': 6296, 'dd': 2640, 'steam': 7855, 'reg': 6893, 'pract': 6528, 'flung': 3485, 'housemaid': 4241, 'public': 6688, 'govtinstituitions': 3852, 'closedincluding': 2238, 'officeunderstand': 5987, 'process': 6627, 'justbeen': 4698, 'overa': 6134, 'brains': 1774, 'mush': 5665, 'tunde': 8587, 'missions': 5496, 'luxury': 5202, 'canary': 1970, '20m12aq': 428, '“': 9526, 'lux': 5201, '28': 461, 'eh74rr': 3074, 'sleepy': 7556, 'dare': 2599, 'ben': 1587, 'mag': 5244, 'avo': 1400, 'middle': 5444, 'crashed': 2480, 'cuddled': 2533, 'chachi': 2073, 'pl': 6375, 'tiz': 8396, 'kanagu': 4720, 'prices': 6589, 'ringing': 7039, 'houseful': 4240, 'brats': 1779, 'pulling': 6693, 'diwali': 2857, 'tick': 8356, 'nowonion': 5906, 'derp': 2734, 'abusers': 940, 'lipo': 5041, 'netflix': 5766, 'thgt': 8303, 'clash': 2213, 'arr': 1296, 'oscar': 6104, 'rebtel': 6841, 'firefox': 3438, 'lower': 5159, '69969': 733, 'bcmsfwc1n3xx': 1526, 'impressed': 4392, 'funs': 3655, 'footy': 3519, 'stadium': 7808, 'large': 4900, 'cocacola': 2261, 'dark': 2600, 'teenager': 8189, 'teluguthts': 8205, 'gudk': 3925, 'exhaust': 3249, 'replacing': 6950, 'mittelschmertz': 5508, 'paracetamol': 6192, 'salespee': 7159, 'arrived': 1302, 'cthen': 2524, 'enuff': 3154, 'conclusion': 2353, 'contents': 2392, 'references': 6882, 'cover': 2463, 'atyour': 1366, 'success': 7982, 'u’ve': 8783, '£50': 9504, 'instant': 4467, '08715203028': 131, '9th': 909, '£50£500': 9509, 'rugby': 7113, 'affidavit': 1031, 'twiggs': 8603, 'division': 2855, 'courtroom': 2461, 'creep': 2495, 'freemsgfav': 3580, 'tonesreply': 8453, 'lil': 5016, 'showers': 7446, 'possessiveness': 6492, 'poured': 6513, 'lies': 4994, 'golden': 3809, 'lasting': 4906, 'mobs': 5536, 'breathe1': 1794, 'crazyin': 2486, 'sleepingwith': 7552, 'finest': 3426, 'ymca': 9398, 'getzedcouk': 3746, 'pobox365o4w45wq': 6432, 'wtc': 9255, 'weiyi': 9034, 'property': 6661, 'interflora': 4479, '\\x93its': 9465, 'flowers': 3482, '505060': 667, 'godtaken': 3798, 'teethis': 8192, 'paining': 6171, 'romcapspam': 7075, 'presence': 6569, 'outgoing': 6121, 'maggi': 5247, 'mee': 5372, '08712103738': 102, 'cough': 2444, 'com': 2294, '09058099801': 210, 'b4190604': 1423, '7876150ppm': 767, 'bbdpooja': 1515, 'pimpleseven': 6363, 'blackand': 1649, 'sweatter': 8075, 'nicenicehow': 5795, 'ambitious': 1145, 'miiiiiiissssssssss': 5448, 'tunji': 8589, 'iz': 4571, 'yellow': 9368, 'misscall': 5491, 'frndz': 3618, '6missed': 741, 'freemessage': 3578, 'jamsterget': 4596, 'frog': 3621, 'mad1': 5235, 'mad2': 5236, '88888': 866, 'gbpweek': 3709, 'wipro': 9134, 'tall': 8135, 'doubt': 2929, 'handle': 3984, 'note': 5883, 'robs': 7062, 'avenge': 1396, 'japanese': 4605, 'proverb': 6669, 'itu': 4560, 'itleave': 4548, 'strike': 7923, 'choices': 2182, 'toss': 8487, 'coin': 2272, 'gudni8': 3926, 'dancin': 2591, 'explicitly': 3272, 'nora': 5870, 'smith': 7595, 'gayle': 3699, 'crucify': 2512, 'moved': 5603, 'butting': 1890, 'freedom': 3573, 'vs': 8893, 'cedar': 2054, 'twenty': 8601, 'durham': 3007, 'reserved': 6973, 'seat': 7258, 'porn': 6478, '69855': 727, '50p': 668, 'stopbcm': 7892, 'sf': 7348, 'painting': 6173, 'wall': 8935, 'printer': 6600, 'groovy': 3902, 'groovying': 3903, 'harishs': 4013, 'transfred': 8523, 'acnt': 969, 'nowadayslot': 5902, 'showroomscity': 7449, 'shaping': 7372, 'attending': 1360, 'talks': 8134, 'probs': 6625, 'doinat': 2890, 'callon': 1951, 'low': 5157, 'rons': 7077, 'swatch': 8070, 'kkyesterday': 4812, 'ganesh': 3681, 'dress': 2957, 'pdatenow': 6261, 'call2optoutyhl': 1937, 'collecting': 2284, 'configure': 2361, 'trips': 8547, 'i’m': 4580, 'isn’t': 4534, 'anal': 1168, 'pears': 6266, 'helloooo': 4080, 'welcomes': 9036, 'celebrate': 2058, 'oooooh': 6054, '09058094454': 197, 'thatnow': 8267, '54': 678, 'resubmit': 7001, 'expiry': 3269, 'we\\x92ve': 9064, '2geva': 482, 'mint': 5477, 'uxxxx': 8782, 'humans': 4290, 'studyn': 7948, 'wuld': 9261, 'everyboy': 3210, 'xxxxxxxx': 9341, 'solved': 7640, '532': 677, '924': 891, '863': 841, '725': 752, 'brilliant1thingi': 1806, 'answr': 1201, 'liquor': 5043, 'flaked': 3457, 'loko': 5092, '730': 755, 'lined': 5027, 'tm': 8400, 'laughs': 4920, 'fireplace': 3439, 'icon': 4339, '08712400200': 107, 'fifth': 3395, 'woozles': 9192, 'weasels': 8998, '08718723815': 152, 'gary': 3690, 'machines': 5229, 'fucks': 3637, 'sake': 7152, 'ignorant': 4357, 'mys': 5682, 'bruce': 1836, 'downs': 2936, 'fletcher': 3465, '27603': 460, '08714714011': 129, 'teaching': 8177, 'bowls': 1745, 'cozy': 2468, 'nightnobody': 5806, 'buzzzz': 1899, 'chest': 2140, 'vibrator': 8830, 'shake': 7362, 'covers': 2465, 'trends': 8542, 'pros': 6665, 'cons': 2375, 'brief': 1802, 'description': 2736, 'nuclear': 5922, 'fusion': 3657, 'history': 4141, 'iter': 4543, 'jet': 4633, 'nonenowhere': 5863, 'ikno': 4362, 'doesdiscountshitinnit': 2877, 'jabo': 4583, 'abi': 925, 'slower': 7572, 'maniac': 5286, 'hadya': 3960, 'sapna': 7177, 'manege': 5284, 'yday': 9360, 'hogidhechinnu': 4170, 'swalpa': 8064, 'agidhane': 1056, 'typelyk': 8623, 'footblcrckt': 3516, 'swell': 8081, 'tim': 8368, 'bollox': 1705, 'tol': 8431, 'hang': 3989, 'ingredients': 4445, 'pocy': 6441, 'bell': 1578, 'non': 5860, 'call2optout4qf2': 1929, 'senor': 7308, 'giggle': 3755, 'possibly': 6496, 'person2die': 6300, 'nvq': 5940, 'professional': 6635, 'tiger': 8360, 'woods': 9188, 'reboot': 6839, 'grinder': 3896, 'pt2': 6683, 'youkwhere': 9413, 'buyers': 1894, 'figuring': 3403, 'entirely': 3148, 'understood': 8670, 'bottom': 1737, 'knowhe': 4821, 'phoned': 6333, 'disconnected': 2837, 'onluy': 6043, 'matters': 5335, 'offcampus': 5975, 'improved': 4396, 'msgs150p': 5623, 'rileys': 7036, 'ew': 3231, 'wesley': 9053, 'howve': 4252, 'lingo': 5032, '400minscall': 590, 'call2optoutj5q': 1934, 'medont': 5370, 'lm': 5064, 'hm': 4154, '69200': 723, 'chrgd50p': 2189, '2exit': 479, 'salon': 7162, 'approaching': 1251, 'sankranti': 7173, 'republic': 6960, 'shivratri': 7410, 'ugadi': 8634, 'fools': 3513, 'independence': 4418, 'friendshipmotherfatherteacherschildrens': 3607, 'festival': 3380, 'dasara': 2611, 'mornings': 5585, 'afternoons': 1040, 'evenings': 3201, 'rememberi': 6922, 'theseyours': 8297, 'raj': 6768, 'lifeis': 4998, 'daywith': 2639, 'thoughts': 8330, 'somewheresomeone': 7659, 'tosend': 8485, 'greeting': 3893, 'selflessness': 7294, 'initiate': 4446, 'tallent': 8137, 'wasting': 8968, 'usc': 8752, 'payment': 6256, 'portal': 6481, 'dont4get2text': 2908, 'lennon': 4967, 'bothering': 1735, 'crab': 2473, 'shorethe': 7426, 'waves': 8984, 'footprints': 3518, 'clearing': 2225, 'fox': 3556, 'frndsship': 3617, 'dwn': 3013, 'slaaaaave': 7544, 'summon': 8012, '£3365': 9497, 'changes': 2085, 'appendix': 1238, 'range': 6785, 'slob': 7568, 'smiled': 7591, 'gudnite': 3927, 'topicsorry': 8475, 'webpage': 9005, 'yeesh': 9365, 'unsubscribed': 8708, 'hunks': 4297, 'httpgotbabescouk': 4265, 'subscriptions': 7977, 'gopalettan': 3838, 'participate': 6214, 'admin': 1000, 'kkfrom': 4802, 'abroad': 932, 'xxsp': 9332, 'visionsmscom': 8862, 'stopcost': 7893, '08712400603': 108, 'agent': 1052, 'goodies': 3825, 'mat': 5319, 'ay': 1416, 'satü': 7199, 'andros': 1176, 'steal': 7853, 'isaiahd': 4523, 'meets': 5379, 'foot': 3514, 'penis': 6276, 'expert': 3265, 'sigh': 7471, 'ssi': 7802, 'thinl': 8315, 'sachinjust': 7138, 'importantly': 4387, 'tightly': 8362, 'wnevr': 9169, 'fal': 3314, 'vth': 8894, 'books': 1718, 'fals': 3320, 'yen': 9370, 'madodu': 5240, 'nav': 5727, 'pretsorginta': 6580, 'nammanna': 5705, 'pretsovru': 6581, 'alwa': 1140, 'eveb': 3197, 'window': 9120, 'lord': 5117, 'ringsreturn': 7040, 'nowreply': 5908, 'soundtrack': 7700, 'stdtxtrate': 7851, 'homelove': 4189, 'staffsciencenusedusgphyhcmkteachingpc1323': 7810, 'emigrated': 3107, 'hopeful': 4212, 'olol': 6026, 'stagwood': 7812, 'winterstone': 9132, 'victors': 8833, 'hill': 4131, 'jp': 4678, 'mofo': 5546, 'pathaya': 6240, 'enketa': 3137, 'maraikara': 5293, 'priest': 6592, 'reserves': 6974, 'intrude': 4491, 'walkabout': 8930, 'cashed': 2028, 'announced': 1187, 'blog': 1672, '28th': 465, '06': 18, 'removal': 6931, '08708034412': 95, 'prove': 6668, 'footie': 3517, 'blow': 1684, 'phil': 6325, 'neville': 5776, 'abbey': 920, 'returning': 7011, 'knowing': 4822, 'auctionpunj': 1368, 'str8': 7907, 'classic': 2216, 'nokia150p': 5854, 'poly200p': 6455, 'thurs': 8351, 'pre': 6547, 'cancelled': 1973, 'sacked': 7140, 'lookatme': 5105, 'clip': 2231, '35p': 552, 'mmsto': 5522, '32323': 546, 'barred': 1487, 'lifethis': 4999, 'twat': 8599, 'dungerees': 3003, 'decking': 2676, 'punch': 6696, 'mentionned': 5405, 'vat': 8806, 'planned': 6387, 'onlydon': 6046, 'grl': 3899, 'hogolo': 4172, 'kodstini': 4832, 'agalla': 1046, 'madstini': 5242, 'hogli': 4171, 'mutai': 5673, 'eerulli': 3059, 'kodthini': 4833, 'kano': 4723, 'thasa': 8260, 'messed': 5431, 'upyeh': 8734, 'shudvetold': 7457, 'urgran': 8744, 'knowneway': 4824, 'illspeak': 4368, 'u2moro': 8627, 'tex': 8230, 'mecause': 5366, 'werebored': 9050, 'okden': 6010, 'hunny': 4299, 'uin': 8640, 'satsound\\x92s': 7196, 'likeyour': 5014, 'gr8fun': 3858, 'updat': 8714, 'countinlots': 2452, 'xxxxx': 9338, 'l': 4853, 'tagged': 8114, 'count': 2450, 'challenge': 2076, 'hdd': 4037, 'casing': 2031, 'opened': 6058, 'describe': 2735, '09053750005': 192, '310303': 541, '08718725756': 153, '140ppm': 346, 'asus': 1343, 'randomly': 6782, 'reformat': 6888, 'otside': 6110, 'leu': 4981, 'plumbers': 6414, 'tape': 8143, 'wrench': 9237, 'httpwwwetlpcoukreward': 4271, 'bcum': 1529, 'films': 3411, 'appeal': 1236, 'thriller': 8338, 'director': 2822, '830': 809, 'size': 7524, 'elephant': 3091, 'shove': 7440, 'um': 8650, 'cr': 2470, 'pookie': 6467, 'wouldnt': 9231, 'youdearwith': 9409, 'loverakhesh': 5149, 'nri': 5916, '08712101358': 101, 'x2': 9315, 'it\\x92s': 4565, 'deserve': 2738, 'tight': 8361, '88039skilgmetscs087147403231winawkage16£150perwksub': 856, 'lick': 4990, 'diddy': 2781, 'neighbor': 5757, 'toothpaste': 8471, 'av': 1386, 'oneta': 6037, 'poking': 6448, 'everyday': 3211, 'deam': 2650, 'curious': 2545, 'coccooning': 2262, 'auto': 1384, 'mus': 5664, 'yeahand': 9362, 'newquaysend': 5782, 'postcard': 6499, 'goneu': 3815, '1im': 399, 'talkin': 8132, 'boutxx': 1742, 'bread': 1784, 'windy': 9123, '09066358361': 255, 'y87': 9344, 'mahal': 5252, 'knowthis': 4826, 'tirunelvai': 8386, 'dusk': 3008, 'puzzles': 6718, 'x29': 9316, '450': 617, '09065989180': 251, 'stairs': 7813, 'phews': 6324, 'thangamits': 8250, 'redred': 6875, 'bloodblood': 1679, 'heartheart': 4057, '1u': 410, 'relation': 6905, '3u': 580, '4some1': 649, 'luvs': 5200, 'praying': 6544, 'recycling': 6871, 'earning': 3025, 'toledo': 8434, 'ding': 2812, 'tai': 8116, 'feng': 3379, 'reservations': 6971, 'swimsuit': 8084, 'allowed': 1122, 'necessary': 5739, 'watever': 8977, 'shared': 7374, 'squeeeeeze': 7794, 'hug': 4280, 'lik': 5009, 'frndshp': 3616, 'luvd': 5198, 'asks': 1326, 'themp': 8284, 'volcanoes': 8881, 'erupt': 3170, 'arise': 1282, 'hurricanes': 4306, 'sway': 8071, 'aroundn': 1294, 'disasters': 2832, 'lighters': 5007, '7pm': 775, 'kkits': 4806, 'goodwhen': 3836, 'lasagna': 4903, 'chickened': 2149, 'messaged': 5420, 'woould': 9191, '08718726978': 158, 'drove': 2975, 'shore': 7425, 'deus': 2756, '44': 607, '7732584351': 764, '3510i': 551, 'deliveredtomorrow': 2707, '300': 529, 'tap': 8142, 'spile': 7747, 'broad': 1818, 'canal': 1969, 'engin': 3130, 'onedge': 6035, 'raviyog': 6795, 'peripherals': 6292, 'bhayandar': 1613, 'east': 3032, 'sunoco': 8021, 'howard': 4245, 'musical': 5668, 'plate': 6390, 'leftovers': 4955, 'starving': 7836, 'cooked': 2410, 'cheat': 2114, 'fatty': 3348, 'badrith': 1449, 'chennaii': 2135, 'usno': 8766, 'owe': 6144, 'checkin': 2120, 'numberso': 5930, 'ittb': 4559, 'block': 1670, 'armenia': 1288, 'swann': 8066, '09058097189': 207, '09061221066': 216, 'fromm': 3623, '330': 549, '1120': 314, '1205': 327, 'smoking': 7601, 'wylie': 9313, 'justify': 4699, 'ruining': 7115, 'meds': 5371, 'hunt': 4304, 'in2': 4398, '5226': 672, 'hava': 4028, '1131': 316, 'rct': 6802, 'thnq': 8322, 'adrian': 1010, 'rgds': 7023, 'vatian': 8807, 'everyones': 3213, 'babysitting': 1440, 'itll': 4550, 'gonnamissu': 3818, 'muchi': 5640, 'buttheres': 1889, 'aboutas': 931, 'merememberin': 5412, 'asthere': 1337, 'ofsi': 5994, 'breakin': 1789, 'yaxx': 9356, 'ee': 3056, 'poortiyagi': 6472, 'odalebeku': 5971, 'hanumanji': 3995, '1hanuman': 396, '2bajarangabali': 471, '3maruti': 570, '4pavanaputra': 646, '5sankatmochan': 694, '6ramaduth': 744, '7mahaveer': 773, 'janarige': 4599, 'ivatte': 4567, 'kalisidare': 4715, 'olage': 6021, 'ondu': 6033, 'keluviri': 4747, 'maretare': 5296, 'inde': 4416, 'dodda': 2875, 'problum': 6624, 'nalli': 5698, 'siguviri': 7480, 'idu': 4351, 'matra': 5330, 'neglet': 5756, 'easily': 3031, 'ijust': 4360, 'talked': 8131, 'opps': 6073, 'tts': 8578, 'gei': 3719, 'tron': 8550, 'dl': 2860, 'selfish': 7293, 'spiffing': 7746, 'workage': 9201, 'craving': 2483, 'supose': 8032, 'babysit': 1439, 'therexx': 8295, 'spaces': 7711, 'embassy': 3104, 'lightly': 5008, 'custom': 2553, 'checkboxes': 2118, 'sac': 7136, 'hundredhe': 4293, 'batsman': 1506, 'yettys': 9391, 'jiayin': 4639, '09050000928': 184, 'pobox45w2tg150p': 6433, 'forgotten': 3533, 'reverse': 7017, 'cheating': 2115, 'mathematics': 5327, '2waxsto': 519, 'basic': 1494, 'emailed': 3100, 'yifeng': 9394, 'theyll': 8301, 'slurp': 7575, 'minimum': 5470, '3miles': 571, 'ing': 4444, 'brainless': 1773, 'dolld': 2899, 'vehicle': 8814, 'sariyag': 7184, 'madoke': 5241, 'barolla': 1486, '07090201529': 23, 'postponed': 6504, 'stocked': 7880, 'elaine': 3084, 'tiime': 8365, 'afternon': 1038, 'interviews': 4485, 'resizing': 6977, '09066364349': 261, 'box434sk38wp150ppm18': 1759, 'opposed': 6071, 'drunken': 2983, 'msgwe': 5628, 'billed': 1623, 'shortcode': 7429, '83332please': 816, '08081263000': 62, 'refundedthis': 6891, 'somerset': 7649, 'overtime': 6139, 'nigpun': 5811, 'dismissial': 2846, 'screwd': 7246, '08712402972': 113, 'bull': 1865, 'floating': 3475, 'mess': 5418, '09058095201': 206, 'heehee': 4067, 'arithmetic': 1284, 'percentages': 6282, 'chillaxin': 2168, 'das': 2610, 'iknow': 4363, 'wellda': 9038, 'peril': 6290, 'studentfinancial': 7941, 'crisisspk': 2504, 'monster': 5570, 'ths': 8347, 'ias': 4325, 'obey': 5958, 'uhhhhrmm': 8638, 'mb': 5348, 'gbpsms': 3708, '600': 703, '400': 589, 'deltomorrow': 2709, '09066368470': 264, '24m': 447, '1month': 402, 'smartcall': 7580, '68866': 721, 'subscriptn3gbpwk': 7978, '08448714184': 67, 'stoptxt': 7897, 'landlineonly': 4885, 'mths': 5635, 'cameravideo': 1964, '£s': 9520, 'textsweekend': 8245, 'callback': 1938, 'orno': 6099, 'fink': 3434, '09099726553': 286, 'promised': 6649, 'carlie': 2010, 'calls£1minmobsmore': 1955, 'lkpobox177hp51fl': 5063, 'youphone': 9420, 'athome': 1347, 'youwanna': 9429, 'jack': 4584, 'sayask': 7209, 'helpful': 4088, 'pretend': 6579, 'hypotheticalhuagauahahuagahyuhagga': 4323, 'brainy': 1775, 'occasion': 5963, 'celebrated': 2059, 'reflection': 6886, 'values': 8798, 'desires': 2740, 'affectionsamp': 1030, 'traditions': 8507, 'cantdo': 1981, 'anythingtomorrow': 1217, 'myparents': 5681, 'aretaking': 1274, 'outfor': 6120, 'katexxx': 4732, 'level': 4982, 'gate': 3693, '89105': 870, 'ts': 8569, 'wedding': 9010, 'lingerie': 5031, 'wwwbridalpetticoatdreamscouk': 9271, 'weddingfriend': 9011, 'board': 1696, 'overheating': 6138, 'reslove': 6978, 'inst': 4463, 'pending': 6274, '8o': 883, 'western': 9056, 'outta': 6132, 'nowadays': 5901, 'notixiquating': 5892, 'laxinorficated': 4926, 'bambling': 1465, 'entropication': 3151, 'oblisingately': 5960, 'opted': 6075, 'masteriastering': 5317, 'amplikater': 1159, 'fidalfication': 3389, 'champlaxigating': 2079, 'atrocious': 1352, 'wotz': 9227, 'junna': 4695, 'knickers': 4817, '01223585236': 4, 'nikiyu4net': 5814, 'accident': 950, 'a30': 912, 'divert': 2854, 'wadebridgei': 8910, 'vill': 8849, 'orc': 6086, 'bloomberg': 1682, '447797706009': 609, 'httpcareers': 4263, 'bloombergcom': 1683, 'seeking': 7277, 'priscillas': 6604, 'dayexcept': 2630, 'wisdom': 9137, 'inform': 4435, 'wherres': 9085, 'phone750': 6331, 'resolution': 6979, 'replybe': 6954, 'frankgood': 3561, 'logoff': 5087, 'parkin': 6211, 'kent': 4750, 'vale': 8789, 'cannt': 1979, 'asa': 1311, '09050000878': 183, 'wan2': 8944, 'meetgreet': 5374, 'westlife': 9057, '1unbreakable': 411, '2untamed': 517, '3unkempt': 581, '83049': 812, 'prince': 6594, 'charming': 2100, 'mention': 5403, 'served': 7326, 'arnt': 1292, 'xxxxxxxxxxxxxx': 9342, 'dorothykiefercom': 2920, 'granite': 3871, 'strongbuy': 7930, 'explosive': 3273, 'nasdaq': 5712, 'symbol': 8094, 'cdgt': 2052, 'alle': 1119, 'moneeppolum': 5558, 'allalo': 1117, 'fundamentals': 3650, 'carewhoever': 2008, '101mega': 302, 'pixels': 6373, '3optical': 574, '5digital': 682, 'dooms': 2915, 'peteynoi\\x92m': 6314, 'timehope': 8372, 'alritehave': 1134, 'js': 4679, 'amx': 1165, 'burgundy': 1873, 'captaining': 1990, 'base': 1492, 'placement': 6378, 'amrita': 1161, 'profile': 6637, 'bpo': 1770, 'didn‘t': 2785, 'nighters': 5804, 'persevered': 6297, 'regretted': 6901, 'wasn\\x92t': 8964, 'spouse': 7780, 'pmt': 6421, 'sumthin': 8013, '4give': 637, 'shldxxxx': 7413, 'thatd': 8262, 'scenario': 7222, 'spunout': 7790, 'wrld': 9247, 'nytho': 5948, 'tx': 8609, 'fonin': 3509, '2mwen': 499, 'frmcloud': 3612, '09071517866': 273, '150ppmpobox10183bhamb64xe': 364, '10am': 305, 'pounded': 6511, 'lion': 5036, 'devouring': 2762, 'airtel': 1082, 'broadband': 1819, 'processed': 6628, 'installation': 4465, 'tensed': 8214, 'coughing': 2445, 'warned': 8957, 'sprint': 7786, 'prolly': 6645, 'gower': 3854, '\\x91morrow': 9462, '\\x96': 9466, 'chik': 2151, '100s': 299, 'filth': 3412, '69669': 724, 'saristar': 7183, 'e14': 3017, '9yt': 910, '08701752560': 81, '450p': 618, 'stop2': 7890, '420': 600, '9061100010': 889, 'wire3net': 9136, '1st4terms': 406, 'mobcudb': 5529, 'alreadysabarish': 1130, 'jaya': 4609, '09050000460': 181, 'j89': 4582, 'box245c2150pm': 1750, 'inpersonation': 4456, 'flea': 3464, 'forums': 3545, 'banneduk': 1475, 'itlet': 4549, 'highest': 4128, '£54': 9510, 'maximum': 5343, '£71': 9514, 'nys': 5945, 'taj': 8118, 'lesser': 4974, 'known': 4823, 'facts': 3299, 'mumtaz': 5656, 'shahjahans': 7360, 'wifes': 9107, 'shahjahan': 7359, 'mumtazs': 5657, 'arises': 1283, 'hari': 4012, 'okcome': 6008, '69101': 722, 'wwwrtfsphostingcom': 9294, 'webadres': 9003, 'geting': 3740, 'incredible': 4414, 'o2fwd': 5954, '18ptxt': 387, 'ship': 7398, 'maturity': 5338, 'confirmed': 2365, 'passport': 6232, 'multiply': 5648, 'independently': 4419, 'decimal': 2672, 'showed': 7443, 'twins': 8606, 'strt': 7932, 'ltdhelpdesk': 5173, '02085076972': 13, 'equally': 3159, 'uneventful': 8675, 'pesky': 6308, 'cyclists': 2568, 'wereare': 9049, 'nalla': 5697, 'adi': 998, 'entey': 3146, 'nattil': 5720, 'kittum': 4795, 'kavalan': 4734, 'hire': 4139, 'hitman': 4145, '200': 418, '09066660100': 270, '2309': 440, 'cps': 2469, 'causing': 2044, 'outages': 6116, 'conserve': 2378, 'voted': 8886, 'epi': 3157, 'bare': 1481, 'bhaskar': 1612, 'dubsack': 2991, 'individual': 4425, 'gong': 3816, 'kaypoh': 4736, 'basketball': 1496, 'outdoors': 6118, 'macho': 5230, 'interfued': 4480, 'blank': 1656, 'listed': 5045, 'apology': 1233, 'hustle': 4314, 'forth': 3542, 'audition': 1370, 'harlem': 4014, 'workout': 9206, 'fats': 3347, 'zac': 9449, 'tonights': 8458, 'hui': 4286, 'xin': 9324, 'lib': 4987, 'difference': 2795, 'versus': 8824, 'edge': 3046, 'underdtand': 8667, 'itboth': 4539, 'upnot': 8724, 'muchxxlove': 5642, 'locaxx': 5077, '07090298926': 24, 'reschedule': 6967, 'ref9307622': 6880, 'skateboarding': 7529, 'despite': 2745, 'thrown': 8343, 'winds': 9122, 'bandages': 1467, 'mytonecomenjoy': 5685, 'html': 4261, 'gbp450week': 3706, 'mfl': 5438, '1146': 318, '23': 439, 'hectic': 4065, 'fell': 3375, 'swoop': 8089, 'wamma': 8942, 'laidwant': 4876, 'doggin': 2884, 'dogs': 2887, 'nownyt': 5905, 'langport': 4890, 'virtual': 8860, 'senthil': 7317, 'apnt': 1228, 'pants': 6186, 'waiti': 8920, 'go2sri': 3788, 'lanka': 4892, 'wordnot': 9196, 'merely': 5411, 'relationshipits': 6906, 'wherevr': 9084, 'forevr': 3525, 'gudnyt': 3929, 'mistakes': 5503, 'plum': 6413, 'smacks': 7576, '50s': 669, 'alot': 1128, 'formatting': 3538, 'attracts': 1364, 'promotion': 6653, '8714714': 851, 'vegas': 8811, 'lou': 5136, 'lancaster': 4881, 'neway': 5779, 'couldn\\x92t': 2449, 'b\\x92day': 1908, 'soc': 7627, 'bsn': 1840, 'advising': 1021, 'lobby': 5073, 'texted': 8239, 'showered': 7445, 'erything': 3172, 'vewy': 8826, 'lubly': 5180, 'rs5': 7102, '087147123779am7pm': 124, 'sbut': 7215, 'luck2': 5182, 'catches': 2038, 'specify': 7730, 'domain': 2902, 'nusstu': 5935, 'ohi': 6001, 'hahatake': 3964, 'bari': 1483, 'hudgi': 4279, 'yorge': 9404, 'pataistha': 6237, 'ertini': 3168, 'hasbroin': 4017, 'jump': 4691, 'hoops': 4207, 'lateso': 4913, 'morningtake': 5586, 'dreamsu': 2955, 'meummifyingbye': 5436, 'networking': 5770, 'associate': 1334, 'rip': 7048, 'uterus': 8772, 'pool': 6468, 'jacuzzi': 4588, 'x49': 9317, '09065989182': 252, 'colourredtextcolourtxtstar': 2292, '2nights': 503, 'wildest': 9113, 'splwat': 7762, 'whr': 9096, 'aldrine': 1098, 'rakhesh': 6774, 'rtm': 7106, 'herepls': 4097, 'callurgent': 1958, 'sources': 7703, 'unhappiness': 8679, 'necesity': 5737, 'witout': 9153, 'hwd': 4319, 'colleg': 2286, 'watll': 8980, 'wth': 9257, 'functions': 3648, 'events': 3203, 'espell': 3179, 'irritated': 4518, '4wrd': 661, 'dearloving': 2655, 'wthout': 9258, 'takecare': 8121, 'univ': 8690, 'rajas': 6769, 'burrito': 1879, 'disconnect': 2836, 'callcoz': 1940, 'terrorist': 8223, 'itz': 4564, 'confirmd': 2363, 'verified': 8820, 'cnn': 2255, 'ibn': 4330, 'stitch': 7878, 'trouser': 8553, '146tf150p': 348, 'cheetos': 2131, 'synced': 8097, 'shangela': 7368, 'hppnss': 4256, 'sorrow': 7681, 'goodfriend': 3824, 'passes': 6229, '08704439680': 87, 'againloving': 1045, 'poo': 6466, 'gloucesterroad': 3780, 'uup': 8776, 'ouch': 6112, 'stayed': 7846, 'forgiveness': 3531, 'fruit': 3628, 'stone': 7885, 'glo': 3776, '09058095107': 205, 's3xy': 7133, 'yesmum': 9386, 'wlcome': 9164, 'eaten': 3037, 'timi': 8377, 'mila': 5449, 'age23': 1050, 'blonde': 1676, 'mtalk': 5633, '6986618': 728, '30pptxt': 536, '5free': 683, 'increments': 4415, 'help08718728876': 4087, 'fishrman': 3446, 'sack': 7139, 'ful': 3641, 'stones': 7887, 'strtd': 7933, 'throwin': 8341, 'atlast': 1349, '1stone': 408, 'moraldont': 5580, '08717895698': 148, 'mobstorequiz10ppm': 5538, 'physics': 6341, 'arpraveesh': 1295, 'delicious': 2704, 'salad': 7153, 'desert': 2737, 'beers': 1562, 'whore': 9093, 'funk': 3652, 'tones2u': 8451, 'twinks': 8605, 'scallies': 7217, 'skins': 7535, 'jocks': 4648, '08712466669': 119, '08712460324nat': 118, 'flood': 3476, 'beads': 1534, 'wishlist': 9144, 'section': 7268, 'nitro': 5824, 'sold': 7637, 'onionrs': 6039, 'petrolrs': 6316, 'beerrs': 1561, 'armands': 1287, 'creative': 2489, 'fakemy': 3312, 'reffering': 6884, 'uif': 8639, 'getiing': 3739, 'rsi': 7103, 'weirdy': 9033, 'brownies': 1832, '09061701851': 219, 'k61': 4705, '12hours': 334, 'restrict': 6995, 'funeral': 3651, 'audrey': 1371, 'godnot': 3796, 'chikkuk': 2158, 'vivek': 8870, '74355': 759, 'tnc': 8407, 'brah': 1771, 'possession': 6490, 'outif': 6123, 'greece': 3889, 'protect': 6667, 'ethreats': 3188, 'sib': 7464, 'sensitive': 7313, 'passwordsatmsms': 6235, 'recorded': 6864, 'someday': 7643, 'goodmorningmy': 3828, 'grandfather': 3868, 'expiredso': 3267, 'blu': 1687, 'concert': 2352, 'november': 5898, '09061104276': 211, 'cost£375max': 2441, 'yuou': 9444, 'spot': 7778, 'ipad': 4507, 'bunch': 1867, 'lotto': 5133, 'bird': 1633, 'purchases': 6703, 'authorise': 1383, '645pm': 717, 'honeydid': 4198, 'gimmi': 3758, 'gossx': 3842, 'painit': 6172, 'todaydo': 8417, 'ystrdayice': 9438, 'chile': 2166, 'subletting': 7966, 'febapril': 3363, 'ammaelife': 1151, 'steering': 7858, 'anythings': 1216, 'sleeps': 7553, 'rounderso': 7088, 'required': 6964, 'truekdo': 8557, 'lambu': 4879, 'ji': 4637, 'cometil': 2303, 'batchlor': 1501, 'zoom': 9459, 'nowsend': 5910, '62220cncl': 710, 'stopcs': 7894, '08717890890£150': 147, 'cheese': 2129, '\\x93harry': 9464, 'pink': 6365, 'ringtonefrom': 7042, 'httptms': 4267, 'widelivecomindex': 9102, 'wmlid1b6a5ecef91ff937819firsttrue180430jul05': 9166, 'xafter': 9319, 'cst': 2520, 'chg': 2144, 'pure': 6704, 'hearted': 4055, 'hisher': 4140, 'enemies': 3123, 'smiley': 7593, 'gail': 3666, 'wrongtake': 9251, 'worryc': 9218, 'hunlove': 4298, 'yaxxx': 9357, 'theoretically': 8286, 'hooked': 4206, 'formallypls': 3536, 'prayingwill': 6545, 'multimedia': 5647, 'senthilhsbc': 7318, 'vague': 8786, 'accounting': 960, 'delayed': 2700, 'housing': 4244, 'agency': 1051, 'renting': 6940, 'presents': 6571, 'nicky': 5799, 'gumbys': 3941, 'httpalto18coukwavewaveaspo44345': 4262, 'sized': 7525, 'tarpon': 8146, 'springs': 7785, 'cab': 1912, 'availablethey': 1391, 'steps': 7860, 'careumma': 2007, 'limited': 5020, 'call2optouthf8': 1932, '09061702893': 221, 'practice': 6530, '08719181259': 171, '260305': 454, 'deartake': 2662, 'radiator': 6756, 'proper': 6659, 'tongued': 8456, 'shorts': 7432, 'qi': 6726, 'suddenly': 7989, 'flurries': 3486, 'melt': 5391, 'ground': 3904, 'eek': 3057, 'born': 1728, 'freeringtone': 3584, 'real1': 6820, 'pushbutton': 6710, 'dontcha': 2909, 'babygoodbye': 1436, 'golddigger': 3808, 'webeburnin': 9004, 'perform': 6285, 'cards': 1995, 'rebooting': 6840, 'nigh': 5802, 'nooooooo': 5867, 'cable': 1914, 'outage': 6115, 'sos': 7694, 'playin': 6398, 'guoyang': 3942, 'rahul': 6761, 'dengra': 2715, 'antelope': 1202, 'toplay': 8476, 'fieldof': 3391, 'selfindependence': 7292, 'contention': 2391, 'growrandom': 3911, 'gnarls': 3785, 'barkleys': 1484, 'borderline': 1724, '545': 680, 'nightnight': 5805, 'possibility': 6493, 'grooved': 3901, 'affairs': 1027, 'mising': 5488, 'secured': 7271, 'unsecured': 8701, '195': 389, '6669': 719, 'lanre': 4893, 'fakeyes': 3313, 'eckankar': 3043, 'ph': 6318, '3000': 530, '09061743386': 222, 'heater': 4061, 'degrees': 2695, 'dodgey': 2876, 'call2optout674': 1930, 'seing': 7287, 'faceasssssholeeee': 3294, 'ceri': 2069, 'rebel': 6838, 'dreamz': 2956, 'buddy': 1853, 'ringtoneking': 7044, '84484': 830, 'nationwide': 5719, 'newport': 5781, 'juliana': 4688, 'nachos': 5690, 'eta': 3184, 'dizzamn': 2858, 'suitemates': 8004, 'nimbomsons': 5815, 'continent': 2393, 'housewives': 4242, '08717507711': 145, 'btnational': 1846, 'landlines': 4886, '£400': 9500, '087104711148': 100, 'emerging': 3106, 'fiendmake': 3392, 'muchimpede': 5641, 'hesitant': 4110, 'ow': 6143, 'deyi': 2765, '60400thousadi': 705, 'sumthinxx': 8014, 'nose': 5880, 'essay': 3181, 'tram': 8514, 'vic': 8831, 'coherently': 2270, 'triple': 8546, 'echo': 3042, 'gran': 3866, 'onlyfound': 6047, 'afew': 1025, 'agocusoon': 1059, 'honi': 4200, 'dial': 2771, 'bx526': 1904, 'university': 8691, 'southern': 7705, 'california': 1925, 'rayan': 6797, 'macleran': 5232, 'balls': 1463, 'olave': 6022, 'mandara': 5281, 'trishul': 8548, 'woo': 9186, 'hoo': 4202, 'panties': 6185, 'thout': 8333, '09066364311': 260, 'flatter': 3462, 'pints': 6367, 'carlin': 2011, 'literally': 5053, 'ciao': 2198, 'x49your': 9318, 'starve': 7835, 'impression': 4393, 'motivate': 5593, 'darkness': 2603, 'timeyou': 8375, 'wknd': 9161, 'yalrigu': 9349, 'heltiniiyo': 4092, 'kothi': 4840, 'meso': 5417, 'uttered': 8774, 'trusting': 8562, 'meok': 5408, 'chikkub': 2154, 'noice': 5847, 'esaplanade': 3173, 'accessible': 948, '08709501522': 98, '139': 343, 'la3': 4860, '2wu': 523, '£150week': 9486, 'occurs': 5967, 'prof': 6634, 'sem': 7298, 'student': 7940, 'enna': 3138, 'kalaachutaarama': 4713, 'coco': 2266, 'sporadically': 7773, '09064017305': 240, 'pobox75ldns7': 6434, 'tbspersolvo': 8164, 'for£38': 3549, 'kath': 4733, 'manchester': 5278, 'you\\x92re': 9431, 'burden': 1871, 'noworriesloanscom': 5907, '08717111821': 141, 'actual': 983, 'harder': 4009, 'nbme': 5730, 'sickness': 7467, 'goals': 3791, 'villa': 8850, 'sathya': 7190, 'gam': 3676, 'smash': 7583, 'religiously': 6913, 'heroes': 4103, 'tips': 8383, '07973788240': 47, '08715203649': 132, 'dealing': 2648, 'muhommad': 5645, 'penny': 6277, 'doc': 2868, 'fiting': 3448, 'load': 5069, 'hwkeep': 4320, 'mj': 5511, 'unconvinced': 8664, 'elaborate': 3082, 'willpower': 9116, 'value': 8795, 'absence': 933, 'answerin': 1198, 'reasonable': 6834, '»10': 9521, 'evey': 3219, 'mnth': 5524, 'prin': 6593, '…thanks': 9529, 'gsoh': 3917, 'spam': 7714, 'ladiesu': 4870, 'gigolo': 3756, 'mens': 5401, 'oncall': 6032, 'mjzgroup': 5512, '087143423992stop': 123, 'msg£150rcvd': 5629, 'ashwini': 1318, '08707500020': 91, 'tomorrowtoday': 8447, 'ukp2000': 8644, '09061790125': 229, 'jokethet': 4662, 'skinny': 7534, 'lineyou': 5030, 'casting': 2033, 'elections': 3089, 'shouldn‘t': 7437, '116': 320, 'hlday': 4152, 'camp': 1965, 'amrca': 1160, 'serena': 7322, 'prescribed': 6566, 'kappa': 4727, 'meatballs': 5365, 'approve': 1253, 'panalambut': 6177, 'spjanuary': 7753, 'fortune': 3543, 'allday': 1118, 'piss': 6369, 'perf': 6283, 'outsider': 6129, 'receipts—well': 6847, 'what‘s': 9071, '98321561': 899, 'familiar': 3322, 'depression': 2729, 'infact': 4429, 'simpsons': 7491, 'band': 1466, 'agreen': 1061, 'bblue': 1517, 'cred': 2491, 'can\\x92t': 1983, 'isn\\x92t': 4532, 'shite': 7404, 'kip': 4788, 'hont': 4201, 'amanda': 1143, 'regard': 6894, 'renewing': 6937, 'upgrading': 8718, '3680': 555, 'subject': 7965, 'nannys': 5709, 'puts': 6714, 'perspective': 6306, 'sonot': 7667, 'conveying': 2404, 'debating': 2665, 'httpwwwwtlpcouktext': 4274, 'guessing': 3934, 'jb': 4614, 'youso': 9424, 'florida': 3479, 'teeth': 8190, 'hidden': 4122, 'royal': 7095, 'tog': 8424, 'teams': 8180, 'swhrt': 8082, 'deyhope': 2764, '2daylove': 476, 'misstake': 5498, '0906346330': 234, '47': 623, 'po19': 6423, '2ez': 480, 'general': 3722, 'ifwhenhow': 4355, 'dayhas': 2631, 'valuemorning': 8797, 'hopeafternoon': 4210, 'faithevening': 3310, 'luvnight': 5199, 'restwish': 6998, 'todaygood': 8419, 'jetton': 4634, 'friendofafriend': 3603, 'cmon': 2252, 'sticky': 7872, 'replies': 6952, 'dealer': 2645, 'lunsford': 5194, 'enjoying': 3136, '0796xxxxxx': 46, 'day2': 2628, 'prizeawaiting': 6610, 'kfc': 4760, 'meals': 5354, 'gravy': 3879, 'dahe': 2580, 'daalways': 2572, 'thisdon': 8317, 'messagepandy': 5424, '07008009200': 21, 'attended': 1359, 'mw': 5676, 'tuth': 8595, 'mines': 5468, 'eviction': 3220, 'spiral': 7750, 'michael': 5442, 'riddance': 7029, 'suffers': 7994, 'raglan': 6760, 'edward': 3054, 'cricket': 2499, 'closeby': 2236, 'daplease': 2598, 'skye': 7540, 'bookedthe': 1715, 'hut': 4315, 'drastic': 2945, 'indicate': 4424, '3750': 558, 'garments': 3689, 'sez': 7347, 'arab': 1265, 'evry1': 3229, 'eshxxxxxxxxxxx': 3177, 'lay': 4927, 'bimbo': 1629, 'ugos': 8636, '241': 443, '3lions': 568, 'portege': 6482, 'm100': 5211, 'semiobscure': 7301, 'gprs': 3855, 'repeat': 6945, 'loosu': 5115, 'careless': 2003, 'freaking': 3568, 'myspace': 5683, 'logged': 5083, 'partners': 6219, 'method': 5435, 'calculation': 1922, 'blur': 1693, 'clothes': 2243, 'jewelry': 4635, 'breaker': 1787, 'deluxe': 2710, 'features': 3361, 'graphics': 3873, '£5': 9503, 'bbdeluxe': 1514, 'lush': 5195, 'fumbling': 3645, 'day2find': 2629, 'taunton': 8155, 'weekdays': 9019, 'haiz': 3971, 'nails': 5695, 'nobodys': 5841, 'common': 2314, 'asia': 1319, 'greatest': 3886, 'courage': 2457, 'bear': 1535, 'defeat': 2688, 'heartgn': 4056, 'stil': 7874, 'fucked': 3633, 'tobed': 8412, '430': 605, 'beauty': 1541, 'pimples': 6362, 'natalja': 5717, '25f': 452, 'yes440': 9377, 'no440': 5833, 'wwwsmsacunat27081980': 9300, 'asthma': 1338, 'attack': 1355, 'ball': 1460, 'moving': 5608, 'spin': 7748, 'haiyoh': 3970, 'million': 5455, 'auntys': 1380, '02': 7, 'prsn': 6674, 'somtimes': 7662, 'saves': 7205, 'sunlight': 8019, 'bcozi': 1528, 'loss': 5124, 'audiitions': 1369, 'relocate': 6914, 'pocked': 6438, 'motivating': 5594, 'sharing': 7375, 'brison': 1813, 'spelled': 7738, 'caps': 1988, 'bullshit': 1866, 'gwr': 3949, 'motherfucker': 5591, 'kit': 4793, 'strip': 7925, '1013': 301, 'ig11': 4356, 'oja': 6005, '08712402578': 110, 'thesmszonecom': 8299, 'anonymous': 1191, 'masked': 5313, 'messagesim': 5426, 'theredo': 8290, 'abuse': 939, 'woodland': 9187, 'avenue': 1398, 'parish': 6207, 'magazine': 5246, 'billy': 1627, 'jogging': 4651, 'awww': 1413, 'useless': 8757, 'loo': 5103, 'helloed': 4077, 'shelf': 7383, 'swollen': 8088, 'glands': 3773, 'previous': 6585, 'captain': 1989, 'bcaz': 1521, 'stu': 7936, '2im': 489, 'truble': 8554, 'evone': 3225, 'hates': 4022, 'mokka': 5549, 'view': 8843, 'gays': 3700, 'dual': 2989, 'hostile': 4230, 'haircut': 3968, 'breezy': 1798, '09061744553': 226, 'polyh': 6458, '1appledayno': 391, '1tulsi': 409, 'leafdayno': 4940, '1lemondayno': 400, '1cup': 393, 'milkdayno': 5453, 'bone': 1708, 'problms': 6623, 'litres': 5054, 'watrdayno': 8981, 'diseases': 2842, 'snd': 7615, 'lavender': 4924, 'manky': 5287, 'scouse': 7237, 'stevelike': 7866, 'travelling': 8531, 'homewot': 4191, 'inmind': 4449, 'recreation': 6870, 'epsilon': 3158, 'mesages': 5415, 'judgementali': 4685, 'fridays': 3599, 'hidid': 4125, 'waheeda': 8915, 'bot': 1733, 'notes': 5885, 'deary': 2663, 'eventually': 3204, 'tolerance': 8435, 'hits': 4146, '0789xxxxxxx': 44, 'hellogorgeous': 4078, 'lst': 5168, 'nitw': 5826, 'texd': 8232, 'hopeu': 4217, '4ward': 660, 'cin': 2199, 'jaz': 4612, '09058091870': 196, 'exorcism': 3254, 'emily': 3108, 'evry': 3228, 'emotion': 3109, 'dsnt': 2987, 'wordsevry': 9198, 'prayrs': 6546, 'uothrwise': 8710, 'uso': 8767, 'ujhhhhhhh': 8641, 'sandiago': 7170, 'parantella': 6198, 'hugging': 4282, 'sweater': 8074, 'mango': 5285, 'massive': 5316, 'involved': 4503, '£600': 9513, 'landmark': 4887, 'bob': 1699, 'barry': 1490, '83738': 823, 'fineabsolutly': 3424, 'consent': 2377, 'forms': 3540, 'tonexs': 8454, 'renewed': 6936, 'wwwclubzedcouk': 9274, 'billing': 1624, 'wwwtcbiz': 9303, 'polo': 6453, '373': 557, 'w1j': 8901, '6hl': 737, 'can‘t': 1984, 'mathews': 5328, 'tait': 8117, 'edwards': 3055, 'anderson': 1171, 'haunt': 4025, 'promoting': 6652, 'crowd': 2509, '8000930705': 783, 'snowboarding': 7623, 'goa': 3789, 'christmassy': 2194, 'recpt': 6869, '13': 338, 'baaaaaaaabe': 1428, 'ignoring': 4359, 'shola': 7417, 'academic': 942, 'sagamu': 7148, 'lautech': 4923, 'vital': 8867, 'completes': 2332, 'education': 3051, 'zealand': 9451, 'qet': 6725, 'browser': 1834, 'surf': 8047, 'subscribers': 7975, 'gb': 3703, 'wellyou': 9041, 'lifeyou': 5001, 'convinced': 2406, 'thati': 8264, 'conversations': 2400, 'usget': 8761, 'timeyour': 8376, 'sensesrespect': 7311, 'overemphasiseor': 6137, 'headset': 4043, 'adp': 1008, 'internal': 4481, 'extract': 3281, 'godyou': 3799, 'immed': 4380, 'skint': 7536, 'fancied': 3327, 'bevieswaz': 1606, 'othrs': 6109, 'spoon': 7771, 'watchng': 8975, 'planet': 6384, 'earthsofa': 3028, 'comfey': 2304, 'quitting': 6745, 'least5times': 4946, 'wudnt': 9260, 'coast': 2258, 'ima': 4371, 'frequently': 3592, 'messageit': 5421, 'cupboard': 2542, 'route': 7090, '2mro': 497, 'floppy': 3478, 'snappy': 7613, 'risk': 7051, 'grasp': 3874, 'flavour': 3463, 'laready': 4899, 'denying': 2721, 'dom': 2901, 'ffffuuuuuuu': 3386, 'julianaland': 4689, 'oblivious': 5961, 'upsetits': 8730, 'dehydrated': 2696, 'mapquest': 5291, 'dogwood': 2888, 'tiny': 8381, 'parking': 6212, 'suppose': 8040, 'archive': 1268, 'ukmobiledate': 8643, '08719839835': 174, 'mgs': 5439, '89123': 871, 'lengths': 4966, 'behalf': 1572, 'stunning': 7956, 'visa': 8861, 'gucci': 3923, 'shits': 7408, 'babesozi': 1433, 'culdnt': 2536, 'talkbut': 8130, 'wannatell': 8947, 'wenwecan': 9047, 'smsing': 7606, 'efficient': 3062, 'explicit': 3271, '30': 528, 'secs': 7267, '02073162414': 12, '20pmin': 430, '515pm': 671, 'erutupalam': 3171, 'thandiyachu': 8248, 'invention': 4493, 'flyim': 3489, 'noits': 5850, 'lyrics': 5210, 'nevr': 5777, 'unrecognized': 8699, 'somone': 7661, 'valuing': 8799, 'definitly': 2692, 'undrstnd': 8672, 'ger': 3735, 'toking': 8430, 'syd': 8092, 'lehhaha': 4961, 'khelate': 4764, 'kintu': 4786, 'opponenter': 6067, 'dhorte': 2769, 'lage': 4873, 'fried': 3601, 'spares': 7717, 'looovvve': 5112, 'warwick': 8961, 'tmw': 8406, 'canceled': 1972, 'sometime': 7653, 'tops': 8479, 'grandma': 3869, 'parade': 6194, 'proze': 6673, 'norcorp': 5871, 'ltd£150mtmsgrcvd18': 5174, 'posting': 6503, 'chennaibecause': 2134, '7cfca1a': 770, 'grumble': 3913, 'linear': 5026, 'algebra': 1107, 'decorating': 2678, 'wining': 9127, '946': 895, 'roomate': 7079, 'graduated': 3862, 'adjustable': 999, 'cooperative': 2416, 'allows': 1123, 'nottingham': 5894, '63miles': 715, '40mph': 596, 'clearly': 2226, 'thanku': 8255, 'guessed': 3931, 'hubbys': 4278, '89938': 875, 'strings': 7924, '£150ea': 9480, 'otbox': 6106, '731': 758, 'la1': 4859, '7ws': 779, 'gain': 3668, 'itxx': 4563, 'beside': 1594, 'brisk': 1812, 'walks': 8934, 'sexiest': 7342, 'dirtiest': 2825, '89070': 868, 'steve': 7865, 'tellmiss': 8200, 'partys': 6223, 'contribute': 2397, 'greatly': 3887, 'urgh': 8741, 'coach': 2257, 'smells': 7587, 'duvet': 3010, 'predictive': 6553, 'chatim': 2108, 'w8in': 8905, '4utxt': 658, 'url': 8746, '24th': 448, 'beverage': 1605, 'vpist': 8890, 'surrender': 8054, 'symptoms': 8096, 'rdy': 6806, 'realise': 6821, 'itnow': 4554, 'backwards': 1445, 'abstract': 935, 'vikkyim': 8847, 'africa': 1035, 'avin': 1399, 'chitchat': 2177, 'logon': 5088, '8883': 863, '4217': 602, 'w1a': 8900, '6zf': 749, '118pmsg': 322, 'quiteamuzing': 6744, 'that\\x92scool': 8270, 'babeprobpop': 1431, 'cu': 2529, 'satthen': 7197, '4brekkie': 630, 'psxtra': 6679, 'lrg': 5164, 'portions': 6483, '£1000call': 9473, '09071512432': 271, '300603tcsbcm4235wc1n3xxcallcost150ppmmobilesvary': 532, 'rows': 7092, 'mnths': 5525, 'engagement': 3128, 'fixd': 3451, 'bthmm': 1845, 'njan': 5828, 'vilikkamt': 8848, 'sudn': 7990, 'maths': 5329, 'chapter': 2090, 'chop': 2185, 'noooooooo': 5868, '09065171142stopsms08718727870150ppm': 247, 'firsg': 3442, 'split': 7760, 'heat': 4060, 'applyed': 1244, 'sumfing': 8009, '86888': 844, 'subscribe6gbpmnth': 7972, '3hrs': 567, 'stoptxtstop': 7898, 'hopeso': 4216, 'amnow': 1153, 'feelin': 3368, 'ithink': 4544, 'tonsolitusaswell': 8463, 'layin': 4928, 'bedreal': 1551, 'lotsof': 5131, 'hiphop': 4138, 'managed': 5276, 'oxygen': 6151, 'resort': 6981, 'roller': 7073, 'recorder': 6865, 'canname': 1977, 'capital': 1986, 'australia': 1382, 'mquiz': 5611, 'showr': 7448, 'acted': 974, 'upon': 8725, 'ceiling': 2055, 'presnts': 6574, 'bcz': 1531, 'mis': 5484, 'jeevithathile': 4620, 'irulinae': 4522, 'neekunna': 5752, 'prakasamanu': 6536, 'sneham': 7616, 'prakasam': 6535, 'ennal': 3139, 'prabha': 6525, 'mns': 5523, 'islove': 4530, 'blowing': 1685, '7634': 762, '7684': 763, 'firmware': 3441, 'vijaykanth': 8845, 'comedy': 2299, 'tvhe': 8597, 'anythiing': 1213, 'ripped': 7049, 'wwwclubmobycom': 9273, '08717509990': 146, 'polytruepixringtonesgames': 6462, 'keypad': 4757, 'btwn': 1850, 'decades': 2667, 'goverment': 3851, 'expects': 3260, 'loyal': 5162, 'customers': 2556, '09066380611': 266, 'spice': 7743, 'prasanth': 6540, 'ettans': 3189, '08718738002': 167, '48922': 627, '211104': 432, 'appy': 1258, 'fizz': 3455, 'contains': 2388, 'genus': 3731, 'robinson': 7061, 'nottel': 5893, 'print': 6598, 'outs': 6127, 'soz': 7707, 'imat': 4376, 'freinds': 3588, 'msgsometext': 5625, '07099833605': 25, 'ref9280114': 6879, 'chloe': 2179, '150ptext': 368, 'wewa': 9063, '130': 339, 'iriver': 4515, '255': 451, '128': 333, 'bw': 1900, 'dajst': 2584, 'hmmmbut': 4159, 'surly': 8050, '07808726822': 40, '08718729758': 163, 'dokey': 2896, 'mmmmmmm': 5521, 'snuggles': 7625, 'contented': 2390, 'whispers': 9089, 'error': 3166, 'healthy': 4048, '2bold': 472, 'givits': 3771, 'kanoanyway': 4724, 'brother‘s': 1828, 'scraped': 7238, 'barrel': 1488, 'misfits': 5487, 's8': 7134, 'sleepin': 7549, 'sections': 7269, 'clearer': 2224, 'peach': 6264, 'tasts': 8149, 'rayman': 6798, 'golf': 3811, 'activ8': 978, 'termsapply': 8220, 'therell': 8292, 'minor': 5472, 'shindig': 7395, 'minstexts': 5476, 'phonebook': 6332, 'keng': 4748, 'rocking': 7064, 'ashes': 1315, 'xins': 9325, 'shijutta': 7393, 'kafter': 4709, 'offense': 5977, 'bbdthts': 1516, 'dvg': 3012, 'coldheard': 2277, 'vinobanagar': 8852, 'conditionand': 2355, 'ovulatewhen': 6141, '3wks': 584, 'woah': 9172, 'realising': 6823, 'orh': 6096, 'hides': 4124, 'secrets': 7266, 'n8': 5687, 'darlinim': 2607, 'soonxxx': 7675, 'coolmob': 2414, 'frogaxel': 3622, 'akonlonely': 1090, 'eyeddont': 3286, 'cashbincouk': 2027, 'wwwcashbincouk': 9272, 'canteen': 1982, 'stressfull': 7919, 'adds': 996, 'ni8swt': 5792, 'continued': 2395, 'president': 6572, 'é': 9522, '140': 344, 'ardé': 1270, '180': 382, 'leastwhich': 4947, 'bedrm': 1552, 'pleasured': 6407, 'hitechnical': 4143, 'supportproviding': 8037, 'assistance': 1333, '1172': 321, 'built': 1863, 'lonlines': 5102, 'lotz': 5135, 'memories': 5397, 'gailxx': 3667, 'hii': 4129, 'complacent': 2324, 'denis': 2716, 'mina': 5459, 'miwa': 5509, 'hsbc': 4260, 'woulda': 9230, '09066649731from': 269, 'mth': 5634, 'opposite': 6072, 'heavily': 4063, 'dolls': 2900, 'patrick': 6243, 'swayze': 8072, 'santa': 7174, '09077818151': 274, 'calls150ppm': 1953, '30s': 537, 'wwwsantacallingcom': 9295, 'miserable': 5486, 'quarter': 6730, 'nervous': 5762, 'fired': 3437, 'limping': 5023, 'aa': 913, '0784987': 43, '08719180219': 169, '060505': 19, 'oga': 5997, 'poorly': 6471, 'punishment': 6698, 'brb': 1782, 'kill': 4775, 'predicte': 6550, 'situations': 7520, 'loosing': 5114, 'smaller': 7578, 'capacity': 1985, 'videos': 8839, 'smsshsexnetun': 7608, 'fgkslpopw': 3388, 'fgkslpo': 3387, '0871277810710pmin': 120, 'defer': 2689, 'admission': 1003, 'checkmate': 2122, 'chess': 2139, 'persian': 6298, 'phrase': 6340, 'shah': 7358, 'maat': 5223, 'rats': 6794, 'themes': 8280, 'pee': 6267, 'photoshop': 6338, 'manageable': 5275, '08715203652': 133, '42810': 604, '29100': 468, 'shoppin': 7420, 'toopray': 8469, 'inshah': 4460, 'allah': 1114, 'ashley': 1316, 'sthis': 7870, 'increase': 4413, 'wifedont': 9105, 'iti': 4546, 'toolets': 8467, 'north': 5877, 'carolina': 2015, 'texas': 8231, 'gre': 3882, 'bomb': 1707, 'breathing': 1796, 'powerful': 6517, 'weapon': 8994, 'nightswt': 5810, 'dreamstake': 2954, 'lovly': 5156, 'messagethanks': 5429, '150pmsgrcvd': 357, 'customercare': 2555, '08718726270': 154, 'playi': 6397, 'clas': 2212, 'lit': 5052, 'loooooool': 5111, 'couch': 2442, 'celebration': 2060, 'rents': 6942, 'swashbuckling': 8068, '5terror': 695, '6cruel': 735, '7romantic': 776, '8lovable': 881, '9decent': 904, 'joker': 4660, 'dips': 2819, 'gek1510': 3720, 'nuther': 5936, 'lyricalladie21f': 5209, 'yes910': 9379, 'no910': 5837, 'wwwsmsacuhmmross': 9299, 'happiest': 4003, 'characters': 2092, 'differences': 2796, 'lists': 5051, 'tylers': 8621, 'crisis': 2503, 'whenwhere': 9079, 'antibiotic': 1205, 'abdomen': 921, 'gynae': 3952, 'infections': 4430, '6times': 747, 'exposed': 3274, 'chastity': 2105, 'device': 2760, 'beatings': 1537, 'uses': 8759, 'gut': 3944, 'wrenching': 9238, 'tallahassee': 8136, 'ou': 6111, 'taka': 8119, 'pobox202': 6429, 'nr31': 5915, '7zs': 780, '450pw': 620, 'ritten': 7054, 'fold': 3496, 'warner': 8958, '83118': 814, 'colin': 2278, 'farrell': 3336, 'swat': 8069, 'popcornjust': 6475, 'msgticketkioskvalid': 5627, '4712': 624, 'kiosk': 4787, 'mre': 5613, 'solihull': 7638, 'nhs': 5790, 'mistakeu': 5504, 'bornplease': 1729, '2b': 470, 'terminatedwe': 8218, 'inconvenience': 4410, 'dentists': 2720, 'henry': 4095, 'yards': 9354, 'bergkamp': 1593, 'margin': 5298, '78': 765, 'parent': 6201, 'itsnot': 4558, 'childs': 2165, 'parentnot': 6202, 'unintentional': 8684, 'nonetheless': 5864, 'hooch': 4203, 'toaday': 8410, 'splat': 7758, 'grazed': 3881, 'confirmdeny': 2364, 'hearin': 4052, 'yah': 9347, 'torture': 8484, 'hopeing': 4214, 'wasn‘t': 8965, 'sisters': 7512, 'sexychat': 7346, 'lips': 5042, 'startedindia': 7831, 'kkcongratulation': 4801, 'court': 2460, 'chapel': 2088, 'frontierville': 3626, 'mountain': 5598, 'deer': 2685, 'maili': 5257, 'mailed': 5256, 'varma': 8803, 'membershiptake': 5395, 'careinsha': 2002, 'secure': 7270, 'parties': 6217, 'farting': 3337, 'ortxt': 6101, 'select': 7288, 'trained': 8510, 'advisors': 1022, 'dialling': 2772, '402': 591, 'woot': 9190, 'stuffing': 7952, 'ahhhhjust': 1067, 'uphad': 8720, 'thoso': 8325, 'viveki': 8872, '96': 897, 'dado': 2577, 'dining': 2813, 'experiencehttpwwwvouch4mecometlpdiningasp': 3263, 'kaila': 4711, '09058094507': 199, 'donate': 2903, 'unicefs': 8682, 'asian': 1320, 'tsunami': 8575, 'disaster': 2831, 'fund': 3649, '864233': 842, 'cme': 2251, 'hos': 4225, 'collapsed': 2280, 'cumming': 2540, 'jade': 4590, 'paul': 6247, 'barmed': 1485, 'thinkthis': 8314, 'dangerous': 2596, 'goldviking': 3810, '29m': 469, 'yes762': 9378, 'no762': 5834, 'wwwsmsacugoldviking': 9298, 'rushing': 7128, 'coulda': 2447, 'phony': 6335, '1230': 331, 'okday': 6009, 'buz': 1896, 'wedlunch': 9012, 'outsomewhere': 6130, 'adrink': 1011, 'towncud': 8499, '2watershd': 518, 'fromwrk': 3624, 'bthere': 1844, 'petexxx': 6312, 'hmph': 4165, 'baller': 1461, 'punto': 6699, 'ayo': 1418, 'travelled': 8530, '£125': 9475, 'freeentry': 3574, 'xt': 9329, 'toyota': 8502, 'camry': 1967, 'olayiwolas': 6023, 'mileage': 5450, 'kits': 4794, 'landing': 4883, 'clover': 2245, 'numberpls': 5927, 'idconvey': 4342, 'achanammarakheshqatar': 963, 'rencontre': 6934, 'mountains': 5599, '08714712412': 128, 'galsu': 3675, 'nìte': 5951, 'puppy': 6700, 'noise': 5848, 'sarasota': 7180, '150pmeg': 354, '08715203685': 136, 'code4xx26': 2268, '131004': 340, 'crossing': 2508, 'deepest': 2684, 'darkest': 2602, '09094646631': 278, 'nat': 5715, 'inconvenient': 4411, 'vldo': 8874, 'adsense': 1013, 'approved': 1254, 'dudette': 2996, 'perumbavoor': 6307, 'stage': 7811, 'cherish': 2137, 'clarify': 2211, 'preponed': 6564, 'natalie': 5716, '20f': 427, 'yes165': 9375, 'no165': 5831, 'wwwsmsacunatalie2k9': 9301, 'younger': 9419, 'wallpaper': 8937, '08701213186': 75, 'liver': 5058, 'hmmmstill': 4163, 'opener': 6059, 'guides': 3937, 'watched': 8971, 'loneliness': 5098, 'skyving': 7543, 'onwords': 6051, 'mtnl': 5636, 'mumbai': 5651, '83039': 811, '62735£450': 713, 'accommodationvouchers': 953, 'mustprovide': 5672, '15541': 374, 'rajitha': 6772, 'ranju': 6787, '5p': 692, 'styles': 7960, 'tscs08714740323': 8572, '1winawk': 413, '£150perweeksub': 9482, 'dearslp': 2661, 'welltake': 9040, 'careswt': 2006, 'dreamsmuah': 2953, '09066361921': 256, 'disagreeable': 2828, 'afterwards': 1041, 'battle': 1509, 'vivekanand': 8871, 'uawakefeellikw': 8629, 'shitjustfound': 7406, 'aletter': 1102, 'thatmum': 8266, 'gotmarried': 3846, '4thnovbehind': 653, 'ourbacks': 6113, 'fuckinniceselfishdeviousbitchanywayi\\x92l': 3636, 'rearrange': 6832, 'dormitory': 2919, 'astronomer': 1342, 'starer': 7824, 'election': 3088, 'recount': 6867, 'motherinlaw': 5592, 'hitler': 4144, 'eleven': 3092, 'worms': 9213, 'suffering': 7993, 'dysentry': 3015, 'andre': 1173, 'virgils': 8857, 'lorgoin': 5118, 'gokila': 3806, 'shanilrakhesh': 7370, 'herethanksi': 4099, 'exchanged': 3239, 'uncut': 8666, 'diamond': 2774, 'stuffleaving': 7953, 'dino': 2816, 'kkthis': 4807, 'kotees': 4839, 'themobhit': 8282, 'panther': 6184, 'sugababes': 7996, 'zebra': 9452, 'badass': 1447, 'hoody': 4204, 'wallpaperall': 8938, 'resent': 6970, 'queries': 6733, 'customersqueriesnetvisionukcom': 2557, 'hassling': 4019, 'andres': 1174, 'haughaighgtujhyguj': 4023, 'fassyole': 3338, 'blacko': 1652, 'londn': 5096, '4eva': 633, 'responsibilities': 6988, '08715205273': 138, 'vco': 8809, 'humanities': 4289, 'reassurance': 6836, 'aslamalaikkuminsha': 1327, 'tohar': 8426, 'beeen': 1556, 'muht': 5646, 'albi': 1094, 'mufti': 5644, 'mahfuuzmeaning': 5253, '078': 36, 'enufcredeit': 3153, 'tocallshall': 8413, 'ileave': 4365, 'treats': 8538, 'okors': 6016, 'ibored': 4331, 'adding': 993, 'zeros': 9454, 'savings': 7206, 'goigng': 3802, 'perfume': 6288, 'sday': 7251, 'joinedso': 4657, 'grocers': 3900, 'pubs': 6690, 'frankie': 3562, 'bennys': 1592, 'changing': 2086, 'diapers': 2776, 'owed': 6145, 'unlike': 8694, 'patients': 6242, 'turkeys': 8590, 'helens': 4072, 'princes': 6596, 'dawhere': 2625, 'unintentionally': 8685, 'garden': 3687, 'bulbs': 1864, 'seeds': 7274, '£3350': 9496, 'scotsman': 7236, 'go2': 3787, 'notxtcouk': 5895, 'wenever': 9045, 'familymay': 3324, 'stability': 7806, 'tranquility': 8515, 'vibrant': 8828, 'colourful': 2291, 'bawling': 1510, 'failure': 3306, 'failing': 3304, 'velusamy': 8817, 'sirs': 7508, 'facilities': 3296, 'karnan': 4729, 'bluray': 1694, 'i‘ve': 4579, 'salt': 7163, 'wounds': 9232, 'logging': 5084, 'geoenvironmental': 3732, 'implications': 4385, 'gently': 3729, 'fuuuuck': 3659, 'salmon': 7161, 'uploaded': 8722, 'wrkin': 9244, 'ree': 6877, 'compensation': 2322, 'awkward': 1411, 'splash': 7756, 'leg': 4956, 'musta': 5670, 'overdid': 6135, 'wwwtelediscountcouk': 9304, 'hiwhat': 4149, 'gastroenteritis': 3692, 'replace': 6948, 'reduce': 6876, 'limiting': 5021, 'illness': 4367, 'foned': 3507, 'chuck': 2195, 'nightswe': 5809, 'port': 6480, 'step': 7859, 'liaotoo': 4986, 'stuffs': 7954, 'juswoke': 4701, 'boatin': 1698, 'docks': 2870, 'spinout': 7749, 'remet': 6925, '08715203656': 134, '42049': 601, '261004': 455, 'uworld': 8781, 'qbank': 6724, 'assessment': 1331, 'someonone': 7647, '09064015307': 238, 'tke': 8397, 'temales': 8206, 'vidnot': 8842, 'finishd': 3430, '09061213237': 214, '177': 380, 'm227xy': 5213, 'dull': 2999, 'studies': 7944, 'anyones': 1211, 'treadmill': 8533, 'craigslist': 2475, 'absolutely': 934, 'drmstake': 2971, 'swan': 8065, 'moyep': 5609, 'sall': 7160, 'hehe': 4068, 'shexy': 7389, 'teethif': 8191, 'asapok': 1313, 'hellohow': 4079, 'doingwhat': 2892, '2when': 520, 'lamp': 4880, 'latebut': 4908, 'kwish': 4850, 'foward': 3554, '09061790126': 230, 'misundrstud': 5505, '2u2': 516, 'genes': 3724, 'wwwldewcom1win150ppmx3age16subscription': 9285, 'resuming': 7005, 'reapply': 6831, 'treatin': 8537, 'treacle': 8532, 'mumhas': 5652, 'beendropping': 1558, 'theplace': 8288, 'adress': 1009, 'moneyi': 5561, 'favorite': 3355, 'oyster': 6153, 'sashimi': 7186, 'rumbling': 7119, 'marandratha': 5294, 'topic': 8474, 'correctly': 2429, 'sirsalam': 7509, 'alaikkumpride': 1092, 'shopwe': 7423, 'qatarrakhesh': 6723, 'indianpls': 4422, 'numberrespectful': 5928, 'galcan': 3671, 'boyy': 1769, 'galno': 3673, 'heaven': 4062, 'princegn': 6595, 'pisces': 6368, 'aquarius': 1263, '2yrs': 526, 'steyn': 7868, 'wicket': 9099, 'sterm': 7864, 'resolved': 6980, 'eggs': 3070, 'jam': 4592, 'hannaford': 3994, 'wheat': 9072, 'chex': 2141, 'pride': 6591, 'grownup': 3910, 'stuffwhy': 7955, 'costume': 2438, 'jerk': 4628, 'stink': 7877, 'textcomp': 8238, 'follows': 3503, 'subsequent': 7980, 'charged150pmsg2': 2095, '84128custcare': 828, 'openings': 6062, 'upcharge': 8712, '8hr': 879, 'guai': 3920, 'bottle': 1736, 'amused': 1164, 'astrology': 1341, 'ryans': 7131, 'program': 6640, 'slacking': 7545, 'officestill': 5985, 'formsdon': 3541, 'mentor': 5406, 'percent': 6281, '09095350301': 280, 'erotic': 3164, 'ecstacy': 3044, 'dept': 2730, '13404': 342, '08717507382': 144, 'datingi': 2618, 'coincidence': 2273, 'sane': 7171, 'helping': 4089, 'leading': 4938, '151': 371, 'pause': 6248, 'gr8prizes': 3859, '8800': 854, 'psp': 6678, 'wktxt': 9163, 'httpwwwgr8prizescom': 4272, 'spacebucks': 7710, 'weathers': 9000, '02070836089': 10, 'squeezed': 7795, 'meremove': 5413, 'maintaining': 5261, '5i\\x92m': 688, 'dreading': 2949, 'thou': 8327, 'suggestion': 8001, 'lands': 4888, 'helps': 4091, 'forgt': 3534, 'ajith': 1087, 'ooooooh': 6055, 'yoville': 9433, 'mega': 5380, 'asda': 1314, 'counts': 2454, 'officer': 5984, 'respectful': 6983, 'bffs': 1610, 'carly': 2014, 'someonethat': 7646, 'seperated鈥┾〨ud': 7319, 'brolly': 1822, 'franxx': 3563, 'welli': 9039, 'prometazine': 6646, 'syrup': 8099, '5mls': 691, 'feed': 3366, 'shu': 7455, 'singapore': 7497, 'victoria': 8832, 'island': 4528, 'pocay': 6437, 'wocay': 9173, '2morrowxxxx': 496, 'broth': 1824, 'ramen': 6778, 'fowler': 3555, 'ksry': 4842, 'sivatats': 7522, 'flew': 3466, '09058094583': 201, '1526': 372, 'pubcafe': 6687, 'attention': 1361, 'tix': 8395, 'biolas': 1632, 'fne': 3494, 'youdoing': 9410, 'worc': 9193, 'foregate': 3522, 'shrub': 7454, 'get4an18th': 3738, '32000': 544, 'legitimat': 4958, 'efreefone': 3063, 'shopthe': 7422, 'receipts': 6846, 'pendent': 6273, 'toilet': 8427, 'stolen': 7882, 'cops': 2420, 'hu': 4275, 'navigate': 5728, 'choosing': 2184, 'require': 6963, 'guidance': 3935, 'chick': 2147, 'boobs': 1712, 'revealing': 7016, 'sparkling': 7719, 'breaks': 1791, '45': 616, '0121': 3, '2025050': 426, 'wwwshortbreaksorguk': 9296, 'gyno': 3953, 'belong': 1582, 'wwwgambtv': 9280, 'treasure': 8534, 'wmlid820554ad0a1705572711firsttrue¡c': 9167, 'ringtone¡': 7046, '09050000332': 180, 'mummys': 5654, 'positive': 6489, 'negative': 5754, 'hmmmm': 4162, 'dhoni': 2768, 'titleso': 8393, 'command': 2310, 'stressful': 7918, 'holby': 4174, '09064017295': 239, 'li': 4983, 'lecturer': 4953, 'repeating': 6946, 'yeovil': 9371, 'motor': 5596, 'max': 5339, 'rhode': 7025, 'bong': 1709, 'ofcourse': 5973, '2p': 508, '08448350055': 66, 'planettalkinstantcom': 6386, 'loti': 5127, 'marvel': 5310, 'ultimate': 8647, 'spiderman': 7745, 'spider': 7744, '83338': 817, '8ball': 878, 'tamilnaduthen': 8138, 'tip': 8382, '07808247860': 39, '08719899229': 176, '40411': 593, '061104': 20, 'apo': 1229, 'identification': 4346, 'limit': 5019, 'boundaries': 1740, 'endless': 3119, 'reassuring': 6837, 'lorwe': 5119, 'young': 9418, 'referin': 6883, 'meis': 5384, 'liaoso': 4985, 'saibaba': 7149, 'colany': 2275, 'chic': 2146, 'declare': 2677, '49557': 628, '261104': 456, 'disappointment': 2830, 'irritation': 4521, 'tantrums': 8141, 'compliments': 2336, 'adventuring': 1018, 'chief': 2150, 'gsex': 3916, '2667': 457, 'wc1n': 8989, '3xx': 585, '3mobile': 573, 'chatlines': 2109, 'inclu': 4403, 'servs': 7331, 'l8er': 4855, 'bailiff': 1455, 'mouse': 5600, 'desk': 2741, 'childporn': 2163, 'jumpers': 4692, 'hat': 4020, 'belt': 1586, 'cribbs': 2498, 'spiritual': 7752, 'barring': 1489, 'sudden': 7988, 'influx': 4432, 'kane': 4721, 'shud': 7456, 'pshewmissing': 6677, 'units': 8689, 'accent': 944, '4years': 662, 'dental': 2718, 'nmde': 5829, 'dump': 3001, 'heap': 4049, 'lowes': 5160, 'salesman': 7158, '£750': 9515, '087187272008': 159, 'now1': 5899, 'pity': 6371, 'soany': 7626, 'suggestions': 8002, 'bitching': 1643}\n"
     ]
    }
   ],
   "source": [
    "print('Words indices:', cv.vocabulary_)"
   ]
  },
  {
   "cell_type": "code",
   "execution_count": 16,
   "metadata": {},
   "outputs": [
    {
     "data": {
      "text/plain": [
       "9530"
      ]
     },
     "execution_count": 16,
     "metadata": {},
     "output_type": "execute_result"
    }
   ],
   "source": [
    "len(cv.vocabulary_)"
   ]
  },
  {
   "cell_type": "code",
   "execution_count": 17,
   "metadata": {},
   "outputs": [
    {
     "data": {
      "text/plain": [
       "['0',\n",
       " '008704050406',\n",
       " '0089my',\n",
       " '0121',\n",
       " '01223585236',\n",
       " '01223585334',\n",
       " '0125698789',\n",
       " '02',\n",
       " '020603',\n",
       " '0207',\n",
       " '02070836089',\n",
       " '02072069400',\n",
       " '02073162414',\n",
       " '02085076972',\n",
       " '020903',\n",
       " '021',\n",
       " '050703',\n",
       " '0578',\n",
       " '06',\n",
       " '060505',\n",
       " '061104',\n",
       " '07008009200',\n",
       " '07046744435',\n",
       " '07090201529',\n",
       " '07090298926',\n",
       " '07099833605',\n",
       " '071104',\n",
       " '07123456789',\n",
       " '0721072',\n",
       " '07732584351',\n",
       " '07734396839',\n",
       " '07742676969',\n",
       " '07753741225',\n",
       " '0776xxxxxxx',\n",
       " '07786200117',\n",
       " '077xxx',\n",
       " '078',\n",
       " '07801543489',\n",
       " '07808',\n",
       " '07808247860',\n",
       " '07808726822',\n",
       " '07815296484',\n",
       " '07821230901',\n",
       " '0784987',\n",
       " '0789xxxxxxx',\n",
       " '0794674629107880867867',\n",
       " '0796xxxxxx',\n",
       " '07973788240',\n",
       " '07xxxxxxxxx',\n",
       " '0800',\n",
       " '08000407165',\n",
       " '08000776320',\n",
       " '08000839402',\n",
       " '08000930705',\n",
       " '08000938767',\n",
       " '08001950382',\n",
       " '08002888812',\n",
       " '08002986030',\n",
       " '08002986906',\n",
       " '08002988890',\n",
       " '08006344447',\n",
       " '0808',\n",
       " '08081263000',\n",
       " '08081560665',\n",
       " '0825',\n",
       " '0844',\n",
       " '08448350055',\n",
       " '08448714184',\n",
       " '0845',\n",
       " '08450542832',\n",
       " '08452810071',\n",
       " '08452810073',\n",
       " '08452810075over18s',\n",
       " '0870',\n",
       " '08700621170150p',\n",
       " '08701213186',\n",
       " '08701237397',\n",
       " '08701417012',\n",
       " '08701417012150p',\n",
       " '0870141701216',\n",
       " '087016248',\n",
       " '08701752560',\n",
       " '087018728737',\n",
       " '0870241182716',\n",
       " '08702490080',\n",
       " '08702840625',\n",
       " '08702840625comuk',\n",
       " '08704439680',\n",
       " '08704439680tscs',\n",
       " '08706091795',\n",
       " '0870737910216yrs',\n",
       " '08707500020',\n",
       " '08707509020',\n",
       " '0870753331018',\n",
       " '08707808226',\n",
       " '08708034412',\n",
       " '08708800282',\n",
       " '08709222922',\n",
       " '08709501522',\n",
       " '0870k',\n",
       " '087104711148',\n",
       " '08712101358',\n",
       " '08712103738',\n",
       " '0871212025016',\n",
       " '08712300220',\n",
       " '087123002209am7pm',\n",
       " '08712317606',\n",
       " '08712400200',\n",
       " '08712400603',\n",
       " '08712402050',\n",
       " '08712402578',\n",
       " '08712402779',\n",
       " '08712402902',\n",
       " '08712402972',\n",
       " '08712404000',\n",
       " '08712405020',\n",
       " '08712405022',\n",
       " '08712460324',\n",
       " '08712460324nat',\n",
       " '08712466669',\n",
       " '0871277810710pmin',\n",
       " '0871277810810',\n",
       " '0871277810910pmin',\n",
       " '087143423992stop',\n",
       " '087147123779am7pm',\n",
       " '08714712379',\n",
       " '08714712388',\n",
       " '08714712394',\n",
       " '08714712412',\n",
       " '08714714011',\n",
       " '08714719523',\n",
       " '08715203028',\n",
       " '08715203649',\n",
       " '08715203652',\n",
       " '08715203656',\n",
       " '08715203677',\n",
       " '08715203685',\n",
       " '08715203694',\n",
       " '08715205273',\n",
       " '08715500022',\n",
       " '08715705022',\n",
       " '08717111821',\n",
       " '08717168528',\n",
       " '08717205546',\n",
       " '08717507382',\n",
       " '08717507711',\n",
       " '08717509990',\n",
       " '08717890890£150',\n",
       " '08717895698',\n",
       " '08717898035',\n",
       " '08718711108',\n",
       " '08718720201',\n",
       " '08718723815',\n",
       " '08718725756',\n",
       " '08718726270',\n",
       " '08718726270150gbpmtmsg18',\n",
       " '08718726970',\n",
       " '08718726971',\n",
       " '08718726978',\n",
       " '087187272008',\n",
       " '08718727868',\n",
       " '08718727870',\n",
       " '08718729755',\n",
       " '08718729758',\n",
       " '08718730555',\n",
       " '08718730666',\n",
       " '08718738001',\n",
       " '08718738002',\n",
       " '08718738034',\n",
       " '08719180219',\n",
       " '08719180248',\n",
       " '08719181259',\n",
       " '08719181503',\n",
       " '08719181513',\n",
       " '08719839835',\n",
       " '08719899217',\n",
       " '08719899229',\n",
       " '08719899230',\n",
       " '09041940223',\n",
       " '09050000301',\n",
       " '09050000332',\n",
       " '09050000460',\n",
       " '09050000555',\n",
       " '09050000878',\n",
       " '09050000928',\n",
       " '09050001295',\n",
       " '09050001808',\n",
       " '09050002311',\n",
       " '09050003091',\n",
       " '09050005321',\n",
       " '09050090044',\n",
       " '09050280520',\n",
       " '09053750005',\n",
       " '09056242159',\n",
       " '09057039994',\n",
       " '09058091854',\n",
       " '09058091870',\n",
       " '09058094454',\n",
       " '09058094455',\n",
       " '09058094507',\n",
       " '09058094565',\n",
       " '09058094583',\n",
       " '09058094594',\n",
       " '09058094597',\n",
       " '09058094599',\n",
       " '09058095107',\n",
       " '09058095201',\n",
       " '09058097189',\n",
       " '09058097218',\n",
       " '09058098002',\n",
       " '09058099801',\n",
       " '09061104276',\n",
       " '09061104283',\n",
       " '09061209465',\n",
       " '09061213237',\n",
       " '09061221061',\n",
       " '09061221066',\n",
       " '09061701444',\n",
       " '09061701461',\n",
       " '09061701851',\n",
       " '09061701939',\n",
       " '09061702893',\n",
       " '09061743386',\n",
       " '09061743806',\n",
       " '09061743810',\n",
       " '09061743811',\n",
       " '09061744553',\n",
       " '09061749602',\n",
       " '09061790121',\n",
       " '09061790125',\n",
       " '09061790126',\n",
       " '09063440451',\n",
       " '09063442151',\n",
       " '09063458130',\n",
       " '0906346330',\n",
       " '09064011000',\n",
       " '09064012103',\n",
       " '09064012160',\n",
       " '09064015307',\n",
       " '09064017295',\n",
       " '09064017305',\n",
       " '09064018838',\n",
       " '09064019014',\n",
       " '09064019788',\n",
       " '09065069120',\n",
       " '09065069154',\n",
       " '09065171142stopsms08',\n",
       " '09065171142stopsms08718727870150ppm',\n",
       " '09065174042',\n",
       " '09065394514',\n",
       " '09065394973',\n",
       " '09065989180',\n",
       " '09065989182',\n",
       " '09066350750',\n",
       " '09066358152',\n",
       " '09066358361',\n",
       " '09066361921',\n",
       " '09066362206',\n",
       " '09066362220',\n",
       " '09066362231',\n",
       " '09066364311',\n",
       " '09066364349',\n",
       " '09066364589',\n",
       " '09066368327',\n",
       " '09066368470',\n",
       " '09066368753',\n",
       " '09066380611',\n",
       " '09066382422',\n",
       " '09066612661',\n",
       " '09066649731from',\n",
       " '09066660100',\n",
       " '09071512432',\n",
       " '09071512433',\n",
       " '09071517866',\n",
       " '09077818151',\n",
       " '09090204448',\n",
       " '09090900040',\n",
       " '09094100151',\n",
       " '09094646631',\n",
       " '09094646899',\n",
       " '09095350301',\n",
       " '09096102316',\n",
       " '09099725823',\n",
       " '09099726395',\n",
       " '09099726429',\n",
       " '09099726481',\n",
       " '09099726553',\n",
       " '09111030116',\n",
       " '09111032124',\n",
       " '09701213186',\n",
       " '0anetworks',\n",
       " '1',\n",
       " '10',\n",
       " '100',\n",
       " '1000',\n",
       " '10000',\n",
       " '1000s',\n",
       " '100603',\n",
       " '100psms',\n",
       " '100s',\n",
       " '1010',\n",
       " '1013',\n",
       " '101mega',\n",
       " '1030',\n",
       " '10803',\n",
       " '10am',\n",
       " '10am7pm',\n",
       " '10am9pm',\n",
       " '10k',\n",
       " '10p',\n",
       " '10pmin',\n",
       " '10ppm',\n",
       " '10th',\n",
       " '11',\n",
       " '1120',\n",
       " '113',\n",
       " '1131',\n",
       " '11414',\n",
       " '1146',\n",
       " '1148',\n",
       " '116',\n",
       " '1172',\n",
       " '118pmsg',\n",
       " '11mths',\n",
       " '12',\n",
       " '120',\n",
       " '12000pes',\n",
       " '1205',\n",
       " '121',\n",
       " '1225',\n",
       " '123',\n",
       " '1230',\n",
       " '125gift',\n",
       " '128',\n",
       " '12hours',\n",
       " '12hrs',\n",
       " '12mths',\n",
       " '12price',\n",
       " '13',\n",
       " '130',\n",
       " '131004',\n",
       " '1327',\n",
       " '13404',\n",
       " '139',\n",
       " '140',\n",
       " '1405',\n",
       " '140ppm',\n",
       " '145',\n",
       " '146tf150p',\n",
       " '14thmarch',\n",
       " '150',\n",
       " '150p',\n",
       " '150pday',\n",
       " '150pm',\n",
       " '150pmeg',\n",
       " '150pmin',\n",
       " '150pmsg',\n",
       " '150pmsgrcvd',\n",
       " '150pmsgrcvdhgsuite3422landsroww1j6hl',\n",
       " '150pmt',\n",
       " '150pmtmsg',\n",
       " '150pmtmsgrcvd18',\n",
       " '150ppermesssubscription',\n",
       " '150ppm',\n",
       " '150ppmpobox10183bhamb64xe',\n",
       " '150ppmsg',\n",
       " '150prcvd',\n",
       " '150psms',\n",
       " '150ptext',\n",
       " '150ptone',\n",
       " '150pwk',\n",
       " '151',\n",
       " '1526',\n",
       " '153',\n",
       " '15541',\n",
       " '15pmin',\n",
       " '16',\n",
       " '1680',\n",
       " '169',\n",
       " '16only',\n",
       " '177',\n",
       " '18',\n",
       " '180',\n",
       " '181104',\n",
       " '1843',\n",
       " '186£150morefrmmob',\n",
       " '18only',\n",
       " '18ptxt',\n",
       " '18yrs',\n",
       " '195',\n",
       " '1956669',\n",
       " '1appledayno',\n",
       " '1childish',\n",
       " '1cup',\n",
       " '1da',\n",
       " '1er',\n",
       " '1hanuman',\n",
       " '1his',\n",
       " '1hr',\n",
       " '1im',\n",
       " '1lemondayno',\n",
       " '1mcflyall',\n",
       " '1month',\n",
       " '1pm',\n",
       " '1s',\n",
       " '1st',\n",
       " '1st4terms',\n",
       " '1stchoicecouk',\n",
       " '1stone',\n",
       " '1tulsi',\n",
       " '1u',\n",
       " '1unbreakable',\n",
       " '1winaweek',\n",
       " '1winawk',\n",
       " '1x150pwk',\n",
       " '1yf',\n",
       " '2',\n",
       " '20',\n",
       " '200',\n",
       " '2000',\n",
       " '20000',\n",
       " '2003',\n",
       " '2004',\n",
       " '2005',\n",
       " '2006',\n",
       " '2007',\n",
       " '2025050',\n",
       " '20f',\n",
       " '20m12aq',\n",
       " '20p',\n",
       " '20pmin',\n",
       " '21',\n",
       " '211104',\n",
       " '215',\n",
       " '21870000hi',\n",
       " '21m',\n",
       " '21st',\n",
       " '22',\n",
       " '220cm2',\n",
       " '23',\n",
       " '2309',\n",
       " '230ish',\n",
       " '24',\n",
       " '241',\n",
       " '241004',\n",
       " '247mp',\n",
       " '24hrs',\n",
       " '24m',\n",
       " '24th',\n",
       " '25',\n",
       " '250',\n",
       " '255',\n",
       " '25f',\n",
       " '25p',\n",
       " '260305',\n",
       " '261004',\n",
       " '261104',\n",
       " '2667',\n",
       " '26th',\n",
       " '2703',\n",
       " '27603',\n",
       " '28',\n",
       " '2814032',\n",
       " '285',\n",
       " '28days',\n",
       " '28th',\n",
       " '28thfebtcs',\n",
       " '290305',\n",
       " '29100',\n",
       " '29m',\n",
       " '2b',\n",
       " '2bajarangabali',\n",
       " '2bold',\n",
       " '2c',\n",
       " '2channel',\n",
       " '2day',\n",
       " '2daylove',\n",
       " '2docdplease',\n",
       " '2end',\n",
       " '2exit',\n",
       " '2ez',\n",
       " '2getha',\n",
       " '2geva',\n",
       " '2go',\n",
       " '2godid',\n",
       " '2gthr',\n",
       " '2hook',\n",
       " '2hrs',\n",
       " '2i',\n",
       " '2im',\n",
       " '2kbsubject',\n",
       " '2marrow',\n",
       " '2moro',\n",
       " '2morow',\n",
       " '2morro',\n",
       " '2morrow',\n",
       " '2morrowxxxx',\n",
       " '2mro',\n",
       " '2mrw',\n",
       " '2mwen',\n",
       " '2naughty',\n",
       " '2nd',\n",
       " '2nhite',\n",
       " '2nights',\n",
       " '2nite',\n",
       " '2nitetell',\n",
       " '2optout',\n",
       " '2optoutd3wv',\n",
       " '2p',\n",
       " '2police',\n",
       " '2px',\n",
       " '2rcv',\n",
       " '2stop',\n",
       " '2stoptx',\n",
       " '2stoptxt',\n",
       " '2u',\n",
       " '2u2',\n",
       " '2untamed',\n",
       " '2watershd',\n",
       " '2waxsto',\n",
       " '2when',\n",
       " '2wks',\n",
       " '2wt',\n",
       " '2wu',\n",
       " '2years',\n",
       " '2yr',\n",
       " '2yrs',\n",
       " '3',\n",
       " '30',\n",
       " '300',\n",
       " '3000',\n",
       " '300603',\n",
       " '300603tcsbcm4235wc1n3xxcallcost150ppmmobilesvary',\n",
       " '300p',\n",
       " '3030',\n",
       " '30apr',\n",
       " '30pptxt',\n",
       " '30s',\n",
       " '30th',\n",
       " '31',\n",
       " '3100',\n",
       " '310303',\n",
       " '311004',\n",
       " '31pmsg150p',\n",
       " '32000',\n",
       " '3230',\n",
       " '32323',\n",
       " '326',\n",
       " '32f',\n",
       " '330',\n",
       " '350',\n",
       " '3510i',\n",
       " '35p',\n",
       " '3650',\n",
       " '36504',\n",
       " '3680',\n",
       " '3680offer',\n",
       " '373',\n",
       " '3750',\n",
       " '391784',\n",
       " '3aj',\n",
       " '3cover',\n",
       " '3d',\n",
       " '3days',\n",
       " '3db',\n",
       " '3g',\n",
       " '3gbp',\n",
       " '3hrs',\n",
       " '3lions',\n",
       " '3lp',\n",
       " '3maruti',\n",
       " '3miles',\n",
       " '3mins',\n",
       " '3mobile',\n",
       " '3optical',\n",
       " '3pound',\n",
       " '3qxj9',\n",
       " '3rd',\n",
       " '3sentiment',\n",
       " '3ss',\n",
       " '3u',\n",
       " '3unkempt',\n",
       " '3uz',\n",
       " '3wife',\n",
       " '3wks',\n",
       " '3xx',\n",
       " '3x£150pw',\n",
       " '4',\n",
       " '40',\n",
       " '400',\n",
       " '400minscall',\n",
       " '402',\n",
       " '4041',\n",
       " '40411',\n",
       " '40533',\n",
       " '40gb',\n",
       " '40mph',\n",
       " '415',\n",
       " '41685',\n",
       " '41782',\n",
       " '420',\n",
       " '42049',\n",
       " '4217',\n",
       " '42478',\n",
       " '42810',\n",
       " '430',\n",
       " '434',\n",
       " '44',\n",
       " '4403ldnw1a7rw18',\n",
       " '447797706009',\n",
       " '447801259231',\n",
       " '447per',\n",
       " '448712404000please',\n",
       " '449050000301',\n",
       " '449071512431',\n",
       " '449month',\n",
       " '45',\n",
       " '450',\n",
       " '450p',\n",
       " '450ppw',\n",
       " '450pw',\n",
       " '45239',\n",
       " '46',\n",
       " '47',\n",
       " '4712',\n",
       " '4742',\n",
       " '4882',\n",
       " '48922',\n",
       " '49557',\n",
       " '4a',\n",
       " '4brekkie',\n",
       " '4cook',\n",
       " '4d',\n",
       " '4eva',\n",
       " '4few',\n",
       " '4fil',\n",
       " '4get',\n",
       " '4give',\n",
       " '4got',\n",
       " '4goten',\n",
       " '4info',\n",
       " '4jx',\n",
       " '4lux',\n",
       " '4mths',\n",
       " '4my',\n",
       " '4o',\n",
       " '4pavanaputra',\n",
       " '4press',\n",
       " '4rowdy',\n",
       " '4some1',\n",
       " '4tctxt',\n",
       " '4th',\n",
       " '4the',\n",
       " '4thnovbehind',\n",
       " '4txt120p',\n",
       " '4txtú120',\n",
       " '4u',\n",
       " '4ui',\n",
       " '4utxt',\n",
       " '4w',\n",
       " '4ward',\n",
       " '4wrd',\n",
       " '4years',\n",
       " '5',\n",
       " '50',\n",
       " '500',\n",
       " '5000',\n",
       " '505060',\n",
       " '50p',\n",
       " '50s',\n",
       " '515',\n",
       " '515pm',\n",
       " '5226',\n",
       " '5249',\n",
       " '526',\n",
       " '528',\n",
       " '530',\n",
       " '532',\n",
       " '54',\n",
       " '542',\n",
       " '545',\n",
       " '5903',\n",
       " '5digital',\n",
       " '5free',\n",
       " '5ful',\n",
       " '5gardener',\n",
       " '5gently',\n",
       " '5ish',\n",
       " '5i\\x92m',\n",
       " '5k',\n",
       " '5min',\n",
       " '5mls',\n",
       " '5p',\n",
       " '5pm',\n",
       " '5sankatmochan',\n",
       " '5terror',\n",
       " '5th',\n",
       " '5wb',\n",
       " '5we',\n",
       " '5wkg',\n",
       " '5wq',\n",
       " '5years',\n",
       " '6',\n",
       " '600',\n",
       " '6031',\n",
       " '60400thousadi',\n",
       " '60p',\n",
       " '60pmin',\n",
       " '61200',\n",
       " '61610',\n",
       " '62220cncl',\n",
       " '6230',\n",
       " '62468',\n",
       " '62735£450',\n",
       " '630',\n",
       " '63miles',\n",
       " '645',\n",
       " '645pm',\n",
       " '650',\n",
       " '6669',\n",
       " '67441233',\n",
       " '68866',\n",
       " '69101',\n",
       " '69200',\n",
       " '69669',\n",
       " '69696',\n",
       " '69698',\n",
       " '69855',\n",
       " '6986618',\n",
       " '69876',\n",
       " '69888',\n",
       " '69888nyt',\n",
       " '69911£150p',\n",
       " '69969',\n",
       " '69988',\n",
       " '6cruel',\n",
       " '6days',\n",
       " '6hl',\n",
       " '6housemaid',\n",
       " '6hrs',\n",
       " '6ish',\n",
       " '6missed',\n",
       " '6months',\n",
       " '6pm',\n",
       " '6ramaduth',\n",
       " '6romantic',\n",
       " '6th',\n",
       " '6times',\n",
       " '6wu',\n",
       " '6zf',\n",
       " '7',\n",
       " '700',\n",
       " '725',\n",
       " '7250',\n",
       " '7250i',\n",
       " '730',\n",
       " '730ish',\n",
       " '730pm',\n",
       " '731',\n",
       " '74355',\n",
       " '750',\n",
       " '7548',\n",
       " '7634',\n",
       " '7684',\n",
       " '7732584351',\n",
       " '78',\n",
       " '786',\n",
       " '7876150ppm',\n",
       " '78pmin',\n",
       " '7am',\n",
       " '7cfca1a',\n",
       " '7children',\n",
       " '7ish',\n",
       " '7mahaveer',\n",
       " '7oz',\n",
       " '7pm',\n",
       " '7romantic',\n",
       " '7shy',\n",
       " '7th',\n",
       " '7ws',\n",
       " '7zs',\n",
       " '8',\n",
       " '800',\n",
       " '8000930705',\n",
       " '80062',\n",
       " '8007',\n",
       " '80082',\n",
       " '80086',\n",
       " '80122300pwk',\n",
       " '80155',\n",
       " '80160',\n",
       " '80182',\n",
       " '8027',\n",
       " '80488',\n",
       " '80488biz',\n",
       " '80608',\n",
       " '8077',\n",
       " '80878',\n",
       " '80s',\n",
       " '81010',\n",
       " '81151',\n",
       " '81303',\n",
       " '81618',\n",
       " '816183',\n",
       " '82242',\n",
       " '82277',\n",
       " '82277unsub',\n",
       " '82324',\n",
       " '82468',\n",
       " '830',\n",
       " '83021',\n",
       " '83039',\n",
       " '83049',\n",
       " '83110',\n",
       " '83118',\n",
       " '83222',\n",
       " '83332please',\n",
       " '83338',\n",
       " '83355',\n",
       " '83370',\n",
       " '83383',\n",
       " '83435',\n",
       " '83600',\n",
       " '83738',\n",
       " '84',\n",
       " '84025',\n",
       " '84122',\n",
       " '84128',\n",
       " '84128custcare',\n",
       " '84199',\n",
       " '84484',\n",
       " '85',\n",
       " '850',\n",
       " '85023',\n",
       " '85069',\n",
       " '85222',\n",
       " '85233',\n",
       " '8552',\n",
       " '85555',\n",
       " '86021',\n",
       " '861',\n",
       " '863',\n",
       " '864233',\n",
       " '86688',\n",
       " '86888',\n",
       " '87021',\n",
       " '87066',\n",
       " '87070',\n",
       " '87077',\n",
       " '87121',\n",
       " '87131',\n",
       " '8714714',\n",
       " '87239',\n",
       " '87575',\n",
       " '8800',\n",
       " '88039',\n",
       " '88039skilgmetscs087147403231winawkage16£150perwksub',\n",
       " '88066',\n",
       " '88088',\n",
       " '88222',\n",
       " '8830',\n",
       " '88600',\n",
       " '88800',\n",
       " '8883',\n",
       " '88877',\n",
       " '88877free',\n",
       " '88888',\n",
       " '89034',\n",
       " '89070',\n",
       " '89080',\n",
       " '89105',\n",
       " '89123',\n",
       " '89545',\n",
       " '89555',\n",
       " '89693',\n",
       " '89938',\n",
       " '8am',\n",
       " '8attractive',\n",
       " '8ball',\n",
       " '8hr',\n",
       " '8lb',\n",
       " '8lovable',\n",
       " '8neighbour',\n",
       " '8o',\n",
       " '8pm',\n",
       " '8th',\n",
       " '8wp',\n",
       " '9',\n",
       " '900',\n",
       " '9061100010',\n",
       " '9153',\n",
       " '924',\n",
       " '92h',\n",
       " '930',\n",
       " '945',\n",
       " '946',\n",
       " '95pax',\n",
       " '96',\n",
       " '97n7qp',\n",
       " '98321561',\n",
       " '9996',\n",
       " '9ae',\n",
       " '9am',\n",
       " '9am11pm',\n",
       " '9decent',\n",
       " '9funny',\n",
       " '9ja',\n",
       " '9pm',\n",
       " '9t',\n",
       " '9th',\n",
       " '9yt',\n",
       " 'a21',\n",
       " 'a30',\n",
       " 'aa',\n",
       " 'aah',\n",
       " 'aaniye',\n",
       " 'aaooooright',\n",
       " 'aathilove',\n",
       " 'aathiwhere',\n",
       " 'ab',\n",
       " 'abbey',\n",
       " 'abdomen',\n",
       " 'abeg',\n",
       " 'abelu',\n",
       " 'aberdeen',\n",
       " 'abi',\n",
       " 'ability',\n",
       " 'abiola',\n",
       " 'abj',\n",
       " 'able',\n",
       " 'abnormally',\n",
       " 'aboutas',\n",
       " 'abroad',\n",
       " 'absence',\n",
       " 'absolutely',\n",
       " 'abstract',\n",
       " 'abt',\n",
       " 'abta',\n",
       " 'aburo',\n",
       " 'abuse',\n",
       " 'abusers',\n",
       " 'ac',\n",
       " 'academic',\n",
       " 'acc',\n",
       " 'accent',\n",
       " 'accenture',\n",
       " 'accept',\n",
       " 'access',\n",
       " 'accessible',\n",
       " 'accidant',\n",
       " 'accident',\n",
       " 'accidentally',\n",
       " 'accommodation',\n",
       " 'accommodationvouchers',\n",
       " 'accomodate',\n",
       " 'accomodations',\n",
       " 'accordin',\n",
       " 'accordingly',\n",
       " 'accordinglyor',\n",
       " 'account',\n",
       " 'accounting',\n",
       " 'accounts',\n",
       " 'accumulation',\n",
       " 'achanammarakheshqatar',\n",
       " 'ache',\n",
       " 'achieve',\n",
       " 'acid',\n",
       " 'acknowledgement',\n",
       " 'acl03530150pm',\n",
       " 'acnt',\n",
       " 'acoentry41',\n",
       " 'across',\n",
       " 'acsmsrewards',\n",
       " 'act',\n",
       " 'acted',\n",
       " 'actin',\n",
       " 'acting',\n",
       " 'action',\n",
       " 'activ8',\n",
       " 'activate',\n",
       " 'active',\n",
       " 'activities',\n",
       " 'actor',\n",
       " 'actual',\n",
       " 'actually',\n",
       " 'acwicmb3cktz8r74',\n",
       " 'ad',\n",
       " 'adam',\n",
       " 'add',\n",
       " 'addamsfa',\n",
       " 'added',\n",
       " 'addicted',\n",
       " 'addie',\n",
       " 'adding',\n",
       " 'address',\n",
       " 'addressull',\n",
       " 'adds',\n",
       " 'adewale',\n",
       " 'adi',\n",
       " 'adjustable',\n",
       " ...]"
      ]
     },
     "execution_count": 17,
     "metadata": {},
     "output_type": "execute_result"
    }
   ],
   "source": [
    "cv.get_feature_names()"
   ]
  },
  {
   "cell_type": "code",
   "execution_count": 18,
   "metadata": {},
   "outputs": [
    {
     "data": {
      "text/plain": [
       "<5572x9530 sparse matrix of type '<class 'numpy.int64'>'\n",
       "\twith 50101 stored elements in Compressed Sparse Row format>"
      ]
     },
     "execution_count": 18,
     "metadata": {},
     "output_type": "execute_result"
    }
   ],
   "source": [
    "bow_cv = cv.transform(sms['message'])\n",
    "bow_cv"
   ]
  },
  {
   "cell_type": "code",
   "execution_count": 19,
   "metadata": {},
   "outputs": [
    {
     "data": {
      "text/plain": [
       "(5572, 9530)"
      ]
     },
     "execution_count": 19,
     "metadata": {},
     "output_type": "execute_result"
    }
   ],
   "source": [
    "bow_cv.shape"
   ]
  },
  {
   "cell_type": "code",
   "execution_count": 20,
   "metadata": {},
   "outputs": [
    {
     "name": "stdout",
     "output_type": "stream",
     "text": [
      "Non zero entries in bag of words spare matrix: 50101\n"
     ]
    }
   ],
   "source": [
    "print('Non zero entries in bag of words spare matrix:', bow_cv.nnz)"
   ]
  },
  {
   "cell_type": "code",
   "execution_count": 22,
   "metadata": {},
   "outputs": [
    {
     "name": "stdout",
     "output_type": "stream",
     "text": [
      "Sparcity: 0.09435010459281869\n"
     ]
    }
   ],
   "source": [
    "sparcity = (100.0 * bow_cv.nnz / (bow_cv.shape[0] * bow_cv.shape[1]))\n",
    "print('Sparcity:', sparcity)"
   ]
  },
  {
   "cell_type": "code",
   "execution_count": 23,
   "metadata": {},
   "outputs": [
    {
     "name": "stdout",
     "output_type": "stream",
     "text": [
      "Fourth sms: U dun say so early hor... U c already then say...\n"
     ]
    }
   ],
   "source": [
    "print('Fourth sms:', sms.iloc[3]['message'])"
   ]
  },
  {
   "cell_type": "code",
   "execution_count": 57,
   "metadata": {},
   "outputs": [
    {
     "name": "stdout",
     "output_type": "stream",
     "text": [
      "Fourth sms word indices with word counts:\n",
      "  (0, 1129)\t1\n",
      "  (0, 1910)\t1\n",
      "  (0, 3002)\t1\n",
      "  (0, 3023)\t1\n",
      "  (0, 4219)\t1\n",
      "  (0, 7208)\t2\n",
      "  (0, 8626)\t2\n"
     ]
    }
   ],
   "source": [
    "print('Fourth sms word indices with word counts:\\n{}'.format(bow_cv[3]))"
   ]
  },
  {
   "cell_type": "code",
   "execution_count": 60,
   "metadata": {},
   "outputs": [
    {
     "name": "stdout",
     "output_type": "stream",
     "text": [
      "Fourth sms words with word counts:\n",
      "already \t 1\n",
      "c \t 1\n",
      "dun \t 1\n",
      "early \t 1\n",
      "hor \t 1\n",
      "say \t 2\n",
      "u \t 2\n"
     ]
    }
   ],
   "source": [
    "print('Fourth sms words with word counts:')\n",
    "for word_index in bow_cv[3].indices:\n",
    "    print(cv.get_feature_names()[word_index], '\\t', bow_cv[3, word_index])"
   ]
  },
  {
   "cell_type": "code",
   "execution_count": 27,
   "metadata": {},
   "outputs": [
    {
     "data": {
      "text/plain": [
       "TfidfTransformer(norm='l2', smooth_idf=True, sublinear_tf=False, use_idf=True)"
      ]
     },
     "execution_count": 27,
     "metadata": {},
     "output_type": "execute_result"
    }
   ],
   "source": [
    "tfidf = TfidfTransformer()\n",
    "tfidf"
   ]
  },
  {
   "cell_type": "code",
   "execution_count": 28,
   "metadata": {},
   "outputs": [
    {
     "data": {
      "text/plain": [
       "TfidfTransformer(norm='l2', smooth_idf=True, sublinear_tf=False, use_idf=True)"
      ]
     },
     "execution_count": 28,
     "metadata": {},
     "output_type": "execute_result"
    }
   ],
   "source": [
    "tfidf.fit(bow_cv)"
   ]
  },
  {
   "cell_type": "code",
   "execution_count": 29,
   "metadata": {},
   "outputs": [
    {
     "data": {
      "text/plain": [
       "<5572x9530 sparse matrix of type '<class 'numpy.float64'>'\n",
       "\twith 50101 stored elements in Compressed Sparse Row format>"
      ]
     },
     "execution_count": 29,
     "metadata": {},
     "output_type": "execute_result"
    }
   ],
   "source": [
    "bow_tfidf = tfidf.transform(bow_cv)\n",
    "bow_tfidf"
   ]
  },
  {
   "cell_type": "code",
   "execution_count": 30,
   "metadata": {},
   "outputs": [
    {
     "name": "stdout",
     "output_type": "stream",
     "text": [
      "Fourth sms with term frequency inverse document frequency:\n",
      "  (0, 8626)\t0.319491587697\n",
      "  (0, 7208)\t0.559700094048\n",
      "  (0, 4219)\t0.464527625007\n",
      "  (0, 3023)\t0.335574365269\n",
      "  (0, 3002)\t0.309125465389\n",
      "  (0, 1910)\t0.287037034059\n",
      "  (0, 1129)\t0.279850047024\n"
     ]
    }
   ],
   "source": [
    "print('Fourth sms with term frequency inverse document frequency:\\n{}'.format(bow_tfidf[3]))"
   ]
  },
  {
   "cell_type": "code",
   "execution_count": 61,
   "metadata": {},
   "outputs": [
    {
     "name": "stdout",
     "output_type": "stream",
     "text": [
      "Fourth sms words with TF-IDF:\n",
      "u \t 0.319491587697\n",
      "say \t 0.559700094048\n",
      "hor \t 0.464527625007\n",
      "early \t 0.335574365269\n",
      "dun \t 0.309125465389\n",
      "c \t 0.287037034059\n",
      "already \t 0.279850047024\n"
     ]
    }
   ],
   "source": [
    "print('Fourth sms words with TF-IDF:')\n",
    "for word_index in bow_tfidf[3].indices:\n",
    "    print(cv.get_feature_names()[word_index], '\\t', bow_tfidf[3, word_index])"
   ]
  },
  {
   "cell_type": "code",
   "execution_count": 48,
   "metadata": {},
   "outputs": [
    {
     "name": "stdout",
     "output_type": "stream",
     "text": [
      "IDF of word \"already\": 5.13705241784\n"
     ]
    }
   ],
   "source": [
    "print('IDF of word \"already\":', tfidf.idf_[cv.vocabulary_['already']])"
   ]
  },
  {
   "cell_type": "code",
   "execution_count": 100,
   "metadata": {
    "collapsed": true
   },
   "outputs": [],
   "source": [
    "X = bow_tfidf\n",
    "y = sms['label']"
   ]
  },
  {
   "cell_type": "code",
   "execution_count": 101,
   "metadata": {},
   "outputs": [
    {
     "data": {
      "text/plain": [
       "(3900, 1672)"
      ]
     },
     "execution_count": 101,
     "metadata": {},
     "output_type": "execute_result"
    }
   ],
   "source": [
    "X_train, X_test, y_train, y_test = train_test_split(X, y, test_size=0.3)\n",
    "X_train.shape[0], X_test.shape[0]"
   ]
  },
  {
   "cell_type": "code",
   "execution_count": 102,
   "metadata": {
    "collapsed": true
   },
   "outputs": [],
   "source": [
    "model = MultinomialNB()"
   ]
  },
  {
   "cell_type": "code",
   "execution_count": 103,
   "metadata": {},
   "outputs": [
    {
     "data": {
      "text/plain": [
       "MultinomialNB(alpha=1.0, class_prior=None, fit_prior=True)"
      ]
     },
     "execution_count": 103,
     "metadata": {},
     "output_type": "execute_result"
    }
   ],
   "source": [
    "model.fit(X_train, y_train)"
   ]
  },
  {
   "cell_type": "code",
   "execution_count": 104,
   "metadata": {},
   "outputs": [],
   "source": [
    "y_pred = model.predict(X_test)"
   ]
  },
  {
   "cell_type": "code",
   "execution_count": 105,
   "metadata": {},
   "outputs": [
    {
     "data": {
      "text/plain": [
       "0.95633971291866027"
      ]
     },
     "execution_count": 105,
     "metadata": {},
     "output_type": "execute_result"
    }
   ],
   "source": [
    "accuracy_score(y_pred, y_test)"
   ]
  },
  {
   "cell_type": "markdown",
   "metadata": {},
   "source": [
    "TODO:\n",
    "use pipeline"
   ]
  },
  {
   "cell_type": "code",
   "execution_count": null,
   "metadata": {
    "collapsed": true
   },
   "outputs": [],
   "source": []
  }
 ],
 "metadata": {
  "kernelspec": {
   "display_name": "Python [conda env:py36]",
   "language": "python",
   "name": "conda-env-py36-py"
  },
  "language_info": {
   "codemirror_mode": {
    "name": "ipython",
    "version": 3
   },
   "file_extension": ".py",
   "mimetype": "text/x-python",
   "name": "python",
   "nbconvert_exporter": "python",
   "pygments_lexer": "ipython3",
   "version": "3.6.1"
  }
 },
 "nbformat": 4,
 "nbformat_minor": 2
}
